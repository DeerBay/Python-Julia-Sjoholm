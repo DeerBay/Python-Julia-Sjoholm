{
 "cells": [
  {
   "cell_type": "markdown",
   "metadata": {},
   "source": [
    "# 1. Count numbers (*)\n",
    "Use a while statement to count from -10 to 10 with one increment."
   ]
  },
  {
   "cell_type": "code",
   "execution_count": 21,
   "metadata": {},
   "outputs": [
    {
     "name": "stdout",
     "output_type": "stream",
     "text": [
      "-10, -9, -8, -7, -6, -5, -4, -3, -2, -1, 0, 1, 2, 3, 4, 5, 6, 7, 8, 9, 10, "
     ]
    }
   ],
   "source": [
    "x = -10\n",
    "\n",
    "while x <= 10: \n",
    "    print(f\"{x}\", end=\", \")\n",
    "    x += 1\n",
    "      "
   ]
  },
  {
   "cell_type": "markdown",
   "metadata": {},
   "source": [
    "2. Arithmetic sum (*)\n",
    "Use a while statement to compute the following sums:\n",
    "\n",
    "  a)   sum = 1 + 2 + ...99 + 100 =\n",
    "\n",
    "  b)   sum = 1 + 3 + 5...+97 + 99 ="
   ]
  },
  {
   "cell_type": "code",
   "execution_count": 38,
   "metadata": {},
   "outputs": [
    {
     "name": "stdout",
     "output_type": "stream",
     "text": [
      "1 + 2 + 3 + 4 + 5 + 6 + 7 + 8 + 9 + 10 + 11 + 12 + 13 + 14 + 15 + 16 + 17 + 18 + 19 + 20 + 21 + 22 + 23 + 24 + 25 + 26 + 27 + 28 + 29 + 30 + 31 + 32 + 33 + 34 + 35 + 36 + 37 + 38 + 39 + 40 + 41 + 42 + 43 + 44 + 45 + 46 + 47 + 48 + 49 + 50 + 51 + 52 + 53 + 54 + 55 + 56 + 57 + 58 + 59 + 60 + 61 + 62 + 63 + 64 + 65 + 66 + 67 + 68 + 69 + 70 + 71 + 72 + 73 + 74 + 75 + 76 + 77 + 78 + 79 + 80 + 81 + 82 + 83 + 84 + 85 + 86 + 87 + 88 + 89 + 90 + 91 + 92 + 93 + 94 + 95 + 96 + 97 + 98 + 99 + 100 = 5050\n"
     ]
    }
   ],
   "source": [
    "import math\n",
    "i = 1\n",
    "sum = 1\n",
    "\n",
    "while i < 100:\n",
    "    print(f\"{i}\", end=\" + \")\n",
    "    i += 1\n",
    "    sum += i\n",
    "    \n",
    "print(f\"{i} = {sum}\")"
   ]
  },
  {
   "cell_type": "code",
   "execution_count": 35,
   "metadata": {},
   "outputs": [
    {
     "name": "stdout",
     "output_type": "stream",
     "text": [
      "1 + 3 + 5 + 7 + 9 + 11 + 13 + 15 + 17 + 19 + 21 + 23 + 25 + 27 + 29 + 31 + 33 + 35 + 37 + 39 + 41 + 43 + 45 + 47 + 49 + 51 + 53 + 55 + 57 + 59 + 61 + 63 + 65 + 67 + 69 + 71 + 73 + 75 + 77 + 79 + 81 + 83 + 85 + 87 + 89 + 91 + 93 + 95 + 97 + 99 = 2500\n"
     ]
    }
   ],
   "source": [
    "import math\n",
    "i = 1\n",
    "sum = 1\n",
    "\n",
    "while i < 99:\n",
    "    print(f\"{i}\", end=\" + \")\n",
    "    i += 2\n",
    "    sum += i\n",
    " \n",
    "print(f\"{i} = {sum}\")"
   ]
  },
  {
   "cell_type": "markdown",
   "metadata": {},
   "source": [
    "# 3. Guess number game (*)"
   ]
  },
  {
   "cell_type": "code",
   "execution_count": 48,
   "metadata": {},
   "outputs": [
    {
     "name": "stdout",
     "output_type": "stream",
     "text": [
      "36\n",
      "85\n",
      "81\n",
      "86\n",
      "90\n",
      "Congratulations you wrote 99, that is the correct number!\n"
     ]
    }
   ],
   "source": [
    "# 3A\n",
    "import random\n",
    "correct_num = random.randint(1,100)\n",
    "guess_bot = random.randint(1,100)\n",
    "\n",
    "while guess_bot != correct_num:\n",
    "    print(guess_bot)\n",
    "    guess_bot = random.randint(1,100)\n",
    "else:\n",
    "    print(f\"Congratulations you wrote {guess_bot}, that is the correct number!\" )"
   ]
  },
  {
   "cell_type": "code",
   "execution_count": 49,
   "metadata": {},
   "outputs": [],
   "source": [
    "# 3B"
   ]
  },
  {
   "cell_type": "markdown",
   "metadata": {},
   "source": [
    "# 4. Multiplication game (*)"
   ]
  },
  {
   "cell_type": "code",
   "execution_count": 56,
   "metadata": {},
   "outputs": [
    {
     "name": "stdout",
     "output_type": "stream",
     "text": [
      "Thats right!\n",
      "7*7=49\n"
     ]
    }
   ],
   "source": [
    "x = random.randint(1,10)\n",
    "y = random.randint(1,10)\n",
    "xy = x * y\n",
    "tries = 10\n",
    "\n",
    "while tries > 0:\n",
    "    user_guess = int(input(f\"What is the sum of {x}*{y}? \"))\n",
    "    if xy == user_guess:\n",
    "        print(\"Thats right!\")\n",
    "        print(f\"{x}*{y}={xy}\")\n",
    "        break\n",
    "input(\"Do you want to play again? \")\n",
    "\n",
    "    "
   ]
  }
 ],
 "metadata": {
  "kernelspec": {
   "display_name": "Python-Julia-Sjoholm-dUE-HgBH",
   "language": "python",
   "name": "python3"
  },
  "language_info": {
   "codemirror_mode": {
    "name": "ipython",
    "version": 3
   },
   "file_extension": ".py",
   "mimetype": "text/x-python",
   "name": "python",
   "nbconvert_exporter": "python",
   "pygments_lexer": "ipython3",
   "version": "3.11.5"
  },
  "orig_nbformat": 4
 },
 "nbformat": 4,
 "nbformat_minor": 2
}
