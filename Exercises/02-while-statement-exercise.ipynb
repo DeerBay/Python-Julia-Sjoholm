{
 "cells": [
  {
   "cell_type": "markdown",
   "metadata": {},
   "source": [
    "# 1. Count numbers (*)\n",
    "Use a while statement to count from -10 to 10 with one increment."
   ]
  },
  {
   "cell_type": "code",
   "execution_count": null,
   "metadata": {},
   "outputs": [],
   "source": [
    "x = -10\n",
    "\n",
    "while x <= 10: \n",
    "    print(f\"{x}\", end=\", \")\n",
    "    x += 1\n",
    "      "
   ]
  },
  {
   "cell_type": "markdown",
   "metadata": {},
   "source": [
    "2. Arithmetic sum (*)\n",
    "Use a while statement to compute the following sums:\n",
    "\n",
    "  a)   sum = 1 + 2 + ...99 + 100 =\n",
    "\n",
    "  b)   sum = 1 + 3 + 5...+97 + 99 ="
   ]
  },
  {
   "cell_type": "code",
   "execution_count": null,
   "metadata": {},
   "outputs": [],
   "source": [
    "import math\n",
    "i = 1\n",
    "sum = 1\n",
    "\n",
    "while i < 100:\n",
    "    print(f\"{i}\", end=\" + \")\n",
    "    i += 1\n",
    "    sum += i\n",
    "    \n",
    "print(f\"{i} = {sum}\")"
   ]
  },
  {
   "cell_type": "code",
   "execution_count": null,
   "metadata": {},
   "outputs": [],
   "source": [
    "import math\n",
    "i = 1\n",
    "sum = 1\n",
    "\n",
    "while i < 99:\n",
    "    print(f\"{i}\", end=\" + \")\n",
    "    i += 2\n",
    "    sum += i\n",
    " \n",
    "print(f\"{i} = {sum}\")"
   ]
  },
  {
   "cell_type": "markdown",
   "metadata": {},
   "source": [
    "# 3. Guess number game (*)"
   ]
  },
  {
   "cell_type": "code",
   "execution_count": null,
   "metadata": {},
   "outputs": [],
   "source": [
    "# 3A\n",
    "import random\n",
    "correct_num = random.randint(1,100)\n",
    "guess_bot = random.randint(1,100)\n",
    "\n",
    "while guess_bot != correct_num:\n",
    "    print(guess_bot)\n",
    "    guess_bot = random.randint(1,100)\n",
    "else:\n",
    "    print(f\"Congratulations you wrote {guess_bot}, that is the correct number!\" )"
   ]
  },
  {
   "cell_type": "code",
   "execution_count": null,
   "metadata": {},
   "outputs": [],
   "source": [
    "# 3B \n",
    "#Make an algorithm to automatically guess the correct number. Can you optimize to get as few guesses as possible? (**)\n",
    "# Hint: Half your testing number each time.\n",
    "\n",
    "# Need help with this one"
   ]
  },
  {
   "cell_type": "markdown",
   "metadata": {},
   "source": [
    "# 4. Multiplication game (*)"
   ]
  },
  {
   "cell_type": "code",
   "execution_count": null,
   "metadata": {},
   "outputs": [],
   "source": [
    "import random\n",
    "\n",
    "def play_game():\n",
    "    x = random.randint(1, 10)\n",
    "    y = random.randint(1, 10)\n",
    "    xy = x * y\n",
    "    tries = 10\n",
    "    score = 0\n",
    "\n",
    "    try:\n",
    "        while tries > 0:\n",
    "            user_guess = int(input(f\"What is the sum of {x}*{y}? \"))\n",
    "            if xy == user_guess:\n",
    "                print(\"That's right!\")\n",
    "                print(f\"{x}*{y}={xy}\")\n",
    "                score += 1  # Increment the score by 1 for each correct guess\n",
    "                print(f\"Your score: {score}\")\n",
    "                break\n",
    "            else:\n",
    "                print(\"Incorrect guess. Try again.\")\n",
    "                tries -= 1  # Decrement the number of tries\n",
    "\n",
    "        play_again = input(\"Do you want to play again? (yes/no): \")\n",
    "        return play_again.lower() == 'yes', score\n",
    "    except ValueError:\n",
    "        print(\"Error: Please enter a valid numeric value.\")\n",
    "        return True, score  # Start the game over on error\n",
    "\n",
    "total_score = 0\n",
    "play = True\n",
    "\n",
    "while play:\n",
    "    play, game_score = play_game()\n",
    "    total_score += game_score\n",
    "\n",
    "print(f\"Thank you for playing! Your total score: {total_score}\")\n",
    "\n"
   ]
  },
  {
   "cell_type": "code",
   "execution_count": 11,
   "metadata": {},
   "outputs": [
    {
     "name": "stdout",
     "output_type": "stream",
     "text": [
      "Printing current and previous number and their sum in a range(10)\n",
      "Current Number: 0, Previous Number: 0 Sum = 0\n"
     ]
    }
   ],
   "source": [
    "print(\"Printing current and previous number and their sum in a range(10)\")\n",
    "\n",
    "previous_num = 0\n",
    "\n",
    "for i in range(0,10):\n",
    "    x_sum = previous_num + i\n",
    "    print(f\"Current Number: {i}, Previous Number: {previous_num} Sum = {x_sum}\")\n",
    "    previous_num = i"
   ]
  },
  {
   "cell_type": "code",
   "execution_count": 3,
   "metadata": {},
   "outputs": [
    {
     "name": "stdout",
     "output_type": "stream",
     "text": [
      "Original String: This is so hard to read\n",
      "Printing only even index chars\n",
      "index[0] T\n",
      "index[2] i\n",
      "index[4]  \n",
      "index[6] s\n",
      "index[8] s\n",
      "index[10]  \n",
      "index[12] a\n",
      "index[14] d\n",
      "index[16] t\n",
      "index[18]  \n",
      "index[20] e\n",
      "index[22] d\n"
     ]
    }
   ],
   "source": [
    "# accept input string from a user\n",
    "word = input('Enter word ')\n",
    "print(f\"Original String: {word}\")\n",
    "\n",
    "# get the length of a string\n",
    "size = len(word)\n",
    "\n",
    "# iterate a each character of a string\n",
    "# start: 0 to start with first character\n",
    "# stop: size-1 because index starts with 0\n",
    "# step: 2 to get the characters present at even index like 0, 2, 4\n",
    "print(\"Printing only even index chars\")\n",
    "for i in range(0, size , 2):\n",
    "    print(f\"index[{i}] {word[i]}\")"
   ]
  },
  {
   "cell_type": "code",
   "execution_count": 10,
   "metadata": {},
   "outputs": [
    {
     "name": "stdout",
     "output_type": "stream",
     "text": [
      "Orginial word: juni\n"
     ]
    },
    {
     "ename": "TypeError",
     "evalue": "'builtin_function_or_method' object is not subscriptable",
     "output_type": "error",
     "traceback": [
      "\u001b[1;31m---------------------------------------------------------------------------\u001b[0m",
      "\u001b[1;31mTypeError\u001b[0m                                 Traceback (most recent call last)",
      "Cell \u001b[1;32mIn[10], line 6\u001b[0m\n\u001b[0;32m      3\u001b[0m n \u001b[39m=\u001b[39m \u001b[39m\"\u001b[39m\u001b[39mn\u001b[39m\u001b[39m\"\u001b[39m\n\u001b[0;32m      5\u001b[0m \u001b[39mif\u001b[39;00m n \u001b[39min\u001b[39;00m word:\n\u001b[1;32m----> 6\u001b[0m     remove_char \u001b[39m=\u001b[39m word\u001b[39m.\u001b[39;49msplit[n:i]\n\u001b[0;32m      7\u001b[0m     \u001b[39mprint\u001b[39m(remove_char)\n",
      "\u001b[1;31mTypeError\u001b[0m: 'builtin_function_or_method' object is not subscriptable"
     ]
    }
   ],
   "source": [
    "word = input(\"Write a word: \")\n",
    "print(f\"Orginial word: {word}\")\n",
    "n = \"n\"\n",
    "\n",
    "if n in word:\n",
    "    remove_char = word.split[n:i]\n",
    "    print(remove_char)"
   ]
  }
 ],
 "metadata": {
  "kernelspec": {
   "display_name": "Python-Julia-Sjoholm-dUE-HgBH",
   "language": "python",
   "name": "python3"
  },
  "language_info": {
   "codemirror_mode": {
    "name": "ipython",
    "version": 3
   },
   "file_extension": ".py",
   "mimetype": "text/x-python",
   "name": "python",
   "nbconvert_exporter": "python",
   "pygments_lexer": "ipython3",
   "version": "3.11.5"
  },
  "orig_nbformat": 4
 },
 "nbformat": 4,
 "nbformat_minor": 2
}
