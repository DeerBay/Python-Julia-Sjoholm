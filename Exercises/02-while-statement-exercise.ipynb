{
 "cells": [
  {
   "cell_type": "markdown",
   "metadata": {},
   "source": [
    "# 1. Count numbers (*)\n",
    "Use a while statement to count from -10 to 10 with one increment."
   ]
  },
  {
   "cell_type": "code",
   "execution_count": 1,
   "metadata": {},
   "outputs": [
    {
     "name": "stdout",
     "output_type": "stream",
     "text": [
      "-10, -9, -8, -7, -6, -5, -4, -3, -2, -1, 0, 1, 2, 3, 4, 5, 6, 7, 8, 9, 10, "
     ]
    }
   ],
   "source": [
    "x = -10\n",
    "\n",
    "while x <= 10: \n",
    "    print(f\"{x}\", end=\", \")\n",
    "    x += 1\n",
    "      "
   ]
  },
  {
   "cell_type": "markdown",
   "metadata": {},
   "source": [
    "2. Arithmetic sum (*)\n",
    "Use a while statement to compute the following sums:\n",
    "\n",
    "  a)   sum = 1 + 2 + ...99 + 100 =\n",
    "\n",
    "  b)   sum = 1 + 3 + 5...+97 + 99 ="
   ]
  },
  {
   "cell_type": "code",
   "execution_count": 2,
   "metadata": {},
   "outputs": [
    {
     "name": "stdout",
     "output_type": "stream",
     "text": [
      "1 + 2 + 3 + 4 + 5 + 6 + 7 + 8 + 9 + 10 + 11 + 12 + 13 + 14 + 15 + 16 + 17 + 18 + 19 + 20 + 21 + 22 + 23 + 24 + 25 + 26 + 27 + 28 + 29 + 30 + 31 + 32 + 33 + 34 + 35 + 36 + 37 + 38 + 39 + 40 + 41 + 42 + 43 + 44 + 45 + 46 + 47 + 48 + 49 + 50 + 51 + 52 + 53 + 54 + 55 + 56 + 57 + 58 + 59 + 60 + 61 + 62 + 63 + 64 + 65 + 66 + 67 + 68 + 69 + 70 + 71 + 72 + 73 + 74 + 75 + 76 + 77 + 78 + 79 + 80 + 81 + 82 + 83 + 84 + 85 + 86 + 87 + 88 + 89 + 90 + 91 + 92 + 93 + 94 + 95 + 96 + 97 + 98 + 99 + 100 = 5050\n"
     ]
    }
   ],
   "source": [
    "import math\n",
    "i = 1\n",
    "sum = 1\n",
    "\n",
    "while i < 100:\n",
    "    print(f\"{i}\", end=\" + \")\n",
    "    i += 1\n",
    "    sum += i\n",
    "    \n",
    "print(f\"{i} = {sum}\")"
   ]
  },
  {
   "cell_type": "code",
   "execution_count": 2,
   "metadata": {},
   "outputs": [
    {
     "name": "stdout",
     "output_type": "stream",
     "text": [
      "1 + 3 + 5 + 7 + 9 + 11 + 13 + 15 + 17 + 19 + 21 + 23 + 25 + 27 + 29 + 31 + 33 + 35 + 37 + 39 + 41 + 43 + 45 + 47 + 49 + 51 + 53 + 55 + 57 + 59 + 61 + 63 + 65 + 67 + 69 + 71 + 73 + 75 + 77 + 79 + 81 + 83 + 85 + 87 + 89 + 91 + 93 + 95 + 97 + 99 = 2500\n"
     ]
    }
   ],
   "source": [
    "import math\n",
    "i = 1\n",
    "sum = 1\n",
    "\n",
    "while i < 99:\n",
    "    print(f\"{i}\", end=\" + \")\n",
    "    i += 2\n",
    "    sum += i\n",
    " \n",
    "print(f\"{i} = {sum}\")"
   ]
  },
  {
   "cell_type": "markdown",
   "metadata": {},
   "source": [
    "# 3. Guess number game (*)"
   ]
  },
  {
   "cell_type": "code",
   "execution_count": null,
   "metadata": {},
   "outputs": [],
   "source": [
    "# 3A\n",
    "import random\n",
    "correct_num = random.randint(1,100)\n",
    "guess_bot = random.randint(1,100)\n",
    "\n",
    "while guess_bot != correct_num:\n",
    "    print(guess_bot)\n",
    "    guess_bot = random.randint(1,100)\n",
    "else:\n",
    "    print(f\"Congratulations you wrote {guess_bot}, that is the correct number!\" )"
   ]
  },
  {
   "cell_type": "code",
   "execution_count": 12,
   "metadata": {},
   "outputs": [
    {
     "name": "stdout",
     "output_type": "stream",
     "text": [
      "Guess 1: 50\n",
      "Guess lower.\n",
      "Congratulations! 25 is the correct number! It took 2 guesses.\n"
     ]
    }
   ],
   "source": [
    "# 3B \n",
    "#Make an algorithm to automatically guess the correct number. Can you optimize to get as few guesses as possible? (**)\n",
    "import random\n",
    "\n",
    "correct_num = random.randint(1, 100)\n",
    "low = 1\n",
    "high = 100\n",
    "guess_bot = 50\n",
    "guess_count = 1\n",
    "\n",
    "while guess_bot != correct_num:\n",
    "    print(f\"Guess {guess_count}: {guess_bot}\")\n",
    "\n",
    "    if guess_bot < correct_num:\n",
    "        print(\"Guess higher.\")\n",
    "        low = guess_bot + 1\n",
    "    else:\n",
    "        print(\"Guess lower.\")\n",
    "        high = guess_bot - 1\n",
    "    \n",
    "    guess_bot = (low + high) // 2\n",
    "    guess_count += 1\n",
    "\n",
    "print(f\"Congratulations! {guess_bot} is the correct number! It took {guess_count} guesses.\")\n"
   ]
  },
  {
   "cell_type": "markdown",
   "metadata": {},
   "source": [
    "# 4. Multiplication game (*)"
   ]
  },
  {
   "cell_type": "code",
   "execution_count": 6,
   "metadata": {},
   "outputs": [
    {
     "name": "stdout",
     "output_type": "stream",
     "text": [
      "Incorrect guess. Try again.\n",
      "Error: Please enter a valid numeric value.\n",
      "Error: Please enter a valid numeric value.\n",
      "That's right!\n",
      "10*4=40\n",
      "Your score: 1\n",
      "Thank you for playing! Your total score: 1\n"
     ]
    }
   ],
   "source": [
    "import random\n",
    "\n",
    "def play_game():\n",
    "    x = random.randint(1, 10)\n",
    "    y = random.randint(1, 10)\n",
    "    xy = x * y\n",
    "    tries = 10\n",
    "    score = 0\n",
    "\n",
    "    try:\n",
    "        while tries > 0:\n",
    "            user_guess = int(input(f\"What is the sum of {x}*{y}? \"))\n",
    "            if xy == user_guess:\n",
    "                print(\"That's right!\")\n",
    "                print(f\"{x}*{y}={xy}\")\n",
    "                score += 1 \n",
    "                print(f\"Your score: {score}\")\n",
    "                break\n",
    "            else:\n",
    "                print(\"Incorrect guess. Try again.\")\n",
    "                tries -= 1\n",
    "\n",
    "        play_again = input(\"Do you want to play again? (yes/no): \")\n",
    "        return play_again.lower() == 'yes', score\n",
    "    except ValueError:\n",
    "        print(\"Error: Please enter a valid numeric value.\")\n",
    "        return True, score  # Start the game over on error\n",
    "\n",
    "total_score = 0\n",
    "play = True\n",
    "\n",
    "while play:\n",
    "    play, game_score = play_game()\n",
    "    total_score += game_score\n",
    "\n",
    "print(f\"Thank you for playing! Your total score: {total_score}\")\n",
    "\n"
   ]
  },
  {
   "cell_type": "code",
   "execution_count": 13,
   "metadata": {},
   "outputs": [
    {
     "name": "stdout",
     "output_type": "stream",
     "text": [
      "Printing current and previous number and their sum in a range(10)\n",
      "Current Number: 0, Previous Number: 0 Sum = 0\n",
      "Current Number: 1, Previous Number: 0 Sum = 1\n",
      "Current Number: 2, Previous Number: 1 Sum = 3\n",
      "Current Number: 3, Previous Number: 2 Sum = 5\n",
      "Current Number: 4, Previous Number: 3 Sum = 7\n",
      "Current Number: 5, Previous Number: 4 Sum = 9\n",
      "Current Number: 6, Previous Number: 5 Sum = 11\n",
      "Current Number: 7, Previous Number: 6 Sum = 13\n",
      "Current Number: 8, Previous Number: 7 Sum = 15\n",
      "Current Number: 9, Previous Number: 8 Sum = 17\n"
     ]
    }
   ],
   "source": [
    "print(\"Printing current and previous number and their sum in a range(10)\")\n",
    "\n",
    "previous_num = 0\n",
    "\n",
    "for i in range(0,10):\n",
    "    x_sum = previous_num + i\n",
    "    print(f\"Current Number: {i}, Previous Number: {previous_num} Sum = {x_sum}\")\n",
    "    previous_num = i"
   ]
  },
  {
   "cell_type": "code",
   "execution_count": 2,
   "metadata": {},
   "outputs": [
    {
     "name": "stdout",
     "output_type": "stream",
     "text": [
      "Original String: Henna\n",
      "Printing only even index chars\n",
      "index[0] H\n",
      "index[2] n\n",
      "index[4] a\n"
     ]
    }
   ],
   "source": [
    "# accept input string from a user\n",
    "word = input('Enter word ')\n",
    "print(f\"Original String: {word}\")\n",
    "\n",
    "# get the length of a string\n",
    "size = len(word)\n",
    "\n",
    "# iterate a each character of a string\n",
    "# start: 0 to start with first character\n",
    "# stop: size-1 because index starts with 0\n",
    "# step: 2 to get the characters present at even index like 0, 2, 4\n",
    "print(\"Printing only even index chars\")\n",
    "for i in range(0, size, 2):\n",
    "    print(f\"index[{i}] {word[i]}\")"
   ]
  }
 ],
 "metadata": {
  "kernelspec": {
   "display_name": "Python-Julia-Sjoholm-dUE-HgBH",
   "language": "python",
   "name": "python3"
  },
  "language_info": {
   "codemirror_mode": {
    "name": "ipython",
    "version": 3
   },
   "file_extension": ".py",
   "mimetype": "text/x-python",
   "name": "python",
   "nbconvert_exporter": "python",
   "pygments_lexer": "ipython3",
   "version": "3.11.5"
  },
  "orig_nbformat": 4
 },
 "nbformat": 4,
 "nbformat_minor": 2
}
