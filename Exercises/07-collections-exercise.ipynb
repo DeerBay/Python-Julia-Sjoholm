{
 "cells": [
  {
   "cell_type": "markdown",
   "metadata": {},
   "source": [
    "# Collections exercises"
   ]
  },
  {
   "cell_type": "markdown",
   "metadata": {},
   "source": [
    "## *1. Print inputed values in reverse* (*)\n",
    "Create a loop that keeps asking for user input until the user inputs an empty string, then print all inputs in reverse order."
   ]
  },
  {
   "cell_type": "code",
   "execution_count": 14,
   "metadata": {},
   "outputs": [
    {
     "name": "stdout",
     "output_type": "stream",
     "text": [
      "0\n",
      "1\n",
      "2\n",
      "3\n",
      "4\n",
      "5\n"
     ]
    }
   ],
   "source": [
    "def get_user_input_values():\n",
    "    user_values = []\n",
    "    while True:\n",
    "        user_input = input(\"Enter a value (or press Enter to stop): \")\n",
    "        if user_input == \"\":\n",
    "            break\n",
    "        user_values.append(user_input)\n",
    "    return user_values\n",
    "        \n",
    "user_values = get_user_input_values()\n",
    "\n",
    "for value in user_values[::-1]:\n",
    "    print(value)"
   ]
  },
  {
   "cell_type": "markdown",
   "metadata": {},
   "source": [
    "## *2. Print a given number using words.* (*)\n",
    "Create a dictionary with 10 key-value pairs: {\"0\": \"Zero\", \"1\": \"One\", ..., \"9\": \"Nine\"}\n",
    "\n",
    "Make the program ask the user to input a number, then print the word for each number in sequence;\n",
    "\n",
    "Example\n",
    "Input: 34507\n",
    "Output: Three-Four-Five-Zero-Seven"
   ]
  },
  {
   "cell_type": "code",
   "execution_count": 38,
   "metadata": {},
   "outputs": [
    {
     "name": "stdout",
     "output_type": "stream",
     "text": [
      "89408534 converted to letters:\n",
      "Eight-Nine-Four-Zero-Eight-Five-Three-Four\n"
     ]
    }
   ],
   "source": [
    "def convert_numbers_into_letters(user_input):\n",
    "    print(f\"{user_input} converted to letters:\")\n",
    "    numbers = {\n",
    "            \"0\": \"Zero\", \n",
    "            \"1\": \"One\", \n",
    "            \"2\": \"Two\", \n",
    "            \"3\": \"Three\",\n",
    "            \"4\": \"Four\",\n",
    "            \"5\": \"Five\",\n",
    "            \"6\": \"Six\",\n",
    "            \"7\": \"Seven\",\n",
    "            \"8\": \"Eight\",\n",
    "            \"9\": \"Nine\",\n",
    "            \"+\": \"PLUS\",\n",
    "            \"-\": \"MINUS\"\n",
    "            }\n",
    "    converted_numbers = []\n",
    "    for number in user_input:\n",
    "        if number in numbers:\n",
    "            converted_numbers.append(numbers[number])\n",
    "    # Use join() to concatenate the words with \"-\" in between them\n",
    "    print(\"-\".join(converted_numbers))\n",
    "convert_numbers_into_letters(input(\"Enter a number: \"))"
   ]
  },
  {
   "cell_type": "markdown",
   "metadata": {},
   "source": [
    "# 3. Glossary training program (*)\n",
    "Create a glossary training program, where the user can test their skills on translating the names of english colors to swedish:\n",
    "\n",
    "The program should ask the user to write a color in swedish (eg. \"Type the Swedish word for 'red': )\n",
    "\n",
    "Then let the user know if it was correct (and if not, show them the correct translation)\n",
    "\n",
    "Keep asking to translate random colors until the user inputs an blank answer (\"\")\n",
    "\n",
    "Lastly let the user know how many of their translations where correct, how many they guess in total, and the ratio of correct answer (eg. \"You got 3 out of 5 correct answers. That is 60%\")"
   ]
  },
  {
   "cell_type": "markdown",
   "metadata": {},
   "source": [
    "1 Tell the user how the program works\n",
    "2 Give the user a color in swedish\n",
    "3 Ask the user to give their answer\n",
    "4 Check if answer (of no answer preceed to step 9)\n",
    "4 Check if answer is in color dictionary\n",
    "5 Check if given key color by user is = to key value\n",
    "6 If it is correct print \"Thats right, youre score is updated with one point!\"\n",
    "    6.2 Update score and rounds\n",
    "7 If it is wrong, show the user the correct answer. \n",
    "8 Repete step 2-3\n",
    "9 If no answer tell the user their result. \n"
   ]
  },
  {
   "cell_type": "code",
   "execution_count": 22,
   "metadata": {},
   "outputs": [
    {
     "name": "stdout",
     "output_type": "stream",
     "text": [
      "You will be given a color in Swedish. Enter your guess.\n",
      "If you enter the correct answer, your score will be updated with one point.\n",
      "If you want to end the game, just write 'Stop game' or enter an empty answer.\n",
      "What color is the Swedish word: grå, in English?\n"
     ]
    },
    {
     "name": "stdout",
     "output_type": "stream",
     "text": [
      "Correct! You earned 1 point.\n",
      "What color is the Swedish word: gul, in English?\n",
      "Correct! You earned 1 point.\n",
      "What color is the Swedish word: blå, in English?\n",
      "Incorrect. Try again.\n",
      "What color is the Swedish word: lila, in English?\n",
      "End of game!\n",
      "Your final score is: 2/3. That is 66% correct answers.\n"
     ]
    }
   ],
   "source": [
    "from random import choice\n",
    "\n",
    "glossary = {\n",
    "    'blå': 'blue',\n",
    "    'brun': 'brown',\n",
    "    'grå': 'grey',\n",
    "    'grön': 'green',\n",
    "    'gul': 'yellow',\n",
    "    'lila': 'violet',\n",
    "    'orange': 'orange',\n",
    "    'röd': 'red',\n",
    "    'rosa': 'pink',\n",
    "    'svart': 'black',\n",
    "    'vit': 'white',\n",
    "    'turkos': 'cyan',\n",
    "}\n",
    "\n",
    "def give_user_color():\n",
    "    color_to_guess = choice(list(glossary.keys()))\n",
    "    return color_to_guess\n",
    "\n",
    "def user_answer():\n",
    "    return input(\"Enter your guess: \").strip().lower()\n",
    "\n",
    "def check_if_right_answer(guess, color):\n",
    "    if guess == glossary[color]:\n",
    "        return True\n",
    "    else:\n",
    "        return False\n",
    "\n",
    "def main():\n",
    "\n",
    "    print(\"You will be given a color in Swedish. Enter your guess.\")\n",
    "    print(\"If you enter the correct answer, your score will be updated with one point.\")\n",
    "    print(\"If you want to end the game, just write 'Stop game' or enter an empty answer.\")\n",
    "    \n",
    "    score = 0\n",
    "    rounds = 0\n",
    "    \n",
    "    while True:\n",
    "        color_to_guess = give_user_color()\n",
    "        print(f\"What color is the Swedish word: {color_to_guess}, in English?\")\n",
    "        user_guess = user_answer()\n",
    "        \n",
    "        if user_guess == 'stop game' or user_guess == '':\n",
    "            break\n",
    "        \n",
    "        if check_if_right_answer(user_guess, color_to_guess):\n",
    "            print(\"Correct! You earned 1 point.\")\n",
    "            score += 1\n",
    "            rounds +=1\n",
    "        else:\n",
    "            print(\"Incorrect. Try again.\")\n",
    "            rounds += 1\n",
    "    print(f\"End of game!\\nYour final score is: {score}/{rounds}. That is {int((score / rounds) * 100)}% correct answers.\")\n",
    "\n",
    "main()"
   ]
  },
  {
   "cell_type": "markdown",
   "metadata": {},
   "source": [
    "## 4. Find common values between two inputs (*)\n",
    "Ask the user to input items on a comma-seperated list (1 input string)\n",
    "\n",
    "Then ask the user to input a new string of comma seperated items.\n",
    "\n",
    "Lastly, print all the items that appeared in both lists.\n",
    "\n",
    "Example\n",
    "Input A: green, red, yellow, purple, blue\n",
    "Input B: red, blue, black, white, brown\n",
    "Output: red, blu"
   ]
  },
  {
   "cell_type": "code",
   "execution_count": 37,
   "metadata": {},
   "outputs": [
    {
     "name": "stdout",
     "output_type": "stream",
     "text": [
      "list_1 =['julia', 'anders', 'sven', '0']\n",
      "list_2=['0', 'julia', 'mira', 'anna']\n",
      "The following items is identical in both lists:\n",
      "julia, 0\n"
     ]
    }
   ],
   "source": [
    "list_1 = input(\"Enter items on a comma-separated list (e.g., red, blue, green): \").replace(\" \", \"\").lower().split(\",\")\n",
    "list_2 = input(\"Enter a second comma-separated list (e.g., red, blue, green): \").replace(\" \", \"\").lower().split(\",\")\n",
    "\n",
    "print(f\"{list_1 =}\\n{list_2=}\")\n",
    "\n",
    "print(f\"The following items is identical in both lists:\")\n",
    "similar_items =[]\n",
    "for item in list_1:\n",
    "    if item in list_2 and item not in similar_items:\n",
    "        similar_items.append(item)\n",
    "\n",
    "print(\", \".join(similar_items))"
   ]
  },
  {
   "cell_type": "markdown",
   "metadata": {},
   "source": [
    "## 5. Print a given number using words (version 2). (**)\n",
    "Make the program ask the user to input any number from 0 to 99999.\n",
    "\n",
    "The program should then print out the full sequence of words for the number.\n",
    "\n",
    "Example\n",
    "Input: 34507\n",
    "Output: Thirtyfour thousand five hundred and seven"
   ]
  },
  {
   "cell_type": "code",
   "execution_count": 52,
   "metadata": {},
   "outputs": [
    {
     "name": "stdout",
     "output_type": "stream",
     "text": [
      "Input: 78909\n",
      "Output: Seventy-eight thousand, nine hundred and nine\n"
     ]
    }
   ],
   "source": [
    "from num2words import num2words\n",
    "\n",
    "user_number = int(input(\"Enter a number from 0-99999: \"))\n",
    "if 0 <= user_number <= 99999:\n",
    "    words = num2words(user_number)\n",
    "    print(f\"Input: {user_number}\\nOutput: {words.capitalize()}\")  # Capitalize the first letter of the output\n",
    "else:\n",
    "    print(\"Invalid input. Please enter a number between 0 and 99999.\")\n"
   ]
  },
  {
   "cell_type": "code",
   "execution_count": 51,
   "metadata": {},
   "outputs": [
    {
     "name": "stdout",
     "output_type": "stream",
     "text": [
      "Input: 78965\n",
      "Output: Seventy Eight Thousand Nine Hundred Sixty Five \n"
     ]
    }
   ],
   "source": [
    "# Or like this:\n",
    "def number_to_words(number):\n",
    "    units = [\"Zero\", \"One\", \"Two\", \"Three\", \"Four\", \"Five\", \"Six\", \"Seven\", \"Eight\", \"Nine\"]\n",
    "    teens = [\"\", \"Eleven\", \"Twelve\", \"Thirteen\", \"Fourteen\", \"Fifteen\", \"Sixteen\", \"Seventeen\", \"Eighteen\", \"Nineteen\"]\n",
    "    tens = [\"\", \"Ten\", \"Twenty\", \"Thirty\", \"Forty\", \"Fifty\", \"Sixty\", \"Seventy\", \"Eighty\", \"Ninety\"]\n",
    "    thousands = [\"\", \"Thousand\",]\n",
    "\n",
    "    if number == 0:\n",
    "        return \"Zero\"\n",
    "\n",
    "    words = []\n",
    "    for i in range(len(thousands)):\n",
    "        segment = number % 1000\n",
    "        number //= 1000\n",
    "        if segment > 0:\n",
    "            segment_words = []\n",
    "            if segment >= 100:\n",
    "                segment_words.append(units[segment // 100] + \" Hundred\")\n",
    "                segment %= 100\n",
    "            if segment >= 20:\n",
    "                segment_words.append(tens[segment // 10])\n",
    "                segment %= 10\n",
    "            elif segment >= 10:\n",
    "                segment_words.append(teens[segment - 10])\n",
    "                segment = 0\n",
    "            if segment > 0:\n",
    "                segment_words.append(units[segment])\n",
    "            segment_words.append(thousands[i])\n",
    "            words.insert(0, \" \".join(segment_words))\n",
    "\n",
    "    return \" \".join(words)\n",
    "\n",
    "\n",
    "number = int(input(\"Enter a number from 0 to 99999: \"))\n",
    "if 0 <= number <= 99999:\n",
    "    words = number_to_words(number)\n",
    "    print(f\"Input: {number}\\nOutput: {words}\")\n",
    "else:\n",
    "    print(\"Invalid input. Please enter a number between 0 and 99999.\")\n"
   ]
  }
 ],
 "metadata": {
  "kernelspec": {
   "display_name": "Python-Julia-Sjoholm-dUE-HgBH",
   "language": "python",
   "name": "python3"
  },
  "language_info": {
   "codemirror_mode": {
    "name": "ipython",
    "version": 3
   },
   "file_extension": ".py",
   "mimetype": "text/x-python",
   "name": "python",
   "nbconvert_exporter": "python",
   "pygments_lexer": "ipython3",
   "version": "3.11.5"
  },
  "orig_nbformat": 4
 },
 "nbformat": 4,
 "nbformat_minor": 2
}
