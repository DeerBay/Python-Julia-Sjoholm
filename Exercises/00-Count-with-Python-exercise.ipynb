{
 "cells": [
  {
   "cell_type": "markdown",
   "metadata": {},
   "source": [
    "# 1. Pythagorean theorem (*)\n",
    "  a)   A right angled triangle has the catheti: a = 3 and b = 4 length units. Compute the hypothenuse of the triangle. (*)\n",
    "\n",
    "  b)   A right angled triangle has hypothenuse c = 7.0 and a cathetus a = 5.0 length units. Compute the other cathetus and round to one decimal. (*)"
   ]
  },
  {
   "cell_type": "code",
   "execution_count": 61,
   "metadata": {},
   "outputs": [
    {
     "name": "stdout",
     "output_type": "stream",
     "text": [
      "The hypothenus is 5 length units.\n",
      "The other cathetus is 4.9 length units.\n"
     ]
    }
   ],
   "source": [
    "# 1 A)\n",
    "import math\n",
    "a = 3\n",
    "b = 4\n",
    "c = math.sqrt(a**2 + b**2)\n",
    "print(f'The hypothenus is {int(c)} length units.')\n",
    "\n",
    "# 1 B) a2 + b2 = c2\n",
    "a = 5.0\n",
    "c = 7.0\n",
    "b = math.sqrt(c ** 2 - a ** 2)\n",
    "\n",
    "print(f'The other cathetus is {round(b, 1)} length units.') #round is a function that returns a float\n",
    "#print(f'{b:.1f}') a f-string gives a formatted string with 1 decimal... se fredriks kommentar "
   ]
  },
  {
   "cell_type": "markdown",
   "metadata": {},
   "source": [
    "\n",
    "# 2. Classification accuracy (*)\n",
    "A machine learning algorithm has been trained to predict whether or not it would rain the next day. Out of 365 predictions, it got 300 correct, compute the accuracy of this model."
   ]
  },
  {
   "cell_type": "code",
   "execution_count": 62,
   "metadata": {},
   "outputs": [
    {
     "name": "stdout",
     "output_type": "stream",
     "text": [
      "The classification accuracy was 0.8219 or 82.19% true.\n"
     ]
    }
   ],
   "source": [
    "# 2\n",
    "\n",
    "correctPredictions = 300\n",
    "incorrectPredictions = 65\n",
    "\n",
    "decimal = float(correctPredictions) / float(correctPredictions + incorrectPredictions)\n",
    "procent = float(decimal * 100)\n",
    "\n",
    "accuracy = (correctPredictions / (correctPredictions + incorrectPredictions))\n",
    "print(f'The classification accuracy was {round(decimal, 4)} or {round(procent, 2)}% true.')"
   ]
  },
  {
   "cell_type": "markdown",
   "metadata": {},
   "source": [
    "\n",
    "# 3. Classification accuracy (*)\n",
    "A machine learning model has been trained to detect fire.\n",
    "\n",
    "a) Calculated the accuracy using the following formula: TP+T / TP+TN+FP+FN\n",
    "\n",
    "b) Is this a good modell?"
   ]
  },
  {
   "cell_type": "code",
   "execution_count": 63,
   "metadata": {},
   "outputs": [
    {
     "name": "stdout",
     "output_type": "stream",
     "text": [
      "The accuracy of this model is 0.987.\n"
     ]
    }
   ],
   "source": [
    "# 3 a)\n",
    "truePositive = 2\n",
    "falsePositive = 2\n",
    "falseNegative = 11\n",
    "trueNegative = 985\n",
    "\n",
    "accuracy2 = float(truePositive + trueNegative) / float(truePositive + falsePositive + falseNegative + trueNegative)\n",
    "\n",
    "print(f'The accuracy of this model is {accuracy2}.')\n",
    "\n",
    "#3 b) This modell for predicting fire is based on that it almost never is a real fire (TN). So I guess this is\n",
    "# some kind of default value.\n",
    "# Since the number of FN was 11, I would say it's not a good modell, in this category it should be 0. \n",
    "# It should be alble to detect all fires. Theese 11 cases should have ended upp in TP. \n"
   ]
  },
  {
   "cell_type": "markdown",
   "metadata": {},
   "source": [
    "\n",
    "# 4. Line (*)\n",
    "Compute the slope k and the constant term m of this line using the points A: (4,4) and B:(0,1)."
   ]
  },
  {
   "cell_type": "code",
   "execution_count": 67,
   "metadata": {},
   "outputs": [
    {
     "name": "stdout",
     "output_type": "stream",
     "text": [
      "Solution is k = 0.75, m = 1, so the equation is y = 0.75x + 1\n"
     ]
    }
   ],
   "source": [
    "X1 = 4\n",
    "X2 = 0\n",
    "Y1 = 4 \n",
    "Y2 = 1\n",
    "\n",
    "k = (Y2 - Y1) / (X2 - X1)\n",
    "m = Y1 - (k * X1)\n",
    "print(f'Solution is k = {k}, m = {int(m)}, so the equation is y = {k}x + {int(m)}')"
   ]
  },
  {
   "cell_type": "markdown",
   "metadata": {},
   "source": [
    "\n",
    "# 5. Euclidean distance (*)\n",
    "The Euclideam distance between the points P1 and P2 is the length of a line between them. Let P1:(3, 5) and P2: (-2, 4) and compute the distance between them."
   ]
  },
  {
   "cell_type": "code",
   "execution_count": 65,
   "metadata": {},
   "outputs": [
    {
     "name": "stdout",
     "output_type": "stream",
     "text": [
      "The distance is around 5.1 length units.\n"
     ]
    }
   ],
   "source": [
    "x1 = 3\n",
    "x2 = -2\n",
    "y1 = 5 \n",
    "y2 = 4\n",
    "distance = math.sqrt((x2 - x1)**2 + (y2 - y1)**2)\n",
    "print(f'The distance is around {round(distance, 1)} length units.')"
   ]
  },
  {
   "cell_type": "markdown",
   "metadata": {},
   "source": [
    "\n",
    "# 6. Euclidean distance in 3D (**)\n",
    "Calculate the distance between the points P1: (2, 1, 4) and P2: (3, 1, 0) "
   ]
  },
  {
   "cell_type": "code",
   "execution_count": 66,
   "metadata": {},
   "outputs": [
    {
     "name": "stdout",
     "output_type": "stream",
     "text": [
      "The distance is around 4.12 l.u.\n"
     ]
    }
   ],
   "source": [
    "p1 = 2\n",
    "p2 = 1\n",
    "p3 = 4\n",
    "q1 = 3\n",
    "q2 = 1\n",
    "q3 = 0\n",
    "\n",
    "d = math.sqrt((q1 - p1)**2 + (q2 -p2)**2 + (q3 - p3)**2)\n",
    "print(f'The distance is around {d, 2} l.u.')"
   ]
  }
 ],
 "metadata": {
  "kernelspec": {
   "display_name": "Python-Julia-Sjoholm-dUE-HgBH",
   "language": "python",
   "name": "python3"
  },
  "language_info": {
   "codemirror_mode": {
    "name": "ipython",
    "version": 3
   },
   "file_extension": ".py",
   "mimetype": "text/x-python",
   "name": "python",
   "nbconvert_exporter": "python",
   "pygments_lexer": "ipython3",
   "version": "3.11.5"
  },
  "orig_nbformat": 4
 },
 "nbformat": 4,
 "nbformat_minor": 2
}
