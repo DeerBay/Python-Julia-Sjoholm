{
 "cells": [
  {
   "cell_type": "code",
   "execution_count": null,
   "metadata": {},
   "outputs": [],
   "source": []
  },
  {
   "cell_type": "markdown",
   "metadata": {},
   "source": [
    "# OOP introductory exercises"
   ]
  },
  {
   "cell_type": "markdown",
   "metadata": {},
   "source": [
    "## 1. Step tracker\n",
    "Create a class that can be used as a step tracker. It should have a property \"steps\" that is read only; a method step() that increases \"steps\" by 1 each time it is called; and a method reset() that resets the counter.\n",
    "\n",
    "Instantiate the class, and write a loop that simulates walking 1000 steps. Then print the value of \"steps\"."
   ]
  },
  {
   "cell_type": "code",
   "execution_count": 37,
   "metadata": {},
   "outputs": [
    {
     "name": "stdout",
     "output_type": "stream",
     "text": [
      "Steps today: 1000\n",
      "Steps tomorrow: 0\n"
     ]
    }
   ],
   "source": [
    "class Step_Tracker:\n",
    "    def __init__(self, steps=0):\n",
    "        self._steps = steps\n",
    "\n",
    "    def step(self):\n",
    "        self._steps += 1\n",
    "        return self.steps\n",
    "    \n",
    "    def reset(self):\n",
    "        self._steps = 0\n",
    "        return self._steps\n",
    "\n",
    "    @property\n",
    "    def steps(self):\n",
    "        return self._steps\n",
    "\n",
    "person = Step_Tracker()\n",
    "\n",
    "for step in range(1000):\n",
    "    person.step()\n",
    "print(f\"Steps today: {person.steps}\")\n",
    "print(f\"Steps tomorrow: {person.reset()}\")"
   ]
  },
  {
   "cell_type": "markdown",
   "metadata": {},
   "source": [
    "## 2. Empty/full glass simulator (*)\n",
    "Create a class that represents a glass of water. It should have a method for filling the glass, and another method for emptying the glass. Also, there needs to be an internal/private attribute that keeps track of if the glass is empty or full. Depending on the current state (empty/full), the method that fills the glass should print either \"Filling the glass with water\" or \"The glass is already full\". The other method should print either \"Emptying the glass\" or \"The glass is already empty\".\n",
    "\n",
    "**Additional exercise:** Add another method to break the glass. Every glass (instance) keeps track of it's internal state, and prints what happens when the different methods are executed. Eg. \"The glass breaks. Now there is water all over the floor\", or \"The glass can not be filled, since it's broken\", etc."
   ]
  },
  {
   "cell_type": "code",
   "execution_count": 58,
   "metadata": {},
   "outputs": [
    {
     "name": "stdout",
     "output_type": "stream",
     "text": [
      "Filling the glass with water.\n",
      "Emptying the glass!\n",
      "The glass breaks. At least it was empty.\n",
      "Seems like there is no need to empty since you already did this when you broke it.\n",
      "You need a new glass or some glue and patience since this one is broken.\n",
      "Good job mending, just let it dry for a bit before you fill it up.\n",
      "Filling the glass with water.\n",
      "Klunk, klunk, klunk!\n",
      "Ops, this one was empty, fill it up if you are thirsty.\n"
     ]
    }
   ],
   "source": [
    "class Glass:\n",
    "    def __init__(self, content=False, shape=True):\n",
    "        self._is_content = content\n",
    "        self._shape = shape\n",
    "\n",
    "    def fill_glass(self):\n",
    "        if self._shape is False:\n",
    "            print(\"You need a new glass or some glue and patience since this one is broken.\")\n",
    "        elif not self._is_content:\n",
    "            print(\"Filling the glass with water.\")\n",
    "            self._is_content = True\n",
    "        else:\n",
    "            print(\"Glass is already full!\")\n",
    "\n",
    "\n",
    "    def emptying_glass(self):\n",
    "        if not self._shape:\n",
    "            print(\"Seems like there is no need to empty since you already did this when you broke it.\")\n",
    "        elif self._is_content:\n",
    "            print(\"Emptying the glass!\")\n",
    "            self._is_content = False\n",
    "        else:\n",
    "            print(\"Glass is already empty!\")\n",
    "\n",
    "    def breaking_glass(self):\n",
    "        if self._shape and self._is_content:\n",
    "            print(\"The glass breaks. Now there is water all over the floor.\")\n",
    "            self._shape = False\n",
    "            self._is_content = False\n",
    "        elif self._shape and not self._is_content:\n",
    "            print(\"The glass breaks. At least it was empty.\")\n",
    "            self._shape = False\n",
    "        else: print(\"Your glass is already in a thousand pieces...\")\n",
    "\n",
    "    def mend_glass(self):\n",
    "        if not self._shape:\n",
    "            print(\"Good job mending, just let it dry for a bit before you fill it up.\")\n",
    "            self._shape = True\n",
    "        else:\n",
    "            print(\"This glass does not need mending, it is whole.\")\n",
    "    def drink_water(self):\n",
    "        if not self._shape:\n",
    "            print(\"You must mend this before you can do anything with it!.\")\n",
    "        elif self._is_content:\n",
    "            print(\"Klunk, klunk, klunk!\")\n",
    "            self._is_content = False\n",
    "        else:\n",
    "            print(\"Ops, this one was empty, fill it up if you are thirsty.\")\n",
    "\n",
    "    @property\n",
    "    def content(self):\n",
    "        return \"Glass is full!\" if self._is_content else \"Glass is empty.\"\n",
    "\n",
    "    @property\n",
    "    def shape(self):\n",
    "        return \"The glass is whole\" if self._shape else \"Sorry the glass is broken, go get some glue and fix it!\"\n",
    "    \n",
    "water_glass = Glass()\n",
    "\n",
    "water_glass.fill_glass()\n",
    "water_glass.emptying_glass()\n",
    "water_glass.breaking_glass()\n",
    "water_glass.emptying_glass()\n",
    "water_glass.fill_glass()\n",
    "water_glass.mend_glass()\n",
    "water_glass.fill_glass()\n",
    "water_glass.drink_water()\n",
    "water_glass.drink_water()\n",
    "\n",
    "\n"
   ]
  }
 ],
 "metadata": {
  "kernelspec": {
   "display_name": "Python-Julia-Sjoholm-dUE-HgBH",
   "language": "python",
   "name": "python3"
  },
  "language_info": {
   "codemirror_mode": {
    "name": "ipython",
    "version": 3
   },
   "file_extension": ".py",
   "mimetype": "text/x-python",
   "name": "python",
   "nbconvert_exporter": "python",
   "pygments_lexer": "ipython3",
   "version": "3.11.5"
  },
  "orig_nbformat": 4
 },
 "nbformat": 4,
 "nbformat_minor": 2
}
