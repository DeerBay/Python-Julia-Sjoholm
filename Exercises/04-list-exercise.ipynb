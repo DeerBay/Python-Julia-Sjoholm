{
 "cells": [
  {
   "cell_type": "markdown",
   "metadata": {},
   "source": [
    "# 1. Dice rolls (*)\n",
    "Simulate 10 dice rolls and append the rolls to a list or use list comprehension.\n",
    "\n",
    "  a)   sort the list in ascending order (*)\n",
    "\n",
    "  b)   sort the list in descending order (*)\n",
    "\n",
    "  c)   find the maximum and minimum value in the list (*)"
   ]
  },
  {
   "cell_type": "code",
   "execution_count": 61,
   "metadata": {},
   "outputs": [
    {
     "name": "stdout",
     "output_type": "stream",
     "text": [
      "[1, 1, 2, 2, 2, 3, 3, 3, 3, 5]\n",
      "[5, 3, 3, 3, 3, 2, 2, 2, 1, 1]\n",
      "[1, 5]\n"
     ]
    }
   ],
   "source": [
    "import random\n",
    "\n",
    "dice_rolls = []\n",
    "new_list = sorted(dice_rolls)\n",
    "trys = 10\n",
    "\n",
    "while trys > 0:\n",
    "    dice_rolls.append(random.randint(1, 6))\n",
    "    trys -= 1\n",
    "    continue\n",
    "else:\n",
    "    new_list = sorted(dice_rolls)\n",
    "    print(f\"{new_list}\")\n",
    "    print(f\"{new_list[::-1]}\")\n",
    "    print(f\"{new_list[0:10:9]}\")\n",
    "    "
   ]
  },
  {
   "cell_type": "markdown",
   "metadata": {},
   "source": [
    "\n",
    "# 2. Food menu (*)\n",
    "Create a:\n",
    "\n",
    "  a)   list with the following elements: \"vegetarisk lasagne\", \"spaghetti\", \"fisk\", \"grönsakssoppa\", \"pannkakor\". (*)\n",
    "\n",
    "  b)   list with the weekdays (*)\n",
    "\n",
    "  c)   create a food menu with each day corresponding to each food item and print it out. (*)"
   ]
  },
  {
   "cell_type": "code",
   "execution_count": 76,
   "metadata": {},
   "outputs": [
    {
     "name": "stdout",
     "output_type": "stream",
     "text": [
      "['vegetarisk lasagne', 'spaghetti', 'fisk', 'grönsakssoppa', 'pannkakor']\n",
      "['mån', 'tis', 'ons', 'tors', 'fre']\n"
     ]
    },
    {
     "ename": "TypeError",
     "evalue": "list indices must be integers or slices, not tuple",
     "output_type": "error",
     "traceback": [
      "\u001b[1;31m---------------------------------------------------------------------------\u001b[0m",
      "\u001b[1;31mTypeError\u001b[0m                                 Traceback (most recent call last)",
      "Cell \u001b[1;32mIn[76], line 5\u001b[0m\n\u001b[0;32m      3\u001b[0m weekdays \u001b[39m=\u001b[39m [\u001b[39m\"\u001b[39m\u001b[39mmån\u001b[39m\u001b[39m\"\u001b[39m, \u001b[39m\"\u001b[39m\u001b[39mtis\u001b[39m\u001b[39m\"\u001b[39m, \u001b[39m\"\u001b[39m\u001b[39mons\u001b[39m\u001b[39m\"\u001b[39m, \u001b[39m\"\u001b[39m\u001b[39mtors\u001b[39m\u001b[39m\"\u001b[39m, \u001b[39m\"\u001b[39m\u001b[39mfre\u001b[39m\u001b[39m\"\u001b[39m]\n\u001b[0;32m      4\u001b[0m \u001b[39mprint\u001b[39m(weekdays)\n\u001b[1;32m----> 5\u001b[0m menu \u001b[39m=\u001b[39m [(dishes[\u001b[39m0\u001b[39;49m, \u001b[39m4\u001b[39;49m]) \u001b[39m==\u001b[39m weekdays[\u001b[39m0\u001b[39m,\u001b[39m4\u001b[39m]]\n\u001b[0;32m      6\u001b[0m \u001b[39mprint\u001b[39m(menu)\n",
      "\u001b[1;31mTypeError\u001b[0m: list indices must be integers or slices, not tuple"
     ]
    }
   ],
   "source": [
    "dishes = [\"vegetarisk lasagne\", \"spaghetti\", \"fisk\", \"grönsakssoppa\", \"pannkakor\"]\n",
    "print(dishes)\n",
    "weekdays = [\"mån\", \"tis\", \"ons\", \"tors\", \"fre\"]\n",
    "print(weekdays)\n",
    "menu = [(dishes[0, 4]) == weekdays[0,4]]\n",
    "print(menu)\n"
   ]
  },
  {
   "cell_type": "markdown",
   "metadata": {},
   "source": [
    "\n",
    "# 3. Squares (*)\n",
    "  a)   Use list comprehension to create a list of squares from -10 to 10 (*)\n",
    "\n",
    "  a)   Plot this list using matplotlib. (*)"
   ]
  },
  {
   "cell_type": "markdown",
   "metadata": {},
   "source": [
    "\n",
    "# 4. Chessboard (**)\n",
    "  a)   Create this list using **list comprehension**: (*)\n",
    "\n",
    "['A1', 'B1', 'C1', 'D1', 'E1', 'F1', 'G1', 'H1']\n",
    "  b)   Create a 2D list to hold the coordinates in a chessboard. (**)\n",
    "\n",
    "Hint\n",
    "b) Use **f-string** and create a list of characters with:\n",
    "\n",
    "list(\"ABCDEFGH)\n",
    "b) One option is to use nested list comprehension where one for-loop creates the first list and the other creates several of the first list"
   ]
  },
  {
   "cell_type": "markdown",
   "metadata": {},
   "source": [
    "\n",
    "# 5. Dice rolls convergence (**)\n",
    "Simulate:\n",
    "\n",
    "  a)   100 dice rolls and count the number of outcome six. (*)\n",
    "\n",
    "  b)   10, 100, 1000, 10000, 100000, 1000000 dice rolls. Count the number of outcome six in each simulation and store it in a list. Compute the probability of outcome six in each simulation. (**)\n",
    "\n",
    "  c)   Use matplotlib to plot this list. (*)"
   ]
  },
  {
   "cell_type": "markdown",
   "metadata": {},
   "source": [
    "\n",
    "# 6. Monte Carlo simulation (**)\n",
    "  a) Simulate 5000 uniformly distributed points between -1 and 1, \n",
    ". Now calculate the Euclidean distances between each point and the origin (0,0), \n",
    ". For \n",
    " plot the point with one color, and for \n",
    " plot the point in another color, \n",
    ". (**)\n",
    "\n",
    "  b) Calculate the fraction between number of inner points and number of outer points. What do you this will converge to when number of points reaches infinity? (**)"
   ]
  }
 ],
 "metadata": {
  "kernelspec": {
   "display_name": "Python-Julia-Sjoholm-dUE-HgBH",
   "language": "python",
   "name": "python3"
  },
  "language_info": {
   "codemirror_mode": {
    "name": "ipython",
    "version": 3
   },
   "file_extension": ".py",
   "mimetype": "text/x-python",
   "name": "python",
   "nbconvert_exporter": "python",
   "pygments_lexer": "ipython3",
   "version": "3.11.5"
  },
  "orig_nbformat": 4
 },
 "nbformat": 4,
 "nbformat_minor": 2
}
