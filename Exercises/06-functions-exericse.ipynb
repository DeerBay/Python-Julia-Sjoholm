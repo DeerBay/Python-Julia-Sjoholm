{
 "cells": [
  {
   "cell_type": "markdown",
   "metadata": {},
   "source": [
    "# 1. Area (*)\n",
    "Create a function that takes the base and height of a triangle as input parameters and returns the area of the triangle.# "
   ]
  },
  {
   "cell_type": "code",
   "execution_count": 38,
   "metadata": {},
   "outputs": [
    {
     "name": "stdout",
     "output_type": "stream",
     "text": [
      "The area of a triangel with the height: 10 and width 15 is:\n",
      " 75.0 cm2\n"
     ]
    }
   ],
   "source": [
    "\n",
    "def area(height, width):\n",
    "    return (height * width)/2\n",
    "\n",
    "user_height = 10 # float(input(\"Enter height: \"))\n",
    "user_width = 15  # float(input(\"Enter width \"))\n",
    "\n",
    "print(f\"The area of a triangel with the height: {user_height} and width {user_width} is:\\n {area(user_height, user_width)} cm2\")\n"
   ]
  },
  {
   "cell_type": "markdown",
   "metadata": {},
   "source": [
    "# 2. Euclidean distance (*)\n",
    "The formula for Euclidean distance in 2D between P: (p1, p2) and Q: (q1, q2) is:  \n",
    "d(P, Q) = sqrt(p1-q1)**2 + (p2 - q2)**2\n",
    "\n",
    "  a)   Create a function that takes two points as input parameters and return the Euclidean between them. (*)\n",
    "\n",
    "  b)   Let the user input two points. Call the function using the users input points. (*)\n",
    "\n",
    "  c)   Use your function to calculate distances between the origin (0, 0) and each of these points: (10, 3), (-1, -9), (10, -10), (4, -2), (9, -10). (*)\n",
    "\n",
    "Hint\n",
    "Use a for statement\n",
    "\n",
    "\n",
    "Answer\n",
    "c)\n",
    "\n",
    "[10.4, 9.1, 14.1, 4.5, 13.5]"
   ]
  },
  {
   "cell_type": "code",
   "execution_count": 39,
   "metadata": {},
   "outputs": [
    {
     "name": "stdout",
     "output_type": "stream",
     "text": [
      "The euclidean distance between the point (4.5, 6.67) and origin (0, 0) with the formula d(P, Q) = sqrt(p1-q1)**2 + (p2 - q2)**2 is:\n",
      " 8.046048719713298\n"
     ]
    }
   ],
   "source": [
    "# a)\n",
    "from math import sqrt as sqrt\n",
    "\n",
    "def euclidean_distance(point1, point2):\n",
    "    return sqrt((point1[0]-point2[0])**2+(point1[1]-point2[1])**2 )\n",
    "# b)\n",
    "origin = (0, 0)\n",
    "user_point = (float(input(\"Enter one number: \")), float(input(\"Enter one more numbers: \")))\n",
    "\n",
    "print(f\"The euclidean distance between the point {user_point} and origin {origin} with the formula d(P, Q) = sqrt(p1-q1)**2 + (p2 - q2)**2 is:\\n {euclidean_distance(origin, user_point)}\")"
   ]
  },
  {
   "cell_type": "code",
   "execution_count": 40,
   "metadata": {},
   "outputs": [
    {
     "name": "stdout",
     "output_type": "stream",
     "text": [
      "[10.4, 9.1, 14.1, 4.5, 13.5]\n"
     ]
    }
   ],
   "source": [
    "# c)\n",
    "\n",
    "points = (10, 3), (-1, -9), (10, -10), (4, -2), (9, -10)\n",
    "origin = (0, 0)\n",
    "distances = []\n",
    "\n",
    "for point in points:\n",
    "    distance = euclidean_distance(point, origin)\n",
    "    distances.append(round(distance, 1))\n",
    "\n",
    "print(distances)\n"
   ]
  },
  {
   "cell_type": "markdown",
   "metadata": {},
   "source": [
    "## 3. Mathematical functions (*)\n",
    "\n",
    "Make the following functions with **def** or **lambda** and plot their graphs in the same figure window, with \\(x\\in [-10,10]\\) :\n",
    "\n",
    "&nbsp; a) &nbsp;  \\(f(x) = x^2 - 3\\) (*)\n",
    "\n",
    "&nbsp; b) &nbsp; \\(g(x) = 4x - 7\\) (*)\n",
    "\n",
    "What could the relation between \\(f(x)\\) and \\(g(x)\\) be?\n",
    "\n",
    "<details>\n",
    "\n",
    "<summary>Hint</summary>\n",
    "\n",
    "Use numpy's linspace function:\n",
    "\n",
    "```python\n",
    "import numpy as np\n",
    "x = np.linspace(-10, 10)\n"
   ]
  },
  {
   "cell_type": "code",
   "execution_count": 41,
   "metadata": {},
   "outputs": [
    {
     "data": {
      "text/plain": [
       "<matplotlib.legend.Legend at 0x22f476b9a90>"
      ]
     },
     "execution_count": 41,
     "metadata": {},
     "output_type": "execute_result"
    },
    {
     "data": {
      "image/png": "[encoded data removed]",
      "text/plain": [
       "<Figure size 200x200 with 1 Axes>"
      ]
     },
     "metadata": {},
     "output_type": "display_data"
    }
   ],
   "source": [
    "import numpy as np\n",
    "import matplotlib.pyplot as plt\n",
    "\n",
    "def f(x):\n",
    "    return x**2 - 3\n",
    "\n",
    "g = lambda x: 4*x - 7\n",
    "\n",
    "x = np.linspace(-10, 10)\n",
    "y_f = f(x)\n",
    "y_g = g(x)\n",
    "\n",
    "plt.title('The functions of f(x) = x^2 -3 and g(x) = 4x-7')\n",
    "plt.plot(x, y_f, label='(f(x) = x^2 - 3)', color='orange')\n",
    "plt.plot(x, y_g, label='(g(x) = 4x - 7')\n",
    "plt.legend()\n",
    "\n",
    "# print(f\"{y_f=}\")\n",
    "# print(f\"{y_g=}\")\n",
    "\n",
    "# for point_f, point_g in zip(y_f, y_g):\n",
    "#      if point_f == point_g:\n",
    "#         print(point_f)"
   ]
  },
  {
   "cell_type": "code",
   "execution_count": null,
   "metadata": {},
   "outputs": [],
   "source": [
    "import numpy as np\n",
    "import matplotlib.pyplot as plt\n",
    "import sympy as sp\n",
    "\n",
    "# Define the variable\n",
    "x = sp.symbols('x')\n",
    "\n",
    "# Define the functions\n",
    "f = x**2 - 3\n",
    "g = 4*x - 7\n",
    "\n",
    "# Compute intersection points\n",
    "intersection_points = sp.solve(f - g, x)\n",
    "\n",
    "# Plot the functions\n",
    "x_vals = np.linspace(-10, 10, 400)\n",
    "f_vals = np.array([f.subs(x, val) for val in x_vals])\n",
    "g_vals = np.array([g.subs(x, val) for val in x_vals])\n",
    "\n",
    "plt.figure(figsize=(8, 6))\n",
    "plt.plot(x_vals, f_vals, label=r'$f(x) = x^2 - 3$', color='blue')\n",
    "plt.plot(x_vals, g_vals, label=r'$g(x) = 4x - 7$', color='green')\n",
    "\n",
    "# Mark intersection points\n",
    "intersection_x_vals = [float(intersection.evalf()) for intersection in intersection_points]\n",
    "intersection_y_vals = [f.subs(x, intersection) for intersection in intersection_x_vals]\n",
    "plt.scatter(intersection_x_vals, intersection_y_vals, color='red', label='Intersection Points')\n",
    "\n",
    "# Add labels, title, and legend\n",
    "plt.xlabel('x')\n",
    "plt.ylabel('y')\n",
    "plt.title('Graphs of $f(x)$ and $g(x)$ with Intersection Points')\n",
    "plt.legend()\n",
    "plt.grid(True)\n",
    "\n",
    "# Show the plot\n",
    "plt.show()\n",
    "\n",
    "# Print intersection points\n",
    "print(\"Intersection Points (x, y):\")\n",
    "for x_val, y_val in zip(intersection_x_vals, intersection_y_vals):\n",
    "    print(f\"({x_val:.2f}, {y_val:.2f})\")\n"
   ]
  },
  {
   "cell_type": "code",
   "execution_count": 42,
   "metadata": {},
   "outputs": [
    {
     "data": {
      "text/plain": [
       "<matplotlib.legend.Legend at 0x22f47959a90>"
      ]
     },
     "execution_count": 42,
     "metadata": {},
     "output_type": "execute_result"
    },
    {
     "data": {
      "image/png": "[encoded data removed]",
      "text/plain": [
       "<Figure size 200x200 with 1 Axes>"
      ]
     },
     "metadata": {},
     "output_type": "display_data"
    }
   ],
   "source": [
    "import numpy as np\n",
    "import matplotlib.pyplot as plt\n",
    "f = lambda x: x**2 -3\n",
    "g = lambda x: 4*x -7\n",
    "\n",
    "x = np.linspace(-10,10)\n",
    "\n",
    "plt.plot(f(x), label='f(x)')\n",
    "plt.plot(g(x), label='g(x)')\n",
    "plt.legend()"
   ]
  },
  {
   "cell_type": "code",
   "execution_count": 43,
   "metadata": {},
   "outputs": [
    {
     "data": {
      "text/plain": [
       "<matplotlib.legend.Legend at 0x22f47634050>"
      ]
     },
     "execution_count": 43,
     "metadata": {},
     "output_type": "execute_result"
    },
    {
     "data": {
      "image/png": "[encoded data removed]",
      "text/plain": [
       "<Figure size 200x200 with 1 Axes>"
      ]
     },
     "metadata": {},
     "output_type": "display_data"
    }
   ],
   "source": [
    "line, = plt.plot([1, 2, 3])\n",
    "line.set_label('Label via method')\n",
    "plt.legend()\n"
   ]
  },
  {
   "cell_type": "code",
   "execution_count": 44,
   "metadata": {},
   "outputs": [
    {
     "data": {
      "image/png": "[encoded data removed]",
      "text/plain": [
       "<Figure size 200x200 with 2 Axes>"
      ]
     },
     "metadata": {},
     "output_type": "display_data"
    }
   ],
   "source": [
    "import matplotlib.pyplot as plt\n",
    "import numpy as np\n",
    "\n",
    "fig = plt.figure()\n",
    "fig.subplots_adjust(top=0.8)\n",
    "ax1 = fig.add_subplot(211)\n",
    "ax1.set_ylabel('Voltage [V]')\n",
    "ax1.set_title('A sine wave')\n",
    "\n",
    "t = np.arange(0.0, 1.0, 0.01)\n",
    "s = np.sin(2*np.pi*t)\n",
    "line, = ax1.plot(t, s, color='blue', lw=2)\n",
    "\n",
    "# Fixing random state for reproducibility\n",
    "np.random.seed(19680801)\n",
    "\n",
    "ax2 = fig.add_axes([0.15, 0.1, 0.7, 0.3])\n",
    "n, bins, patches = ax2.hist(np.random.randn(1000), 50,\n",
    "                            facecolor='yellow', edgecolor='yellow')\n",
    "ax2.set_xlabel('Time [s]')\n",
    "\n",
    "plt.show()"
   ]
  },
  {
   "cell_type": "markdown",
   "metadata": {},
   "source": [
    "## 4. Name cleaner (*)\n",
    "Create a function that takes a name as an input and:\n",
    "\n",
    "removes all leading and trailing blank spaces\n",
    "make capitalize the first character of each name, and make the rest lowercase\n",
    "Use your function on this list of strings:\n",
    "\n",
    "[\"  MaRcUs \", \" iDA aNderSon\", \"OLOF Olofsson            \"  ]\n",
    "\n",
    "Hint Use\n",
    "- title() method\n",
    "- strip() method\n",
    "- join() method\n",
    "- split() method\n",
    "\n",
    "Answer\n",
    "Marcus\n",
    "Ida Anderson\n",
    "Olof Olofsson"
   ]
  },
  {
   "cell_type": "code",
   "execution_count": 75,
   "metadata": {},
   "outputs": [
    {
     "name": "stdout",
     "output_type": "stream",
     "text": [
      "Marcus\n",
      "Ida Anderson\n",
      "Olof Olofsson\n"
     ]
    }
   ],
   "source": [
    "def name_cleaner(name):\n",
    "    return ' '.join(name.strip().title().split())\n",
    "\n",
    "names = [\"  MaRcUs \", \" iDA aNderSon\", \"OLOF Olofsson            \"]\n",
    "\n",
    "# Clean up and replace the old names in the 'names' list\n",
    "names = [name_cleaner(name) for name in names]\n",
    "\n",
    "for name in names:\n",
    "    print(name)"
   ]
  },
  {
   "cell_type": "markdown",
   "metadata": {},
   "source": [
    "## 5. Change (**)\n",
    "Create a function that takes a value as input parameter and print out the banknotes and coins in Swedish currency representing this value. For example 5289 would give the following printout:\n",
    "\n",
    "- 5st 1000-lapp\n",
    "- 1st 200-lapp\n",
    "- 1st 50-lapp\n",
    "- 1st 20-lapp\n",
    "- 1st 10-krona\n",
    "- 1st 5-krona\n",
    "- 2st 2-krona\n",
    "\n",
    "Now let the user input a value, and use the function to calculate the change."
   ]
  },
  {
   "cell_type": "code",
   "execution_count": 106,
   "metadata": {},
   "outputs": [
    {
     "name": "stdout",
     "output_type": "stream",
     "text": [
      "You have entered the sum: 5289 SEK. This is the banknotes and coins you can get:\n",
      "5st 1000-bill\n",
      "1st 200-bill\n",
      "1st 50-bill\n",
      "1st 20-bill\n",
      "1st 10 coin\n",
      "1st 5 coin\n",
      "2st 2 coin\n",
      "Thanks for using our program to calculate the change in Swedish currency!\n"
     ]
    }
   ],
   "source": [
    "# Look at the next suggestion, this it not best practice!\n",
    "def swedish_cash(amount):\n",
    "    print(f\"You have entered the sum: {amount} SEK. This is the banknotes and coins you can get:\")\n",
    "    if amount // 1000 > 0:\n",
    "        print(f\"{amount // 1000}st 1000-bill\")\n",
    "        amount = amount % 1000\n",
    "    if amount // 500 > 0:\n",
    "        print(f\"{amount // 500}st 500-bill\")\n",
    "        amount = amount % 500\n",
    "    if amount // 200 > 0:\n",
    "        print(f\"{amount // 200}st 200-bill\")\n",
    "        amount = amount % 200\n",
    "    if amount // 100 > 0:\n",
    "        print(f\"{amount // 100}st 100-bill\")\n",
    "        amount = amount % 100\n",
    "    if amount // 50 > 0:\n",
    "        print(f\"{amount // 50}st 50-bill\")\n",
    "        amount = amount % 50\n",
    "    if amount // 20 > 0:\n",
    "        print(f\"{amount // 20}st 20-bill\")\n",
    "        amount = amount % 20\n",
    "    if amount // 10 > 0:\n",
    "        print(f\"{amount // 10}st 10 coin\")\n",
    "        amount = amount % 10\n",
    "    if amount // 5 > 0:\n",
    "        print(f\"{amount // 5}st 5 coin\")\n",
    "        amount = amount % 5\n",
    "    if amount // 2 > 0:\n",
    "        print(f\"{amount // 2}st 2 coin\")\n",
    "        amount = amount % 2\n",
    "    if amount // 1 > 0:\n",
    "        print(f\"{amount // 1}st 1 coin\")\n",
    "        amount = amount % 1\n",
    "    else:\n",
    "        print(f\"Thanks for using our program to calculate the change in Swedish currency!\")\n",
    "\n",
    "swedish_cash(5289)\n"
   ]
  },
  {
   "cell_type": "code",
   "execution_count": 109,
   "metadata": {},
   "outputs": [
    {
     "name": "stdout",
     "output_type": "stream",
     "text": [
      "You have entered the sum: 5289 SEK. This is the banknotes and coins you can get:\n",
      "5st 1000-bill\n",
      "1st 200-bill\n",
      "1st 50-bill\n",
      "1st 20-bill\n",
      "1st 10-bill\n",
      "1st 5-coin\n",
      "2st 2-coin\n",
      "Thanks for using our program to calculate the change in Swedish currency!\n"
     ]
    }
   ],
   "source": [
    "def swedish_cash(amount):\n",
    "    denominations = [1000, 500, 200, 100, 50, 20, 10, 5, 2, 1]\n",
    "    \n",
    "    print(f\"You have entered the sum: {amount} SEK. This is the banknotes and coins you can get:\")\n",
    "    \n",
    "    for denomination in denominations:\n",
    "        if amount // denomination > 0:\n",
    "            print(f\"{amount // denomination}st {denomination}-{'bill' if denomination >= 10 else 'coin'}\")\n",
    "            amount = amount % denomination\n",
    "    \n",
    "    print(\"Thanks for using our program to calculate the change in Swedish currency!\")\n",
    "\n",
    "swedish_cash(5289)"
   ]
  }
 ],
 "metadata": {
  "kernelspec": {
   "display_name": "Python-Julia-Sjoholm-dUE-HgBH",
   "language": "python",
   "name": "python3"
  },
  "language_info": {
   "codemirror_mode": {
    "name": "ipython",
    "version": 3
   },
   "file_extension": ".py",
   "mimetype": "text/x-python",
   "name": "python",
   "nbconvert_exporter": "python",
   "pygments_lexer": "ipython3",
   "version": "3.11.5"
  },
  "orig_nbformat": 4
 },
 "nbformat": 4,
 "nbformat_minor": 2
}
