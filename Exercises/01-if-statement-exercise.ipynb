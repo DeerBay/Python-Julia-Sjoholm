{
 "cells": [
  {
   "cell_type": "markdown",
   "metadata": {},
   "source": [
    "# if statements exercises"
   ]
  },
  {
   "cell_type": "markdown",
   "metadata": {},
   "source": [
    "## 1. Check sign (*)\n",
    "Ask the user to input a number and check if this number is **positive**, **negative** or **zero** and print it out."
   ]
  },
  {
   "cell_type": "code",
   "execution_count": 45,
   "metadata": {},
   "outputs": [
    {
     "name": "stdout",
     "output_type": "stream",
     "text": [
      "The number you wrote was -9.0.\n",
      "This is a negative number!\n"
     ]
    }
   ],
   "source": [
    "num1 = float (input(\"Write a number: \"))\n",
    "\n",
    "if num1 > 0:\n",
    "    print(f\"The number you wrote were {num1}.\")\n",
    "    print(\"This is a positive number!\")\n",
    "elif num1 == 0:\n",
    "    print(f\"The number you wrote were {num1}.\")\n",
    "    print(\"This is zero!\")\n",
    "elif num1 < 0:\n",
    "    print(f\"The number you wrote was {num1}.\")\n",
    "    print(\"This is a negative number!\")"
   ]
  },
  {
   "cell_type": "markdown",
   "metadata": {},
   "source": [
    "\n",
    "# 2. Smallest (*)\n",
    "Ask the user to input two numbers and check which one is the smallest and print it out."
   ]
  },
  {
   "cell_type": "code",
   "execution_count": 46,
   "metadata": {},
   "outputs": [
    {
     "name": "stdout",
     "output_type": "stream",
     "text": [
      "The smallest number given was 4.0\n"
     ]
    }
   ],
   "source": [
    "num1 = float (input(\"Write a number: \"))\n",
    "num2 = float (input(\"Write a second number: \"))\n",
    "\n",
    "if num1 < num2:\n",
    "    print(f\"The smallest number given was {num1}\")\n",
    "elif num1 > num2:\n",
    "    print(f\"The smallest number given was {num2}\")\n",
    "elif num1 == num2:\n",
    "    print(f\"The given numbers was {num1}, {num2}. These have the same value.\")"
   ]
  },
  {
   "cell_type": "markdown",
   "metadata": {},
   "source": [
    "## 3. Right angle (*)\n",
    "Ask the user to input three angles and check if the triangle has a right angle. Your code should make sure that all three angles are valid and make up a triangle."
   ]
  },
  {
   "cell_type": "code",
   "execution_count": 38,
   "metadata": {},
   "outputs": [
    {
     "name": "stdout",
     "output_type": "stream",
     "text": [
      "The angles you wrote were: 90.0, 45.0 and 46.0.This is not a triangle. The sum of the three angels should be 180.\n"
     ]
    }
   ],
   "source": [
    "#180 grader, en vinkel ska vara 90 grader.\n",
    "\n",
    "angel1 = float(input(\"Write the number of the first angel in your triangle: \"))\n",
    "angel2 = float(input(\"Write the number of the second angel in your triangle: \"))\n",
    "angel3 = float(input(\"Write the number of the third angel in your triangle: \"))\n",
    "\n",
    "if angel1 + angel2 + angel3 == 180:\n",
    "    print(\"This is a triangle\")\n",
    "    if angel1 or angel2 or angel3 == 90:\n",
    "        print(\"The triangle has a right angle!\")\n",
    "else:\n",
    "    print(f\"The angles you wrote were: {angel1}, {angel2} and {angel3}.This is not a triangle. The sum of the three angles should be 180.\")"
   ]
  },
  {
   "cell_type": "markdown",
   "metadata": {},
   "source": [
    "## 4. Medicine (*)\n",
    "The information in the following table is stated in a medicine package. Also it is stated that for children weight is more important than age."
   ]
  },
  {
   "cell_type": "code",
   "execution_count": 47,
   "metadata": {},
   "outputs": [
    {
     "name": "stdout",
     "output_type": "stream",
     "text": [
      "You are 34.0 years old and weighs 50.0 kilograms. You should take 1-2 pills.\n"
     ]
    }
   ],
   "source": [
    "age = float (input(\"What is your age? \"))\n",
    "weight = float (input(\"What is your weight? \"))\n",
    "\n",
    "if weight > 40 and age >12:\n",
    "    print(f\"You are {age} years old and weighs {weight} kilograms. You should take 1-2 pills.\")\n",
    "elif weight <= 40 and age >=7:\n",
    "    print(f\"You are {age} years old and weighs {weight} kilograms.You should take 1/2-1 pill.\")\n",
    "else:\n",
    "    print(f\"You are {age} years old and weighs {weight} kilograms.You should take a 1/2 pill.\")"
   ]
  },
  {
   "cell_type": "markdown",
   "metadata": {},
   "source": [
    "## 5. Divisible (*)\n",
    "Let the user input a number. Check if the number is\n",
    "\n",
    "1. even or odd\n",
    "2. is divisible by 5\n",
    "3. is divisble by 5 and odd"
   ]
  },
  {
   "cell_type": "markdown",
   "metadata": {},
   "source": [
    "# 6. Luggage size (*)\n",
    "The maximum allowed luggage size for boarding an airplane is:\n",
    "\n",
    "- weight: 8kg\n",
    "- dimensions: 55x40x23cm (length x width x height)\n",
    "Let the user input weight, length, width and height of the luggage. The program should check if the luggage is allowed or not."
   ]
  }
 ],
 "metadata": {
  "kernelspec": {
   "display_name": "Python-Julia-Sjoholm-dUE-HgBH",
   "language": "python",
   "name": "python3"
  },
  "language_info": {
   "codemirror_mode": {
    "name": "ipython",
    "version": 3
   },
   "file_extension": ".py",
   "mimetype": "text/x-python",
   "name": "python",
   "nbconvert_exporter": "python",
   "pygments_lexer": "ipython3",
   "version": "3.11.5"
  },
  "orig_nbformat": 4
 },
 "nbformat": 4,
 "nbformat_minor": 2
}
