{
 "cells": [
  {
   "cell_type": "markdown",
   "metadata": {},
   "source": [
    "# Övningstenta - Programmering med Python"
   ]
  },
  {
   "cell_type": "markdown",
   "metadata": {},
   "source": [
    "### Uppgift 1 (3p)\n",
    "\n",
    "Beskriv vad koden gör och vad som skrivs ut:\n",
    "\n",
    "```Python\n",
    "frukter = [\"jordgubbe\", \"vindruva\", \"grape\"]\n",
    "godfrukt = frukter[2]\n",
    "print(godfrukt[-1])\n",
    "```\n",
    "\n"
   ]
  },
  {
   "cell_type": "markdown",
   "metadata": {},
   "source": [
    "1. Skriver en lista med tre frukter som stängar till en variabel kallad frukter\n",
    "2. Skriver list item med index 2 (\"grape\")från listan med frukter till variabeln frukter  \n",
    "3. Skriver ut sista bokstaven i textsträngen \"grape\""
   ]
  },
  {
   "cell_type": "markdown",
   "metadata": {},
   "source": [
    "### Uppgift 2 (3p)\n",
    "\n",
    "Skriv en funktion som tar in en radie och en höjd som inparametrar och som returnerar volymen av en\n",
    "cylinder.\n",
    "\n",
    "Volymen för en cylinder är:\n",
    "\n",
    "V = πr²h\n",
    "\n",
    "Låt användaren mata in en radie och en höjd och kör funktionen. Tänk på att ta med lämplig felhantering.\n"
   ]
  },
  {
   "cell_type": "markdown",
   "metadata": {},
   "source": [
    "```Python\n",
    "import math\n",
    "def calculate_volume(r, h):\n",
    "    return pi*r**2*h\n",
    "\n",
    "radius = float(input(\"Input radius: \"))\n",
    "height = float(input(\"Input height: \"))\n",
    "\n",
    "try:\n",
    "    if radius > 0 and height > 0:\n",
    "        print(calulate_volume(radius, height))\n",
    "except:\n",
    "    ValueError:\n",
    "        print(f\"Radius and height must be positive numbers. You wrote: radius: {radius}, height: {height}\")\n",
    "```"
   ]
  },
  {
   "cell_type": "code",
   "execution_count": 85,
   "metadata": {},
   "outputs": [
    {
     "name": "stdout",
     "output_type": "stream",
     "text": [
      "Radius and height must be positive numbers. You wrote: radius: 7.0, height: -0.0\n"
     ]
    }
   ],
   "source": [
    "import math\n",
    "\n",
    "def calculate_volume(r, h):\n",
    "    return math.pi * r**2 * h\n",
    "\n",
    "try:\n",
    "    radius = float(input(\"Input radius: \"))\n",
    "    height = float(input(\"Input height: \"))\n",
    "\n",
    "    if radius > 0 and height > 0:\n",
    "        print(\"Volume:\", calculate_volume(radius, height))\n",
    "    else:\n",
    "        raise ValueError(f\"Radius and height must be positive numbers. You wrote: radius: {radius}, height: {height}\")\n",
    "\n",
    "except ValueError as e:\n",
    "    print(e)\n"
   ]
  },
  {
   "cell_type": "markdown",
   "metadata": {},
   "source": [
    "### Uppgift 3 (3p)\n",
    "Simulera 1000000 tärningskast och beräkna antalet ettor, tvåor, treor, fyror, femmor och sexor. Spara\n",
    "resultatet i en lämplig datastruktur.\n"
   ]
  },
  {
   "cell_type": "code",
   "execution_count": 47,
   "metadata": {},
   "outputs": [
    {
     "name": "stdout",
     "output_type": "stream",
     "text": [
      "Number 1: 167014 occurrences\n",
      "Number 2: 166657 occurrences\n",
      "Number 3: 165844 occurrences\n",
      "Number 4: 167112 occurrences\n",
      "Number 5: 166246 occurrences\n",
      "Number 6: 167127 occurrences\n"
     ]
    }
   ],
   "source": [
    "import random\n",
    "\n",
    "# Initialize an empty dictionary to store counts\n",
    "counts = {1: 0, 2: 0, 3: 0, 4: 0, 5: 0, 6: 0}\n",
    "\n",
    "# Simulate 1,000,000 dice rolls and count occurrences using a dictionary\n",
    "for _ in range(1000000):\n",
    "    roll = random.randint(1, 6)\n",
    "    counts[roll] += 1\n",
    "\n",
    "# Print the counts\n",
    "for number, count in counts.items():\n",
    "    print(f\"Number {number}: {count} occurrences\")\n"
   ]
  },
  {
   "cell_type": "markdown",
   "metadata": {},
   "source": [
    "### Uppgift 4 (3p)\n",
    "\n",
    "Skapa en funktion som tar in ett heltal n som parameter och skriver ut mönstret nedan.\n",
    "\n",
    "Exempel när n = 5:\n",
    "\n",
    "```text\n",
    "x x x x x\n",
    "x o x o x\n",
    "x x x x x\n",
    "x o x o x\n",
    "x x x x x\n",
    "```"
   ]
  },
  {
   "cell_type": "code",
   "execution_count": 59,
   "metadata": {},
   "outputs": [
    {
     "name": "stdout",
     "output_type": "stream",
     "text": [
      "x x x x x x x \n",
      "x o x o x o x \n",
      "x x x x x x x \n",
      "x o x o x o x \n",
      "x x x x x x x \n",
      "x o x o x o x \n",
      "x x x x x x x \n"
     ]
    }
   ],
   "source": [
    "def print_pattern(n):\n",
    "    for y in range(n):\n",
    "        if y % 2:\n",
    "            for x in range(n):\n",
    "                if x % 2:\n",
    "                    print(\"o\" + \" \", end=\"\")\n",
    "                else:\n",
    "                    print (\"x\" + \" \", end=\"\")\n",
    "        else:\n",
    "            for x in range(n):\n",
    "                print(\"x\" + \" \", end=\"\")\n",
    "        print()\n",
    "\n",
    "print_pattern(7)"
   ]
  },
  {
   "cell_type": "code",
   "execution_count": 63,
   "metadata": {},
   "outputs": [
    {
     "name": "stdout",
     "output_type": "stream",
     "text": [
      "x o x o x o x\n",
      "o x o x o x o\n",
      "x o x o x o x\n",
      "o x o x o x o\n",
      "x o x o x o x\n",
      "o x o x o x o\n",
      "x o x o x o x\n"
     ]
    }
   ],
   "source": [
    "def print_pattern(n):\n",
    "    pattern = [['o' if (x + y) % 2 else 'x' for x in range(n)] for y in range(n)]\n",
    "    for row in pattern:\n",
    "        print(\" \".join(row))\n",
    "\n",
    "print_pattern(7)\n"
   ]
  },
  {
   "cell_type": "markdown",
   "metadata": {},
   "source": [
    "### Uppgift 5 (4p)\n",
    "\n",
    "Skapa en funktion som tar in en summa pengar.\n",
    "\n",
    "Den ska printa ut en representation av sedlar och mynt som representerar summan.\n",
    "\n",
    "Exempel 3214 ska ge:\n",
    "\n",
    "```Text\n",
    "Tusenlapp: 3\n",
    "Tvåhundralapp: 1\n",
    "Tiokrona: 1\n",
    "Enkrona: 4\n",
    "```\n",
    "\n"
   ]
  },
  {
   "cell_type": "code",
   "execution_count": 68,
   "metadata": {},
   "outputs": [
    {
     "name": "stdout",
     "output_type": "stream",
     "text": [
      "Tusenlapp: 3\n",
      "Tvåhundralapp: 1\n",
      "Tiokrona: 1\n",
      "Tvåkrona: 2\n"
     ]
    }
   ],
   "source": [
    "def swedish_currency(sum):\n",
    "    amounts = {\n",
    "      \"Tusenlapp:\": 1000,\n",
    "      \"Femhundralapp:\": 500,\n",
    "      \"Tvåhundralapp:\": 200,\n",
    "      \"Hundralapp:\": 100,\n",
    "      \"Femtiolapp:\": 50,\n",
    "      \"Tjugolapp:\": 20,\n",
    "      \"Tiokrona:\": 10,\n",
    "      \"Femkrona:\": 5,\n",
    "      \"Tvåkrona:\": 2,\n",
    "      \"Enkrona:\": 1,\n",
    "    }\n",
    "\n",
    "    for amount, value in amounts.items():\n",
    "        count = sum // value\n",
    "        if count > 0:\n",
    "            print(f\"{amount} {count}\")\n",
    "            sum %= value\n",
    "\n",
    "swedish_currency(3214)\n",
    " "
   ]
  },
  {
   "cell_type": "markdown",
   "metadata": {},
   "source": [
    "### Uppgift 6 (4p)\n",
    "\n",
    "Du har följande kod:\n",
    "```python\n",
    "class Animal:\n",
    "    def __init__(self, name):\n",
    "        self.name = name\n",
    "    def __str__(self):\n",
    "        return f\"Animal {self.name}\"\n",
    "\n",
    "class Dog(Animal):\n",
    "    # notera att __init__ är nedärvd\n",
    "    def __repr__(self):\n",
    "        return f\"Dog: {self.name}\"\n",
    "\n",
    "class Fish(Animal):\n",
    "    def __repr__(self):\n",
    "        return f\"Fish: {self.name}\"\n",
    "\n",
    "# TO-DO: implementera PetOwner\n",
    "class PetOwner:\n",
    "...\n",
    " \n",
    "# manuell test av PetOwner\n",
    "owner1 = PetOwner(\"Ada\",[\"Snoopy\", \"Pluto\"], [\"Fishy\", \"Buppy\"])\n",
    "owner2 = PetOwner(\"Beda\", [\"Barkly\"] )\n",
    "print(owner1)\n",
    "print(owner2)\n",
    "```\n",
    "\n",
    "Implementera PetOwner klassen så att du får liknande utskrift som nedan med det manuella testet.\n",
    "\n",
    "```Text\n",
    "Ada owns:\n",
    "[Dog: Snoopy, Dog: Pluto]\n",
    "[Fish: Fishy, Fish: Buppy]\n",
    "Beda owns:\n",
    "[Dog: Barkly]\n",
    "```\n",
    "---"
   ]
  },
  {
   "cell_type": "code",
   "execution_count": 82,
   "metadata": {},
   "outputs": [
    {
     "name": "stdout",
     "output_type": "stream",
     "text": [
      "Ada owns:\n",
      "[Dog: Snoopy, Dog: Pluto]\n",
      "[Fish: Fishy, Fish: Buppy]\n",
      "Beda owns:\n",
      "[Dog: Barkly]\n",
      "\n"
     ]
    }
   ],
   "source": [
    "class Animal:\n",
    "    def __init__(self, name):\n",
    "        self.name = name\n",
    "    def __str__(self):\n",
    "        return f\"Animal {self.name}\"\n",
    "class Dog(Animal):\n",
    "    # notera att __init__ är nedärvd\n",
    "    def __repr__(self):\n",
    "        return f\"Dog: {self.name}\"\n",
    "class Fish(Animal):\n",
    "    def __repr__(self):\n",
    "        return f\"Fish: {self.name}\"\n",
    "# TO-DO: implementera PetOwner  \n",
    "class PetOwner:\n",
    "    def __init__(self, name, dogs = [], fish = []):\n",
    "        self.name = name\n",
    "        self.dogs = [Dog(dog) for dog in dogs]\n",
    "        self.fish = [Fish(fish) for fish in fish]\n",
    "\n",
    "    def __repr__(self):\n",
    "        text = self.name + \" owns:\" + \"\\n\"\n",
    "        if self.dogs:\n",
    "                text += repr([dog for dog in self.dogs]) + \"\\n\"\n",
    "        if self.fish:\n",
    "            text += repr([fish for fish in self.fish])\n",
    "        return text\n",
    "# manuell test av PetOwner\n",
    "owner1 = PetOwner(\"Ada\",[\"Snoopy\", \"Pluto\"], [\"Fishy\", \"Buppy\"])\n",
    "owner2 = PetOwner(\"Beda\", [\"Barkly\"] )\n",
    "print(owner1)\n",
    "print(owner2)"
   ]
  }
 ],
 "metadata": {
  "kernelspec": {
   "display_name": "Python-Julia-Sjoholm-dUE-HgBH",
   "language": "python",
   "name": "python3"
  },
  "language_info": {
   "codemirror_mode": {
    "name": "ipython",
    "version": 3
   },
   "file_extension": ".py",
   "mimetype": "text/x-python",
   "name": "python",
   "nbconvert_exporter": "python",
   "pygments_lexer": "ipython3",
   "version": "3.11.5"
  },
  "orig_nbformat": 4
 },
 "nbformat": 4,
 "nbformat_minor": 2
}
