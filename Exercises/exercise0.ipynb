{
 "cells": [
  {
   "cell_type": "markdown",
   "metadata": {},
   "source": [
    "# 1. Pythagorean theorem (*)\n",
    "  a)   A right angled triangle has the catheti: a = 3 and b = 4 length units. Compute the hypothenuse of the triangle. (*)\n",
    "\n",
    "  b)   A right angled triangle has hypothenuse c = 7.0 and a cathetus a = 5.0 length units. Compute the other cathetus and round to one decimal. (*)"
   ]
  },
  {
   "cell_type": "code",
   "execution_count": 24,
   "metadata": {},
   "outputs": [
    {
     "name": "stdout",
     "output_type": "stream",
     "text": [
      "The hypothenus is 5.0 length units.\n",
      "The other cathetus is 4.9 length units.\n"
     ]
    }
   ],
   "source": [
    "# 1 A)\n",
    "import math\n",
    "a = 3\n",
    "b = 4\n",
    "c = math.sqrt(a**2 + b**2)\n",
    "print(f'The hypothenus is {c} length units.')\n",
    "\n",
    "# 1 B) a2 + b2 = c2\n",
    "a = 5.0\n",
    "c = 7.0\n",
    "b = math.sqrt(c ** 2 - a ** 2)\n",
    "\n",
    "print(f'The other cathetus is {round(b, 1)} length units.')"
   ]
  },
  {
   "cell_type": "markdown",
   "metadata": {},
   "source": [
    "\n",
    "# 2. Classification accuracy (*)\n",
    "A machine learning algorithm has been trained to predict whether or not it would rain the next day. Out of 365 predictions, it got 300 correct, compute the accuracy of this model."
   ]
  },
  {
   "cell_type": "code",
   "execution_count": 34,
   "metadata": {},
   "outputs": [
    {
     "name": "stdout",
     "output_type": "stream",
     "text": [
      "The classification accuracy was 0.8219 or 82.19%\n"
     ]
    }
   ],
   "source": [
    "# 2\n",
    "\n",
    "correctPredictions = 300\n",
    "incorrectPredictions = 65\n",
    "\n",
    "decimal = float(correctPredictions) / float(correctPredictions + incorrectPredictions)\n",
    "procent = float(decimal * 100)\n",
    "\n",
    "accuracy = (correctPredictions / (correctPredictions + incorrectPredictions))\n",
    "print(f'The classification accuracy was {round(decimal, 4)} or {round(procent, 2)}%')"
   ]
  },
  {
   "cell_type": "markdown",
   "metadata": {},
   "source": [
    "\n",
    "# 3. Classification accuracy (*)\n",
    "A machine learning model has been trained to detect fire.\n",
    "\n",
    "a) Calculated the accuracy using the following formula: TP+T / TP+TN+FP+FN\n",
    "\n",
    "b) Is this a good modell?"
   ]
  },
  {
   "cell_type": "code",
   "execution_count": 36,
   "metadata": {},
   "outputs": [
    {
     "name": "stdout",
     "output_type": "stream",
     "text": [
      "The accuracy of this model is 0.987\n"
     ]
    }
   ],
   "source": [
    "# 3 a)\n",
    "truePositive = 2\n",
    "falsePositive = 2\n",
    "falseNegative = 11\n",
    "trueNegative = 985\n",
    "\n",
    "accuracy2 = float(truePositive + trueNegative) / float(truePositive + falsePositive + falseNegative + trueNegative)\n",
    "\n",
    "print(f'The accuracy of this model is {accuracy2}')\n",
    "\n",
    "#3 b) This modell for predicting fire is based on that it almost never is a real fire (TN). So I guess this is\n",
    "# some kind of default value.\n",
    "# Since the number of FN was 11, I would say it's not a good modell, in this category it should be 0. \n",
    "# It should be alble to detect all fires. Theese 11 cases should have ended upp in TP. \n"
   ]
  }
 ],
 "metadata": {
  "kernelspec": {
   "display_name": "Python-Julia-Sjoholm-dUE-HgBH",
   "language": "python",
   "name": "python3"
  },
  "language_info": {
   "codemirror_mode": {
    "name": "ipython",
    "version": 3
   },
   "file_extension": ".py",
   "mimetype": "text/x-python",
   "name": "python",
   "nbconvert_exporter": "python",
   "pygments_lexer": "ipython3",
   "version": "3.11.5"
  },
  "orig_nbformat": 4
 },
 "nbformat": 4,
 "nbformat_minor": 2
}
