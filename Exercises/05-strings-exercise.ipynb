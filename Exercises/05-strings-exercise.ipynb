{
 "cells": [
  {
   "cell_type": "markdown",
   "metadata": {},
   "source": [
    "# Strings exercises"
   ]
  },
  {
   "cell_type": "markdown",
   "metadata": {},
   "source": [
    "## 1. Counting letters (*)\n",
    "Let the user input a word:\n",
    "\n",
    "  a)   print out the number of letters in the word. (*)\n",
    "\n",
    "  b)   print out the number of uppercase and lowercase letters of the word (*)"
   ]
  },
  {
   "cell_type": "code",
   "execution_count": 20,
   "metadata": {},
   "outputs": [
    {
     "name": "stdout",
     "output_type": "stream",
     "text": [
      "The word Julia consist of 5 letters\n",
      "It consist of 4 uppercase letters and 1 lowercase letters.\n"
     ]
    }
   ],
   "source": [
    "word = input(\"Enter a word of your choice:\")\n",
    "\n",
    "lower_letters = [char for char in word if char.islower()]\n",
    "upper_letters = [char for char in word if char.isupper()]\n",
    "\n",
    "print(f'The word {word} consist of {len(word)} letters')\n",
    "print(f\"It consist of {len(lower_letters)} uppercase letters and {len(upper_letters)} lowercase letters.\")\n"
   ]
  },
  {
   "cell_type": "markdown",
   "metadata": {},
   "source": [
    "## 2. Print names separately (*)\n",
    "Ask the user to input their first and last name (same input e.g. \"Fredrik Johansson\"). Then print the names separately:\n",
    "\n",
    "Answer\n",
    "\n",
    "Firstname: Fredrik\n",
    "\n",
    "Lastname: Johansson"
   ]
  },
  {
   "cell_type": "code",
   "execution_count": 44,
   "metadata": {},
   "outputs": [
    {
     "name": "stdout",
     "output_type": "stream",
     "text": [
      "Firstname: Julia\n",
      "Lastname: Sjöholm\n",
      "Firstname: Julia\n",
      "Lastname: Sjöholm\n"
     ]
    }
   ],
   "source": [
    "name = input(\"Enter your name here: \")\n",
    "print(f\"Firstname: {name.split()[0]}\\nLastname: {name.split()[1]}\")\n",
    "\n",
    "firstname_lastname = name.split()\n",
    "print(f\"Firstname: {firstname_lastname[0]}\\nLastname: {firstname_lastname[1]}\")"
   ]
  }
 ],
 "metadata": {
  "kernelspec": {
   "display_name": "Python-Julia-Sjoholm-dUE-HgBH",
   "language": "python",
   "name": "python3"
  },
  "language_info": {
   "codemirror_mode": {
    "name": "ipython",
    "version": 3
   },
   "file_extension": ".py",
   "mimetype": "text/x-python",
   "name": "python",
   "nbconvert_exporter": "python",
   "pygments_lexer": "ipython3",
   "version": "3.11.5"
  },
  "orig_nbformat": 4
 },
 "nbformat": 4,
 "nbformat_minor": 2
}
