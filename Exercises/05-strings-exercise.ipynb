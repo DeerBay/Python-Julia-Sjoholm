{
 "cells": [
  {
   "cell_type": "markdown",
   "metadata": {},
   "source": [
    "# Strings exercises"
   ]
  },
  {
   "cell_type": "markdown",
   "metadata": {},
   "source": [
    "## 1. Counting letters (*)\n",
    "Let the user input a word:\n",
    "\n",
    "  a)   print out the number of letters in the word. (*)\n",
    "\n",
    "  b)   print out the number of uppercase and lowercase letters of the word (*)"
   ]
  },
  {
   "cell_type": "code",
   "execution_count": 20,
   "metadata": {},
   "outputs": [
    {
     "name": "stdout",
     "output_type": "stream",
     "text": [
      "The word Julia consist of 5 letters\n",
      "It consist of 4 uppercase letters and 1 lowercase letters.\n"
     ]
    }
   ],
   "source": [
    "word = input(\"Enter a word of your choice:\")\n",
    "\n",
    "lower_letters = [char for char in word if char.islower()]\n",
    "upper_letters = [char for char in word if char.isupper()]\n",
    "\n",
    "print(f'The word {word} consist of {len(word)} letters')\n",
    "print(f\"It consist of {len(lower_letters)} uppercase letters and {len(upper_letters)} lowercase letters.\")\n"
   ]
  },
  {
   "cell_type": "markdown",
   "metadata": {},
   "source": [
    "## 2. Print names separately (*)\n",
    "Ask the user to input their first and last name (same input e.g. \"Fredrik Johansson\"). Then print the names separately:\n",
    "\n",
    "Answer\n",
    "\n",
    "Firstname: Fredrik\n",
    "\n",
    "Lastname: Johansson"
   ]
  },
  {
   "cell_type": "code",
   "execution_count": 44,
   "metadata": {},
   "outputs": [
    {
     "name": "stdout",
     "output_type": "stream",
     "text": [
      "Firstname: Julia\n",
      "Lastname: Sjöholm\n",
      "Firstname: Julia\n",
      "Lastname: Sjöholm\n"
     ]
    }
   ],
   "source": [
    "name = input(\"Enter your name here: \")\n",
    "print(f\"Firstname: {name.split()[0]}\\nLastname: {name.split()[1]}\")\n",
    "\n",
    "firstname_lastname = name.split()\n",
    "print(f\"Firstname: {firstname_lastname[0]}\\nLastname: {firstname_lastname[1]}\")"
   ]
  },
  {
   "cell_type": "markdown",
   "metadata": {},
   "source": [
    "## 3. Counting words (*)\n",
    "Count the number of words in this sentence: \"A picture says more than a thousand words, a matematical formula says more than a thousand pictures.\" (*)\n",
    "\n",
    "Answer\n",
    "There are 17 words in that sentence"
   ]
  },
  {
   "cell_type": "code",
   "execution_count": 54,
   "metadata": {},
   "outputs": [
    {
     "name": "stdout",
     "output_type": "stream",
     "text": [
      "The sentence \"A picture says more than a thousand words, a matematical formula says more than a thousand pictures.\",\n",
      "consist of: 17 words\n"
     ]
    }
   ],
   "source": [
    "sentence = \"A picture says more than a thousand words, a matematical formula says more than a thousand pictures.\"\n",
    "words = sentence.split(\" \")\n",
    "\n",
    "print(f'The sentence \"{sentence}\",\\nconsist of: {len(words)} words')\n",
    "    "
   ]
  },
  {
   "cell_type": "markdown",
   "metadata": {},
   "source": [
    "# 4. Print words in reverse (*)\n",
    "a) Ask the user to input a sentence, then print the words in reverse order. (*)\n",
    "\n",
    "b) Also, make the first letter in the first word uppercase when reversed.\n",
    "\n",
    "Answer\n",
    "\n",
    "a) Example **input:** This is input from the user\n",
    "**Output:** user the from input is This\n",
    "\n",
    "b) Example **input:** This is input from the user\n",
    "**Output:** User the from input is this"
   ]
  },
  {
   "cell_type": "code",
   "execution_count": 130,
   "metadata": {},
   "outputs": [
    {
     "name": "stdout",
     "output_type": "stream",
     "text": [
      "This is your sentence: I'm trying this\n",
      "And this is in reverse: this trying I'm "
     ]
    }
   ],
   "source": [
    "user_sentence = \"I'm trying this\" # input(\"Enter a sentence: \")\n",
    "user_words = user_sentence.split()\n",
    "print(f\"This is your sentence: {user_sentence}\")\n",
    "print(f\"And this is in reverse: \", end=\"\")\n",
    "for word in user_words[::-1]:\n",
    "    print(word, end=\" \")"
   ]
  },
  {
   "cell_type": "code",
   "execution_count": 145,
   "metadata": {},
   "outputs": [
    {
     "name": "stdout",
     "output_type": "stream",
     "text": [
      "This is your sentence: I'm trying one more time\n",
      "And this is in reverse: time more one trying i'm "
     ]
    }
   ],
   "source": [
    "user_sentence = \"I'm trying one more time\" # input(\"Enter a sentence: \")\n",
    "user_words = user_sentence.lower().split()\n",
    "print(f\"This is your sentence: {user_sentence}\")\n",
    "print(f\"And this is in reverse: \", end=\"\")\n",
    "\n",
    "for word in range(len(user_words)):\n",
    "    \n",
    "    print(f\"{user_words[::-1][word]}\", end= \" \")"
   ]
  },
  {
   "cell_type": "code",
   "execution_count": 148,
   "metadata": {},
   "outputs": [
    {
     "name": "stdout",
     "output_type": "stream",
     "text": [
      "This is your sentence: Hi I'm new to this!\n",
      "And this is in reverse: This! to new i'm hi\n"
     ]
    }
   ],
   "source": [
    "user_sentence = input(\"Enter a sentence: \")\n",
    "user_words = user_sentence.lower().split()\n",
    "print(f\"This is your sentence: {user_sentence}\")\n",
    "print(f\"And this is in reverse: \", end=\"\")\n",
    "\n",
    "# Capitalize the first word\n",
    "user_words_reversed = user_words[::-1]\n",
    "user_words_reversed[0] = user_words_reversed[0].capitalize()\n",
    "\n",
    "# Print the reversed sentence\n",
    "print(\" \".join(user_words_reversed))\n"
   ]
  },
  {
   "cell_type": "markdown",
   "metadata": {},
   "source": [
    "## 5. Palindrome (*)\n",
    "A palindrome is a sequence of characters that is the same, when read forward as backwards (ignoring spaces). For example:\n",
    "\n",
    "- \"Anna\" is a palindrome\n",
    "- \"Ni talar bra latin\"\n",
    "- \"bjkjb \"\n",
    "\n",
    "Let the user input a sequence of characters and check if it is a palindrome. (*)"
   ]
  },
  {
   "cell_type": "code",
   "execution_count": 175,
   "metadata": {},
   "outputs": [
    {
     "name": "stdout",
     "output_type": "stream",
     "text": [
      "The phrase 'Ni talar bra latin' is a palindrome! Its the same backwards nitalarbralatin\n"
     ]
    }
   ],
   "source": [
    "user_phrase = input(\"Enter a phrase: \")\n",
    "user_phrase_modified = user_phrase.replace(\" \", \"\").lower()\n",
    "\n",
    "if user_phrase_modified == user_phrase_modified[::-1]:\n",
    "    print(f\"The phrase '{user_phrase}' is a palindrome! Its the same backwards {user_phrase_modified[::-1]}\")\n",
    "else:\n",
    "    print(f\"The phrase '{user_phrase}' is not a palindrome.\")\n",
    "\n"
   ]
  },
  {
   "cell_type": "markdown",
   "metadata": {},
   "source": [
    "## 6. Vowels (**)\n",
    "Count the number of vowels in this sentence: \"Pure mathematics is, in its way, the poetry of logical ideas\"\n",
    "\n",
    "Answer\n",
    "\n",
    "There are 22 vowels in this sentence"
   ]
  },
  {
   "cell_type": "code",
   "execution_count": 180,
   "metadata": {},
   "outputs": [
    {
     "name": "stdout",
     "output_type": "stream",
     "text": [
      "In the sentence: 'Pure mathematics is, in its way, the poetry of logical ideas'. It's 22 vowels.\n"
     ]
    }
   ],
   "source": [
    "sentence = \"Pure mathematics is, in its way, the poetry of logical ideas\"\n",
    "vowels = [\"a\", \"e\", \"i\", \"o\", \"u\", \"y\", \"å\", \"ä\", \"ö\"]\n",
    "number_of_vowels = 0\n",
    "\n",
    "for char in sentence:\n",
    "    if char in vowels:\n",
    "        number_of_vowels += 1\n",
    "\n",
    "print(f\"In the sentence: '{sentence}'. It's {number_of_vowels} vowels.\")"
   ]
  },
  {
   "cell_type": "markdown",
   "metadata": {},
   "source": [
    "## 7. Rövarspråket (**)\n",
    "Ask the user to input a sentence, and translate it using the formula described in this article:\n",
    "https://en.wikipedia.org/wiki/R%C3%B6varspr%C3%A5ket"
   ]
  },
  {
   "cell_type": "code",
   "execution_count": 188,
   "metadata": {},
   "outputs": [
    {
     "name": "stdout",
     "output_type": "stream",
     "text": [
      "The original sentence: My name is Julia Sjöholm.\n",
      "Translated word in Rövarspråket: MoMy nonamome isos JoJulolia SoSjojöhohololmom\n"
     ]
    }
   ],
   "source": [
    "user_word = input(\"Enter a word to tranlate to Rövarspråket (English: The Robber Language) \").lower()\n",
    "\n",
    "vowels = [\"a\", \"e\", \"i\", \"o\", \"u\", \"y\", \"å\", \"ä\", \"ö\", \" \"]\n",
    "\n",
    "encrypted_word = \"\"\n",
    "\n",
    "for char in user_word:\n",
    "    if char not in vowels:\n",
    "        encrypted_word += char + \"o\" + char\n",
    "    else:\n",
    "        encrypted_word += char\n",
    "\n",
    "print(f\"The original sentence: {user_word}.\\nTranslated word in Rövarspråket: {encrypted_word}\")\n",
    "\n"
   ]
  },
  {
   "cell_type": "markdown",
   "metadata": {},
   "source": [
    "## 8. Encryption (**)\n",
    "Let the user input a word and:\n",
    "\n",
    "  a)   encrypt the message by replacing each letter with the next letter. If the letter is in the end of the alphabet, use the first letter instead.\n",
    "\n",
    "e.g. in Swedish: \"höst\" \n",
    " \"iatu\"\n",
    "\n",
    "  b)   decrypt the message\n",
    "\n",
    "  c)   let the user choose either encryption or decryption."
   ]
  },
  {
   "cell_type": "markdown",
   "metadata": {},
   "source": [
    "# Test\n",
    "\n",
    "- [x] Fix Bug 223\n",
    "- [ ] Add Feature 33\n",
    "- [ ] Add unit tests\n",
    "\n",
    ">Julia \n",
    "\n",
    "<kbd>Julia</kbd>\n",
    "\n",
    "2 <sup>53-1</sup> and -2 <sup>53-1</sup> \n",
    "\n",
    "`Julia`\n",
    "\n",
    "<table><tr><td>Julia</table></tr></td>\n",
    "\n",
    "$\\sqrt{k}$\n",
    "\n",
    "```Python\n",
    "str = \"This is block level code\"\n",
    "print(str)\n",
    "```\n",
    "\n",
    "Colons can be used to align columns.\n",
    "\n",
    "| Tables        | Are           | Cool  |\n",
    "| ------------- |:-------------:| -----:|\n",
    "| col 3 is      | right-aligned | $1600 |\n",
    "| col 2 is      | centered      |   $12 |\n",
    "| zebra stripes | are neat      |    $1 |\n",
    "\n",
    "There must be at least 3 dashes separating each header cell.\n",
    "The outer pipes (|) are optional, and you don't need to make the \n",
    "raw Markdown line up prettily. You can also use inline Markdown.\n",
    "\n",
    "Markdown | Less | Pretty\n",
    "--- | --- | ---\n",
    "*Still* | `renders` | **nicely**\n",
    "1 | 2 | 3\n",
    "\n",
    "$ mathematical symbols $\n",
    "\n",
    "<div class=\"alert alert-block alert-info\">\n",
    "<b>Tip:</b> Use blue boxes (alert-info) for tips and notes. \n",
    "If it’s a note, you don’t have to include the word “Note”.\n",
    "</div>\n",
    "\n",
    "<div class=\"alert alert-block alert-warning\">\n",
    "<b>Example:</b> Use yellow boxes for examples that are not \n",
    "inside code cells, or use for mathematical formulas if needed.\n",
    "</div>\n",
    "\n",
    "<div class=\"alert alert-block alert-success\">\n",
    "<b>Up to you:</b> Use green boxes sparingly, and only for some specific \n",
    "purpose that the other boxes can't cover. For example, if you have a lot \n",
    "of related content to link to, maybe you decide to use green boxes for \n",
    "related links from each section of a notebook.\n",
    "</div>\n",
    "\n",
    "\n",
    "Source: <kbd>[Markdown-Cheatsheet](https://github.com/lifeparticle/Markdown-Cheatsheet)</kbd>\n"
   ]
  },
  {
   "cell_type": "code",
   "execution_count": null,
   "metadata": {},
   "outputs": [],
   "source": []
  }
 ],
 "metadata": {
  "kernelspec": {
   "display_name": "Python-Julia-Sjoholm-dUE-HgBH",
   "language": "python",
   "name": "python3"
  },
  "language_info": {
   "codemirror_mode": {
    "name": "ipython",
    "version": 3
   },
   "file_extension": ".py",
   "mimetype": "text/x-python",
   "name": "python",
   "nbconvert_exporter": "python",
   "pygments_lexer": "ipython3",
   "version": "3.11.5"
  },
  "orig_nbformat": 4
 },
 "nbformat": 4,
 "nbformat_minor": 2
}
