{
 "cells": [
  {
   "cell_type": "code",
   "execution_count": 2,
   "metadata": {},
   "outputs": [
    {
     "name": "stdout",
     "output_type": "stream",
     "text": [
      "True\n",
      "False\n",
      "Given list is: [10, 20, 33, 46, 55]\n",
      "The numbers divisible by 5 is:\n",
      "10\n",
      "20\n",
      "55\n",
      "Emma appears 2 times in the sentence 'Emma is good developer. Emma is a writer'\n",
      "Emma appears 2 times.\n"
     ]
    }
   ],
   "source": [
    "def equal_first_and_last(x):\n",
    "    return x[0] == x[-1]\n",
    "    \n",
    "numbers_x = [10, 20, 30, 40, 10]\n",
    "numbers_y = [75, 65, 35, 75, 30]\n",
    "\n",
    "print(equal_first_and_last(numbers_x))\n",
    "print(equal_first_and_last(numbers_y))\n",
    "\n",
    "given_numbers = [10, 20, 33, 46, 55]\n",
    "print(f\"Given list is: {given_numbers}\\nThe numbers divisible by 5 is:\")\n",
    "for number in given_numbers:\n",
    "    if number % 5 == 0:\n",
    "        print(number)\n",
    "        \n",
    "str_x = \"Emma is good developer. Emma is a writer\"\n",
    "list_of_words = str_x.split(\" \")\n",
    "number_of_emma = 0\n",
    "\n",
    "for word in list_of_words:\n",
    "    if word == \"Emma\":\n",
    "        number_of_emma += 1\n",
    "\n",
    "print(f\"Emma appears {number_of_emma} times in the sentence '{str_x}'\")\n",
    "    \n",
    "str_x = \"Emma is good developer. Emma is a writer\"\n",
    "# use count method of a str class\n",
    "\n",
    "print(f\"Emma appears {str_x.count('Emma')} times.\")"
   ]
  },
  {
   "cell_type": "code",
   "execution_count": 3,
   "metadata": {},
   "outputs": [
    {
     "name": "stdout",
     "output_type": "stream",
     "text": [
      "\"678\" is not a palindrome.\n"
     ]
    }
   ],
   "source": [
    "def is_palindrome(input_value):\n",
    "    input_string = str(input_value)\n",
    "    cleaned_string = input_string.replace(\" \", \"\").lower()\n",
    "    return cleaned_string == cleaned_string[::-1]\n",
    "\n",
    "# Example usage for both numbers and strings\n",
    "input_value = 678\n",
    "\n",
    "if is_palindrome(input_value):\n",
    "    print(f'\"{input_value}\" is a palindrome.')\n",
    "else:\n",
    "    print(f'\"{input_value}\" is not a palindrome.')\n"
   ]
  },
  {
   "cell_type": "code",
   "execution_count": 4,
   "metadata": {},
   "outputs": [
    {
     "name": "stdout",
     "output_type": "stream",
     "text": [
      "\n",
      "\n",
      "1 \n",
      "\n",
      "2 2 \n",
      "\n",
      "3 3 3 \n",
      "\n",
      "4 4 4 4 \n",
      "\n",
      "5 5 5 5 5 \n",
      "\n",
      "6 6 6 6 6 6 \n",
      "\n",
      "7 7 7 7 7 7 7 \n",
      "\n",
      "8 8 8 8 8 8 8 8 \n",
      "\n",
      "9 9 9 9 9 9 9 9 9 \n",
      "\n",
      "10 10 10 10 10 10 10 10 10 10 \n",
      "\n"
     ]
    }
   ],
   "source": [
    "rows = 10\n",
    "\n",
    "for num in range(rows +1):\n",
    "    for i in range(num):\n",
    "        print (num, end=\" \") #print number\n",
    "    # new line after each row to display pattern correctly\n",
    "    print(\"\\n\")"
   ]
  },
  {
   "cell_type": "code",
   "execution_count": 87,
   "metadata": {},
   "outputs": [
    {
     "name": "stdout",
     "output_type": "stream",
     "text": [
      "35\n",
      "40\n",
      "Result list: [25, 35, 40, 60, 90]\n"
     ]
    }
   ],
   "source": [
    "\n",
    "def merge_list(list1, list2):\n",
    "    even_and_odd = []\n",
    "\n",
    "    for item in list1:\n",
    "        if item%2 != 0:\n",
    "            even_and_odd.append(item)\n",
    "    for item in list2:\n",
    "        if item % 2 == 0:\n",
    "            even_and_odd.append(item)\n",
    "\n",
    "    return even_and_odd\n",
    "    \n",
    "list1 = [10, 20, 25, 30, 35]\n",
    "list2 = [40, 45, 60, 75, 90]\n",
    "print(max(list1))\n",
    "print(min(list2))\n",
    "print(\"Result list:\", merge_list(list1, list2))"
   ]
  },
  {
   "cell_type": "code",
   "execution_count": 62,
   "metadata": {},
   "outputs": [
    {
     "name": "stdout",
     "output_type": "stream",
     "text": [
      "4321\n",
      "<class 'str'>\n"
     ]
    }
   ],
   "source": [
    "def reversed_digits(number):\n",
    "    str_number = str(number)\n",
    "    return str_number[::-1]\n",
    "\n",
    "print(reversed_digits(1234))   \n",
    "print(type(reversed_digits(1234)))"
   ]
  },
  {
   "cell_type": "code",
   "execution_count": 63,
   "metadata": {},
   "outputs": [
    {
     "name": "stdout",
     "output_type": "stream",
     "text": [
      "4321\n",
      "<class 'int'>\n"
     ]
    }
   ],
   "source": [
    "def reversed_digits(number):\n",
    "    str_number = str(number)\n",
    "    reversed_number = str_number[::-1]\n",
    "    return int(reversed_number)\n",
    "\n",
    "print(reversed_digits(1234))   \n",
    "print(type(reversed_digits(1234)))"
   ]
  },
  {
   "cell_type": "code",
   "execution_count": 8,
   "metadata": {},
   "outputs": [
    {
     "name": "stdout",
     "output_type": "stream",
     "text": [
      "1: 1\t2\t3\t4\t5\t6\t7\t8\t9\t10\t\n",
      "2: 2\t4\t6\t8\t10\t12\t14\t16\t18\t20\t\n",
      "3: 3\t6\t9\t12\t15\t18\t21\t24\t27\t30\t\n",
      "4: 4\t8\t12\t16\t20\t24\t28\t32\t36\t40\t\n",
      "5: 5\t10\t15\t20\t25\t30\t35\t40\t45\t50\t\n",
      "6: 6\t12\t18\t24\t30\t36\t42\t48\t54\t60\t\n",
      "7: 7\t14\t21\t28\t35\t42\t49\t56\t63\t70\t\n",
      "8: 8\t16\t24\t32\t40\t48\t56\t64\t72\t80\t\n",
      "9: 9\t18\t27\t36\t45\t54\t63\t72\t81\t90\t\n",
      "10: 10\t20\t30\t40\t50\t60\t70\t80\t90\t100\t\n"
     ]
    }
   ],
   "source": [
    "for y in range(1, 11):\n",
    "    print(y, end= \": \")\n",
    "\n",
    "    for x in range(1, 11):\n",
    "        print(x * y, end= \"\\t\")\n",
    "\n",
    "    print(\"\")"
   ]
  },
  {
   "cell_type": "code",
   "execution_count": 9,
   "metadata": {},
   "outputs": [
    {
     "name": "stdout",
     "output_type": "stream",
     "text": [
      "x0\tx1\tx2\tx3\tx4\tx5\tx6\tx7\tx8\tx9\tx10\t\n",
      "1:\t1\t2\t3\t4\t5\t6\t7\t8\t9\t10\t\n",
      "2:\t2\t4\t6\t8\t10\t12\t14\t16\t18\t20\t\n",
      "3:\t3\t6\t9\t12\t15\t18\t21\t24\t27\t30\t\n",
      "4:\t4\t8\t12\t16\t20\t24\t28\t32\t36\t40\t\n",
      "5:\t5\t10\t15\t20\t25\t30\t35\t40\t45\t50\t\n",
      "6:\t6\t12\t18\t24\t30\t36\t42\t48\t54\t60\t\n",
      "7:\t7\t14\t21\t28\t35\t42\t49\t56\t63\t70\t\n",
      "8:\t8\t16\t24\t32\t40\t48\t56\t64\t72\t80\t\n",
      "9:\t9\t18\t27\t36\t45\t54\t63\t72\t81\t90\t\n",
      "10:\t10\t20\t30\t40\t50\t60\t70\t80\t90\t100\t\n"
     ]
    }
   ],
   "source": [
    "for x in range(0,11):\n",
    "    print(f\"x{x}\", end= \"\\t\")\n",
    "print(\"\")\n",
    "for y in range(1, 11):\n",
    "    print(y, end= \":\\t\")\n",
    "    for x in range(1, 11):\n",
    "        print(x * y, end= \"\\t\")\n",
    "    print(\"\")"
   ]
  },
  {
   "cell_type": "code",
   "execution_count": 10,
   "metadata": {},
   "outputs": [
    {
     "name": "stdout",
     "output_type": "stream",
     "text": [
      "7921.0\n"
     ]
    }
   ],
   "source": [
    "def multiplication_two_numbers(num1, num2):\n",
    "    return num1 * num2\n",
    "\n",
    "number_one = float(input(\"Number one: \"))\n",
    "number_two = float(input(\"Number two: \"))\n",
    "\n",
    "\n",
    "print(multiplication_two_numbers(number_one, number_two))"
   ]
  },
  {
   "cell_type": "code",
   "execution_count": 11,
   "metadata": {},
   "outputs": [
    {
     "name": "stdout",
     "output_type": "stream",
     "text": [
      "Name**Is**James\n"
     ]
    }
   ],
   "source": [
    "print('Name', 'Is', 'James', sep=\"**\")"
   ]
  },
  {
   "cell_type": "code",
   "execution_count": 12,
   "metadata": {},
   "outputs": [
    {
     "name": "stdout",
     "output_type": "stream",
     "text": [
      "458.541\n"
     ]
    }
   ],
   "source": [
    "num = 458.541315\n",
    "print(f\"{num:.3f}\")"
   ]
  },
  {
   "cell_type": "code",
   "execution_count": 14,
   "metadata": {},
   "outputs": [
    {
     "name": "stdout",
     "output_type": "stream",
     "text": [
      "[89.0, 98.0, 56.0, 8.0, 8.0]\n"
     ]
    }
   ],
   "source": [
    "list_of_items = []\n",
    "for _ in range(5):\n",
    "    user_input = float(input(\"Write a number: \"))\n",
    "    list_of_items.append(user_input)\n",
    "    \n",
    "print(list_of_items)"
   ]
  },
  {
   "cell_type": "code",
   "execution_count": 15,
   "metadata": {},
   "outputs": [
    {
     "name": "stdout",
     "output_type": "stream",
     "text": [
      "['Anna', 'Emma', 'Julia']\n",
      "\n",
      "['Julia', 'Emma', 'Anna']\n",
      "\n",
      "3: [2]=Anna\n",
      "2: [1]=Emma\n",
      "1: [0]=Julia\n"
     ]
    }
   ],
   "source": [
    "user_name = \"Julia, Emma, Anna\"\n",
    "name_list = user_name.split(\", \")\n",
    "another_list = user_name.replace(\" \", \"\").split(\",\")\n",
    "print(f\"{name_list[::-1]}\", end=\"\\n\")\n",
    "print()\n",
    "print(another_list)\n",
    "print()\n",
    "counter = len(name_list)\n",
    "for name in name_list[::-1]:\n",
    "    print(f\"{counter}: [{counter-1}]={name}\")\n",
    "    counter -=1"
   ]
  },
  {
   "cell_type": "code",
   "execution_count": 16,
   "metadata": {},
   "outputs": [
    {
     "name": "stdout",
     "output_type": "stream",
     "text": [
      "I have 1000 dollars so I can buy 3 football for 450.00 dollars.\n"
     ]
    }
   ],
   "source": [
    "totalMoney = 1000\n",
    "quantity = 3\n",
    "price = 450\n",
    "\n",
    "print(f\"I have {totalMoney} dollars so I can buy {quantity} football for {price:.2f} dollars.\")"
   ]
  },
  {
   "cell_type": "code",
   "execution_count": 17,
   "metadata": {},
   "outputs": [
    {
     "name": "stdout",
     "output_type": "stream",
     "text": [
      "{'Ten': 10, 'Twenty': 20, 'Thirty': 30}\n"
     ]
    }
   ],
   "source": [
    "keys = ['Ten', 'Twenty', 'Thirty']\n",
    "values = [10, 20, 30]\n",
    "\n",
    "res_dict = dict(zip(keys, values))\n",
    "print(res_dict)"
   ]
  },
  {
   "cell_type": "code",
   "execution_count": 18,
   "metadata": {},
   "outputs": [
    {
     "name": "stdout",
     "output_type": "stream",
     "text": [
      "{'Ten': 10, 'Twenty': 20, 'Thirty': 30, 'Fourty': 40, 'Fifty': 50}\n",
      "dict_keys(['Ten', 'Twenty', 'Thirty', 'Fourty', 'Fifty'])\n",
      "dict_values([10, 20, 30, 40, 50])\n",
      "dict1={'Ten': 10, 'Twenty': 20, 'Thirty': 30}\n",
      "{'Ten': 10, 'Twenty': 20, 'Thirty': 30, 'Fourty': 40, 'Fifty': 50}\n"
     ]
    }
   ],
   "source": [
    "dict1 = {'Ten': 10, 'Twenty': 20, 'Thirty': 30}\n",
    "dict2 = {'Thirty': 30, 'Fourty': 40, 'Fifty': 50}\n",
    "\n",
    "dict3 = {**dict1, **dict2}\n",
    "print(dict3)\n",
    "print(dict3.keys())\n",
    "print(dict3.values())\n",
    "print(f\"{dict1=}\")\n",
    "dict1.update(dict2)\n",
    "print(dict1)"
   ]
  },
  {
   "cell_type": "code",
   "execution_count": 19,
   "metadata": {},
   "outputs": [
    {
     "name": "stdout",
     "output_type": "stream",
     "text": [
      "{'Kelly': {'designation': 'Developer', 'salary': 8000}, 'Emma': {'designation': 'Developer', 'salary': 8000}}\n",
      "{'designation': 'Developer', 'salary': 8000}\n"
     ]
    }
   ],
   "source": [
    "employees = ['Kelly', 'Emma']\n",
    "defaults = {\"designation\": 'Developer', \"salary\": 8000}\n",
    "\n",
    "res = dict.fromkeys(employees, defaults)\n",
    "print(res)\n",
    "\n",
    "# Individual data\n",
    "print(res[\"Kelly\"])"
   ]
  },
  {
   "cell_type": "code",
   "execution_count": 20,
   "metadata": {},
   "outputs": [
    {
     "name": "stdout",
     "output_type": "stream",
     "text": [
      "The seating capacity of a School Volvo is 50 passengers.\n",
      "The seating capacity of a Mercedes is 5 passengers.\n",
      "passenger_car.name='Mercedes', passenger_car.color ='white'\n",
      "<class '__main__.Bus'>\n",
      "True\n"
     ]
    },
    {
     "data": {
      "text/plain": [
       "5500.0"
      ]
     },
     "execution_count": 20,
     "metadata": {},
     "output_type": "execute_result"
    }
   ],
   "source": [
    "class Vehicle:\n",
    "\n",
    "    color = \"white\"\n",
    "\n",
    "    def __init__(self, name: str, max_speed: int, mileage: int, capacity: int):\n",
    "        self.name = name\n",
    "        self.max_speed = max_speed\n",
    "        self.mileage = mileage\n",
    "        self.capacity = capacity\n",
    "        \n",
    "    def seating_capacity(self):\n",
    "        return f\"The seating capacity of a {self.name} is {self.capacity} passengers.\"\n",
    "    \n",
    "    def fare(self):\n",
    "        return self.capacity * 100\n",
    "\n",
    "class Bus(Vehicle):\n",
    "     def fare(self):\n",
    "         amount = super().fare()\n",
    "         amount += amount * 10/100\n",
    "         return amount\n",
    "        \n",
    "class Car(Vehicle):\n",
    "    pass\n",
    "\n",
    "School_bus = Bus(\"School Volvo\", 180, 12, 50)\n",
    "passenger_car = Car(\"Mercedes\", 300, 9000, 5)\n",
    "print(School_bus.seating_capacity())\n",
    "print(passenger_car.seating_capacity())\n",
    "print(f\"{passenger_car.name=}, {passenger_car.color =}\")\n",
    "print(type(School_bus))\n",
    "print(isinstance(School_bus, Vehicle))\n",
    "School_bus.fare()"
   ]
  },
  {
   "cell_type": "code",
   "execution_count": 21,
   "metadata": {},
   "outputs": [
    {
     "name": "stdout",
     "output_type": "stream",
     "text": [
      "A triangle with base: 7.0 cm and height: 8.0 cm has area: 28.0\n"
     ]
    }
   ],
   "source": [
    "def calculate_area(base, height):\n",
    "    return 0.5 * base * height\n",
    "\n",
    "try:\n",
    "    base = float(input(\"base cm: \"))\n",
    "    height = float(input(\"height cm: \"))\n",
    "    if base < 0 or height < 0:\n",
    "        raise ValueError(\"Base and height must be positive numbers.\")\n",
    "    area = calculate_area(base, height)\n",
    "    print(f\"A triangle with base: {base} cm and height: {height} cm has area: {area}\")\n",
    "except ValueError as ve:\n",
    "    print(f\"Error: {ve}\")\n",
    "except TypeError:\n",
    "    print(\"Error: Base and height must be numeric.\")\n",
    "except Exception as e:\n",
    "    print(f\"An unexpected error occurred: {e}\")\n"
   ]
  },
  {
   "cell_type": "code",
   "execution_count": 26,
   "metadata": {},
   "outputs": [
    {
     "name": "stdout",
     "output_type": "stream",
     "text": [
      "Cylinder\n",
      "Radius: 5.0 cm\n",
      "Height: 5.0 cm\n",
      "Area: 392.69908169872417 cm2\n"
     ]
    }
   ],
   "source": [
    "from math import pi\n",
    "\n",
    "def cylinder_volume(r, h):\n",
    "    return pi*r**2*h\n",
    "\n",
    "while True:\n",
    "    try:\n",
    "        radius = float(input(\"Input radius cm: \"))\n",
    "        height = float(input(\"Input height cm: \"))\n",
    "        print(f\"Cylinder\\nRadius: {radius} cm\\nHeight: {height} cm\\nArea: {cylinder_volume(radius, height)} cm2\")\n",
    "        break\n",
    "    except ValueError:\n",
    "        print(\"Please input only numbers!\")"
   ]
  },
  {
   "cell_type": "code",
   "execution_count": 36,
   "metadata": {},
   "outputs": [
    {
     "name": "stdout",
     "output_type": "stream",
     "text": [
      "Vädret under 365 dagar:\n",
      "soligt, 64 dagar\n",
      "molningt, 79 dagar\n",
      "regnigt, 69 dagar\n",
      "snöigt, 75 dagar\n",
      "stormigt, 78 dagar\n"
     ]
    }
   ],
   "source": [
    "import random\n",
    "\n",
    "weather = {\n",
    "    \"soligt\": 0,\n",
    "    \"molningt\": 0,\n",
    "    \"regnigt\": 0,\n",
    "    \"snöigt\": 0,\n",
    "    \"stormigt\": 0\n",
    "}\n",
    "\n",
    "for _ in range(365):\n",
    "    random_weather = random.choice(list(weather.keys()))\n",
    "    weather[random_weather] += 1\n",
    "\n",
    "print(\"Vädret under 365 dagar:\")\n",
    "for key, value in weather.items():\n",
    "    print(f\"{key}, {value} dagar\")\n"
   ]
  },
  {
   "cell_type": "code",
   "execution_count": 39,
   "metadata": {},
   "outputs": [
    {
     "name": "stdout",
     "output_type": "stream",
     "text": [
      "x O O O O \n",
      "O x O O O \n",
      "O O x O O \n",
      "O O O x O \n",
      "O O O O x \n"
     ]
    }
   ],
   "source": [
    "def print_pattern(n):\n",
    "    rows = n\n",
    "    for y in range(rows):\n",
    "        for x in range(rows):\n",
    "            print(\"x\", end=\" \") if x == y else print(\"O\", end = \" \")\n",
    "        print()\n",
    "print_pattern(5)"
   ]
  },
  {
   "cell_type": "code",
   "execution_count": 43,
   "metadata": {},
   "outputs": [
    {
     "name": "stdout",
     "output_type": "stream",
     "text": [
      "50 € sedel: 3 st.\n",
      "20 € sedel: 1 st.\n",
      "10 € sedel: 1 st.\n",
      "5 € sedel: 1 st.\n",
      "2 € mynt: 1 st.\n"
     ]
    }
   ],
   "source": [
    "def euro_bills(money):\n",
    "    denominations = {\n",
    "        \"50 € sedel\": 50,\n",
    "        \"20 € sedel\": 20,\n",
    "        \"10 € sedel\": 10,\n",
    "        \"5 € sedel\": 5,\n",
    "        \"2 € mynt\": 2,\n",
    "        \"1 € mynt\": 1\n",
    "    }\n",
    "\n",
    "    for key, value in denominations.items():\n",
    "        antal = money//value\n",
    "        if antal > 0:\n",
    "            print(f\"{key}: {antal} st.\")\n",
    "            money = money%value\n",
    "\n",
    "euro_bills(187)"
   ]
  },
  {
   "cell_type": "markdown",
   "metadata": {},
   "source": [
    "## Uppgift 6 (4p)\n",
    "Du har följande kod:\n",
    "````python\n",
    "class Litteratur:\n",
    "    def __init__(self, titel):\n",
    "        self.titel = titel\n",
    "\n",
    "    def __str__(self):\n",
    "        return f'Litteratur: \"{self.titel}\"'\n",
    "\n",
    "class Bok(Litteratur):\n",
    "    def __str__(self):\n",
    "        return f'Bok: \"{self.titel}\"'\n",
    "\n",
    "class Tidning(Litteratur):\n",
    "    def __str__(self):\n",
    "        return f'Tidning: \"{self.titel}\"'\n",
    "\n",
    "class Tidskrift(Litteratur):\n",
    "    def __str__(self):\n",
    "        return f'Tidskrift: \"{self.titel}\"'\n",
    "# TO-DO: implementera Bibliotekarie\n",
    "class Bibliotekarie(Litteratur):\n",
    "    def __init__(self, name, böcker, tidningar, tidskrifter)\n",
    "        self.name = name\n",
    "        self.böcker = [Bok(bok) for bok in böcker]\n",
    "        self.tidningar = [Tidning(tidning) for tidning in tidningar]\n",
    "        self.tidsskrifter = [Tidsskrift(tidskrift) for tidskrift in tidskrifter]\n",
    "\n",
    "    def __str__(self):\n",
    "        text = self.name + \"ansvarar för:\\n\"\n",
    "        if self.böcker:\n",
    "            text += str(bok) for bok in self.böcker\n",
    "        if self.tidningar:   \n",
    "            text += str(tidning) for tidning in self.tidningar\n",
    "        if self.tidskrifter:    \n",
    "            text += str(tidskrift) for tidskrift in self.tidskrifter\n",
    "        return text\n",
    "\n",
    " ...\n",
    "# manuell test av Bibliotekarie\n",
    "bib1 = Bibliotekarie(\"Erik\", böcker=[\"Sagan om Ringen\", \"Hobbiten\"], \n",
    "tidningar=[\"Dagens Nyheter\"], tidskrifter=[\"Nature\"])\n",
    "bib2 = Bibliotekarie(\"Anna\", böcker=[\"Moby Dick\"], \n",
    "tidskrifter=[\"Science\"])\n",
    "print(bib1)\n",
    "print(bib2)\n",
    "# Implementera Bibliotekarie klassen så att du får liknande utskrift som nedan med det manuella \n",
    "# testet:\n",
    "# Erik ansvarar för:\n",
    "# [Bok: \"Sagan om Ringen\", Bok: \"Hobbiten\"]\n",
    "# [Tidning: \"Dagens Nyheter\"]\n",
    "# [Tidskrift: \"Nature\"]\n",
    "# Anna ansvarar för:\n",
    "# [Bok: \"Moby Dick\"]\n",
    "# [Tidskrift: \"Science\"]\n",
    "````"
   ]
  },
  {
   "cell_type": "code",
   "execution_count": 57,
   "metadata": {},
   "outputs": [
    {
     "name": "stdout",
     "output_type": "stream",
     "text": [
      "Erik ansvarar för:\n",
      "[Bok: \"Sagan om Ringen\", Bok: \"Hobbiten\"]\n",
      "[Tidning: \"Dagens Nyheter\"\n",
      "[Tidskrift: \"Nature\"\n",
      "\n",
      "Anna ansvarar för:\n",
      "[Bok: \"Moby Dick\"]\n",
      "[Tidskrift: \"Science\"\n",
      "\n"
     ]
    }
   ],
   "source": [
    "class Litteratur:\n",
    "    def __init__(self, titel):\n",
    "        self.titel = titel\n",
    "\n",
    "    def __str__(self):\n",
    "        return f'Litteratur: \"{self.titel}\"'\n",
    "\n",
    "class Bok(Litteratur):\n",
    "    def __str__(self):\n",
    "        return f'Bok: \"{self.titel}\"'\n",
    "\n",
    "class Tidning(Litteratur):\n",
    "    def __str__(self):\n",
    "        return f'Tidning: \"{self.titel}\"'\n",
    "\n",
    "class Tidskrift(Litteratur):\n",
    "    def __str__(self):\n",
    "        return f'Tidskrift: \"{self.titel}\"'\n",
    "# TO-DO: implementera Bibliotekarie\n",
    "class Bibliotekarie(Litteratur):\n",
    "    def __init__(self, name, böcker=None, tidningar=None, tidskrifter=None):\n",
    "        self.name = name\n",
    "        self.böcker = [Bok(bok) for bok in (böcker or [])]\n",
    "        self.tidningar = [Tidning(tidning) for tidning in (tidningar or [])]\n",
    "        self.tidskrifter = [Tidskrift(tidskrift) for tidskrift in (tidskrifter or [])]\n",
    "\n",
    "    def __str__(self):\n",
    "        text = self.name + \" ansvarar för:\\n\"\n",
    "        if self.böcker:\n",
    "            text += '[' + ', '.join([str(bok) for bok in self.böcker]) + \"]\\n\"\n",
    "        if self.tidningar:   \n",
    "            text += '[' + ', '.join([str(tidning) for tidning in self.tidningar]) + \"\\n\"\n",
    "        if self.tidskrifter:    \n",
    "            text += '[' + ', '.join([str(tidskrift) for tidskrift in self.tidskrifter]) + \"\\n\"\n",
    "        return text\n",
    "\n",
    "# manuell test of Bibliotekarie\n",
    "bib1 = Bibliotekarie(\"Erik\", böcker=[\"Sagan om Ringen\", \"Hobbiten\"], \n",
    "tidningar=[\"Dagens Nyheter\"], tidskrifter=[\"Nature\"])\n",
    "bib2 = Bibliotekarie(\"Anna\", böcker=[\"Moby Dick\"], \n",
    "tidskrifter=[\"Science\"])\n",
    "print(bib1)\n",
    "print(bib2)\n",
    "\n",
    "# Inplement the Bibliotikarie class so that you get a similar print like the one below with the above manuell test.\n",
    "# \n",
    "# Erik ansvarar för:\n",
    "# [Bok: \"Sagan om Ringen\", Bok: \"Hobbiten\"]\n",
    "# [Tidning: \"Dagens Nyheter\"]\n",
    "# [Tidskrift: \"Nature\"]\n",
    "# Anna ansvarar för:\n",
    "# [Bok: \"Moby Dick\"]\n",
    "# [Tidskrift: \"Science\"]"
   ]
  },
  {
   "cell_type": "code",
   "execution_count": 59,
   "metadata": {},
   "outputs": [
    {
     "data": {
      "text/plain": [
       "120"
      ]
     },
     "execution_count": 59,
     "metadata": {},
     "output_type": "execute_result"
    }
   ],
   "source": [
    "def factorial(n):\n",
    "    if n == 0:\n",
    "        return 1\n",
    "    else:\n",
    "        return n * factorial(n-1)\n",
    "\n",
    "factorial(5)"
   ]
  },
  {
   "cell_type": "code",
   "execution_count": 60,
   "metadata": {},
   "outputs": [
    {
     "name": "stdout",
     "output_type": "stream",
     "text": [
      "{'Ten': 10, 'Twenty': 20, 'Thirty': 30}\n"
     ]
    }
   ],
   "source": [
    "keys = ['Ten', 'Twenty', 'Thirty']\n",
    "values = [10, 20, 30]\n",
    "\n",
    "dict = dict(zip(keys, values))\n",
    "print(dict)"
   ]
  },
  {
   "cell_type": "code",
   "execution_count": 64,
   "metadata": {},
   "outputs": [
    {
     "name": "stdout",
     "output_type": "stream",
     "text": [
      "?ud reteh dav nasjeH\n"
     ]
    }
   ],
   "source": [
    "def reversed_string(string):\n",
    "    return string[::-1]\n",
    "\n",
    "user_input = input(\"say something: \")\n",
    "print(reversed_string(user_input))"
   ]
  },
  {
   "cell_type": "code",
   "execution_count": 71,
   "metadata": {},
   "outputs": [
    {
     "name": "stdout",
     "output_type": "stream",
     "text": [
      "blue: #0000FF\n",
      "purple = Unknown color\n",
      "blue: #0000FF\n",
      "red: #FF0000\n",
      "pink = Unknown color\n",
      "green: #00FF00\n"
     ]
    }
   ],
   "source": [
    "color_code = {\n",
    "    \"red\": \"#FF0000\",\n",
    "    \"green\": \"#00FF00\",\n",
    "    \"blue\": \"#0000FF\",\n",
    "}\n",
    "\n",
    "def get_color_code(color):\n",
    "    if color in color_code:\n",
    "        return f\"{color}: {color_code[color]}\"\n",
    "    else:\n",
    "        return f\"{color} = Unknown color\"\n",
    "    \n",
    "print(get_color_code('blue'))\n",
    "print(get_color_code('purple'))\n",
    "print(get_color_code('blue'))\n",
    "print(get_color_code('red'))\n",
    "print(get_color_code('pink'))\n",
    "print(get_color_code('green'))\n"
   ]
  },
  {
   "cell_type": "code",
   "execution_count": 73,
   "metadata": {},
   "outputs": [
    {
     "name": "stdout",
     "output_type": "stream",
     "text": [
      "Area = 4\n"
     ]
    }
   ],
   "source": [
    "class Rectangle:\n",
    "    def __init__(self, height:float, width:float):\n",
    "        self.heigth = height\n",
    "        self.width = width\n",
    "\n",
    "    def calculate_area(self):\n",
    "        return f\"Area = {self.heigth * self.width}\"\n",
    "    \n",
    "rectangle = Rectangle(2, 2)\n",
    "print(rectangle.calculate_area())\n"
   ]
  },
  {
   "cell_type": "code",
   "execution_count": 75,
   "metadata": {},
   "outputs": [
    {
     "name": "stdout",
     "output_type": "stream",
     "text": [
      "Buddy says Woof!\n",
      "Whiskers says Meow!\n",
      "Max says Woof!\n"
     ]
    }
   ],
   "source": [
    "class Animal:\n",
    "    def __init__(self, name):\n",
    "        self.name = name\n",
    "\n",
    "    def speak(self):\n",
    "        pass\n",
    "\n",
    "class Dog(Animal):\n",
    "    def speak(self):\n",
    "        return \"Woof!\"\n",
    "\n",
    "class Cat(Animal):\n",
    "    def speak(self):\n",
    "        return \"Meow!\"\n",
    "\n",
    "# TO-DO: Implement Zoo\n",
    "class Zoo:\n",
    "    def __init__(self):\n",
    "        self.animals = []\n",
    "\n",
    "    def add_animal(self, animal):\n",
    "        self.animals.append(animal)\n",
    "\n",
    "# Manual test of Zoo\n",
    "zoo = Zoo()\n",
    "zoo.add_animal(Dog(\"Buddy\"))\n",
    "zoo.add_animal(Cat(\"Whiskers\"))\n",
    "zoo.add_animal(Dog(\"Max\"))\n",
    "\n",
    "for animal in zoo.animals:\n",
    "    print(f\"{animal.name} says {animal.speak()}\")\n"
   ]
  },
  {
   "cell_type": "code",
   "execution_count": 76,
   "metadata": {},
   "outputs": [
    {
     "name": "stdout",
     "output_type": "stream",
     "text": [
      "Hi Julia! In 10 years you'll be 43 years old.\n"
     ]
    }
   ],
   "source": [
    "def greet_person(name: str, age: int):\n",
    "    return f\"Hi {name}! In 10 years you'll be {age+10} years old.\"\n",
    "\n",
    "name = input(\"Enter your name: \")\n",
    "age = int(input(\"Enter your age (only digits): \"))\n",
    "\n",
    "print(greet_person(name, age))"
   ]
  },
  {
   "cell_type": "code",
   "execution_count": 84,
   "metadata": {},
   "outputs": [
    {
     "name": "stdout",
     "output_type": "stream",
     "text": [
      "You wrote the following numbers(1, 2, 3). The largest one is 3.\n",
      "You wrote the following numbers(2, 3, 2). The largest one is 3.\n",
      "You wrote the following numbers(3, 2, 3). No single number is the largest\n"
     ]
    }
   ],
   "source": [
    "def largest_number(num1, num2, num3):\n",
    "    if num1 > num2 and num1 > num3:\n",
    "        print(f\"You wrote the following numbers{num1, num2, num3}. The largest number is {num1}.\")\n",
    "    elif num2 > num3 and num2 > num1:\n",
    "        print(f\"You wrote the following numbers{num1, num2, num3}. The largest number is {num2}.\")\n",
    "    elif num3 > num1 and num3 > num2:\n",
    "        print(f\"You wrote the following numbers{num1, num2, num3}. The largest number is {num3}.\")\n",
    "    else:\n",
    "        print(f\"You wrote the following numbers{num1, num2, num3}. No single number is the largest\")\n",
    "\n",
    "largest_number(1,2,3)\n",
    "largest_number(2,3,2)\n",
    "largest_number(3,2,3)"
   ]
  },
  {
   "cell_type": "code",
   "execution_count": 85,
   "metadata": {},
   "outputs": [
    {
     "data": {
      "text/plain": [
       "23446456"
      ]
     },
     "execution_count": 85,
     "metadata": {},
     "output_type": "execute_result"
    }
   ],
   "source": [
    "def find_max(a, b, c):\n",
    "    return max(a, b, c)\n",
    "\n",
    "find_max(1231245, 23446456, 23536)"
   ]
  },
  {
   "cell_type": "code",
   "execution_count": 89,
   "metadata": {},
   "outputs": [
    {
     "name": "stdout",
     "output_type": "stream",
     "text": [
      "0 1 1 2 3 5 8 13 21 34 55 89 144 233 377 610 987 1597 2584 4181 6765 10946 17711 28657 46368 75025 121393 196418 317811 514229 832040 1346269 2178309 3524578 5702887 9227465 14930352 24157817 39088169 63245986 102334155 165580141 267914296 433494437 701408733 1134903170 1836311903 2971215073 4807526976 7778742049 "
     ]
    }
   ],
   "source": [
    "# Fibonacci sequence\n",
    "a, b = 0, 1\n",
    "for _ in range(50):\n",
    "    print(a, end=\" \")\n",
    "    a, b = b, a + b\n"
   ]
  },
  {
   "cell_type": "code",
   "execution_count": 91,
   "metadata": {},
   "outputs": [
    {
     "name": "stdout",
     "output_type": "stream",
     "text": [
      "Hello Julia! I wish you a good day!\n"
     ]
    }
   ],
   "source": [
    "def greet_me(name = input(\"Enter your name: \")):\n",
    "    print(f\"Hello {name}! I wish you a good day!\")\n",
    "\n",
    "greet_me()"
   ]
  },
  {
   "cell_type": "code",
   "execution_count": 106,
   "metadata": {},
   "outputs": [
    {
     "name": "stdout",
     "output_type": "stream",
     "text": [
      "{'Name': 'Alice', 'age': 30, 'city': 'Wonderland'}\n",
      "30\n",
      "Not found\n",
      "Found, Gender = Female\n",
      "31\n",
      "{'Name': 'Alice', 'age': 31, 'gender': 'Female'}\n"
     ]
    }
   ],
   "source": [
    "person = {}\n",
    "person[\"Name\"] = \"Alice\"\n",
    "person[\"age\"] = 30\n",
    "person[\"city\"] = \"Wonderland\"\n",
    "print(person)\n",
    "print(person['age'])\n",
    "\n",
    "print(f\"Found, Gender = {person['gender']}\") if 'gender' in person else print(\"Not found\")\n",
    "person['gender'] = \"Female\"\n",
    "print(f\"Found, Gender = {person['gender']}\") if 'gender' in person else print(\"Not found\")\n",
    "person[\"age\"] = 31\n",
    "print(person['age'])\n",
    "person.pop('city')\n",
    "print(person)\n"
   ]
  },
  {
   "cell_type": "code",
   "execution_count": 115,
   "metadata": {},
   "outputs": [
    {
     "name": "stdout",
     "output_type": "stream",
     "text": [
      "merged_data={'Name': 'Alice', 'age': 31, 'gender': 'Female', 'title': 'Harry Potter', 'author': 'J.K. Rowling', 'year': 1997}\n",
      "book={'title': 'Harry Potter', 'author': 'J.K. Rowling', 'year': 1997}\n",
      "person={'Name': 'Alice', 'age': 31, 'gender': 'Female'}\n",
      "Key: Name, Value: Alice\n",
      "Key: age, Value: 31\n",
      "Key: gender, Value: Female\n",
      "Key: title, Value: Harry Potter\n",
      "Key: author, Value: J.K. Rowling\n",
      "Key: year, Value: 1997\n"
     ]
    }
   ],
   "source": [
    "book = {\n",
    "    \"title\": \"Harry Potter\",\n",
    "    \"author\": \"J.K. Rowling\",\n",
    "    \"year\": 1997\n",
    "}\n",
    "\n",
    "merged_data = {**person, **book}\n",
    "print(f\"{merged_data=}\")\n",
    "print(f\"{book=}\")\n",
    "print(f\"{person=}\")\n",
    "\n",
    "for key, value in merged_data.items():\n",
    "    print(f\"Key: {key}, Value: {value}\")"
   ]
  },
  {
   "cell_type": "code",
   "execution_count": 116,
   "metadata": {},
   "outputs": [
    {
     "name": "stdout",
     "output_type": "stream",
     "text": [
      "Key: Name, value: Alice\n",
      "Key: age, value: 31\n",
      "Key: gender, value: Female\n",
      "None\n",
      "Key: title, value: Harry Potter\n",
      "Key: author, value: J.K. Rowling\n",
      "Key: year, value: 1997\n",
      "None\n",
      "Key: Name, value: Alice\n",
      "Key: age, value: 31\n",
      "Key: gender, value: Female\n",
      "Key: title, value: Harry Potter\n",
      "Key: author, value: J.K. Rowling\n",
      "Key: year, value: 1997\n",
      "None\n"
     ]
    }
   ],
   "source": [
    "def print_dict(dict):\n",
    "    for key, value in dict.items():\n",
    "        print(f\"Key: {key}, value: {value}\")\n",
    "\n",
    "print(print_dict(person))\n",
    "print(print_dict(book))\n",
    "print(print_dict(merged_data))"
   ]
  },
  {
   "cell_type": "code",
   "execution_count": 119,
   "metadata": {},
   "outputs": [
    {
     "name": "stdout",
     "output_type": "stream",
     "text": [
      "nitaLarBralaTiN\n"
     ]
    }
   ],
   "source": [
    "def backwards_string(string):\n",
    "    return string[::-1]\n",
    "\n",
    "user_string = input(\"Enter text: \")\n",
    "print(backwards_string(user_string))"
   ]
  },
  {
   "cell_type": "code",
   "execution_count": 126,
   "metadata": {},
   "outputs": [
    {
     "name": "stdout",
     "output_type": "stream",
     "text": [
      "Your age: 15\n",
      "You're a minor. Come back in 3 years.\n"
     ]
    }
   ],
   "source": [
    "def adult_or_minor(age):\n",
    "    print(\"Your age: {age}\\nYou're an adult.\") if age >= 18 else print(f\"Your age: {age}\\nYou're a minor. Come back in {18 - age} years.\")\n",
    "\n",
    "user_age = int(input(\"Age: \"))\n",
    "adult_or_minor(user_age)"
   ]
  },
  {
   "cell_type": "code",
   "execution_count": 127,
   "metadata": {},
   "outputs": [
    {
     "name": "stdout",
     "output_type": "stream",
     "text": [
      "1 squared is: 1\n",
      "2 squared is: 4\n",
      "3 squared is: 9\n",
      "4 squared is: 16\n",
      "5 squared is: 25\n",
      "6 squared is: 36\n",
      "7 squared is: 49\n",
      "8 squared is: 64\n",
      "9 squared is: 81\n",
      "10 squared is: 100\n"
     ]
    }
   ],
   "source": [
    "numbers = [1, 2, 3, 4, 5, 6, 7, 8, 9, 10]\n",
    "for number in numbers:\n",
    "    squared_number = number**2\n",
    "    print(f\"{number} squared is: {squared_number}\")"
   ]
  },
  {
   "cell_type": "code",
   "execution_count": 128,
   "metadata": {},
   "outputs": [
    {
     "name": "stdout",
     "output_type": "stream",
     "text": [
      "Brand: Toyota\n",
      "Model: Corolla\n"
     ]
    }
   ],
   "source": [
    "class Car:\n",
    "    def __init__(self, brand, model):\n",
    "        self.brand = brand\n",
    "        self.model = model\n",
    "    def display_info(self):\n",
    "        return f\"Brand: {self.brand}\\nModel: {self.model}\"\n",
    "    \n",
    "vehicle = Car(\"Toyota\", \"Corolla\")\n",
    "print(vehicle.display_info())"
   ]
  },
  {
   "cell_type": "code",
   "execution_count": 133,
   "metadata": {},
   "outputs": [
    {
     "name": "stdout",
     "output_type": "stream",
     "text": [
      "Your guess: 50. That is to low.\n",
      "Your guess: 75. That is to low.\n",
      "Your guess: 87. That is to high.\n",
      "Your guess: 80. That is to high.\n",
      "Your guess: 84. That is to high.\n",
      "Your guess: 77. That is to low.\n",
      "Your guess: 78. That is right!\n",
      "Number of attempts: 7\n"
     ]
    }
   ],
   "source": [
    "import random\n",
    "\n",
    "random_number = random.randint(1, 101)\n",
    "tries = 0\n",
    "\n",
    "while True:\n",
    "    tries += 1\n",
    "    user_guess = int(input(\"Guess a number: \"))\n",
    "    if user_guess > random_number:\n",
    "        print(f\"Your guess: {user_guess}. That is to high.\")\n",
    "    if user_guess < random_number:\n",
    "        print(f\"Your guess: {user_guess}. That is to low.\")\n",
    "    else:\n",
    "        print(f\"Your guess: {user_guess}. That's right!\\nNumber of attempts: {tries}\")\n",
    "        break"
   ]
  },
  {
   "cell_type": "code",
   "execution_count": 134,
   "metadata": {},
   "outputs": [
    {
     "name": "stdout",
     "output_type": "stream",
     "text": [
      "[4, 8, 12, 16, 20]\n"
     ]
    }
   ],
   "source": [
    "nummer = [2, 4, 6, 8, 10]\n",
    "dubblade_nummer = [number*2 for number in nummer]\n",
    "print(dubblade_nummer)"
   ]
  }
 ],
 "metadata": {
  "kernelspec": {
   "display_name": "Python-Julia-Sjoholm-dUE-HgBH",
   "language": "python",
   "name": "python3"
  },
  "language_info": {
   "codemirror_mode": {
    "name": "ipython",
    "version": 3
   },
   "file_extension": ".py",
   "mimetype": "text/x-python",
   "name": "python",
   "nbconvert_exporter": "python",
   "pygments_lexer": "ipython3",
   "version": "3.11.5"
  },
  "orig_nbformat": 4
 },
 "nbformat": 4,
 "nbformat_minor": 2
}
