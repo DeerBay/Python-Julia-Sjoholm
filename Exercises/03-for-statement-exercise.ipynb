{
 "cells": [
  {
   "cell_type": "markdown",
   "metadata": {},
   "source": [
    "1. Count numbers (*)\n",
    "  Use a for statement to count from:\n",
    "\n",
    "    a)   -10 to 10 with one increment (*)\n",
    "\n",
    "    b)   -10 to 10 with two increment (*)"
   ]
  },
  {
   "cell_type": "code",
   "execution_count": 21,
   "metadata": {},
   "outputs": [
    {
     "name": "stdout",
     "output_type": "stream",
     "text": [
      "-10 -9 -8 -7 -6 -5 -4 -3 -2 -1 0 1 2 3 4 5 6 7 8 9 10 "
     ]
    }
   ],
   "source": [
    "for x in range(-10,11):\n",
    "    print(f\"{x}\", end=' ')"
   ]
  },
  {
   "cell_type": "code",
   "execution_count": 20,
   "metadata": {},
   "outputs": [
    {
     "name": "stdout",
     "output_type": "stream",
     "text": [
      "-10 -8 -6 -4 -2 0 2 4 6 8 10 "
     ]
    }
   ],
   "source": [
    "for x in range(-10, 11, 2):\n",
    "    print(f\"{x}\", end=' ')"
   ]
  },
  {
   "cell_type": "markdown",
   "metadata": {},
   "source": [
    "### 2. Arithmetic sum\n",
    "- Use a *for* statement to compute the following sum...."
   ]
  },
  {
   "cell_type": "code",
   "execution_count": 62,
   "metadata": {},
   "outputs": [
    {
     "name": "stdout",
     "output_type": "stream",
     "text": [
      "1 + 2 + 3 + 4 + 5 + 6 + 7 + 8 + 9 + 10 + 11 + 12 + 13 + 14 + 15 + 16 + 17 + 18 + 19 + 20 + 21 + 22 + 23 + 24 + 25 + 26 + 27 + 28 + 29 + 30 + 31 + 32 + 33 + 34 + 35 + 36 + 37 + 38 + 39 + 40 + 41 + 42 + 43 + 44 + 45 + 46 + 47 + 48 + 49 + 50 + 51 + 52 + 53 + 54 + 55 + 56 + 57 + 58 + 59 + 60 + 61 + 62 + 63 + 64 + 65 + 66 + 67 + 68 + 69 + 70 + 71 + 72 + 73 + 74 + 75 + 76 + 77 + 78 + 79 + 80 + 81 + 82 + 83 + 84 + 85 + 86 + 87 + 88 + 89 + 90 + 91 + 92 + 93 + 94 + 95 + 96 + 97 + 98 + 99 + 100 = 5050\n"
     ]
    }
   ],
   "source": [
    "x = 1\n",
    "sum = 0\n",
    "\n",
    "for x in range(1, 101):\n",
    "    if x != 100:\n",
    "        print(f\"{x} +\", end=\" \")\n",
    "    else:\n",
    "        print(f\"{x} = \", end=\"\")\n",
    "    sum += x\n",
    "print(sum)\n"
   ]
  },
  {
   "cell_type": "code",
   "execution_count": 61,
   "metadata": {},
   "outputs": [
    {
     "name": "stdout",
     "output_type": "stream",
     "text": [
      "1 + 3 + 5 + 7 + 9 + 11 + 13 + 15 + 17 + 19 + 21 + 23 + 25 + 27 + 29 + 31 + 33 + 35 + 37 + 39 + 41 + 43 + 45 + 47 + 49 + 51 + 53 + 55 + 57 + 59 + 61 + 63 + 65 + 67 + 69 + 71 + 73 + 75 + 77 + 79 + 81 + 83 + 85 + 87 + 89 + 91 + 93 + 95 + 97 + 99 = 2500\n"
     ]
    }
   ],
   "source": [
    "x =1\n",
    "sum = 0\n",
    "\n",
    "for x in range(1, 100, 2):\n",
    "    if x != 99:\n",
    "        print(f\"{x} +\", end=\" \")\n",
    "    else:\n",
    "        print(f\"{x} =\", end=\" \")\n",
    "    sum += x\n",
    "print(sum)\n",
    "  "
   ]
  },
  {
   "cell_type": "markdown",
   "metadata": {},
   "source": [
    "### 3. Multiplication table (*)\n",
    "Use for statement(s) to:\n",
    "\n",
    "  - a)   print out the 6th multiplication table from 0 to 10 (*)\n",
    "\n",
    "  - b)   let the user input the table, start and end of the table. (*)\n",
    "\n",
    "  - c)   print out a full multiplication table from 0 to 10. (**)\n",
    "\n",
    "Hint\n",
    "- c) Use nested for-loops, which means a for-loop in a for-loop. To format the table nicely, use f-string:\n",
    "\n",
    "print(f\"{number :4}\", end = \"\")\n",
    "Answer"
   ]
  },
  {
   "cell_type": "code",
   "execution_count": 6,
   "metadata": {},
   "outputs": [
    {
     "name": "stdout",
     "output_type": "stream",
     "text": [
      "6 x 0 = 0\n",
      "6 x 1 = 6\n",
      "6 x 2 = 12\n",
      "6 x 3 = 18\n",
      "6 x 4 = 24\n",
      "6 x 5 = 30\n",
      "6 x 6 = 36\n",
      "6 x 7 = 42\n",
      "6 x 8 = 48\n",
      "6 x 9 = 54\n",
      "6 x 10 = 60\n"
     ]
    }
   ],
   "source": [
    "# a)\n",
    "\n",
    "for i in range(11):\n",
    "    print(f\"6 x {i} = {i*6}\")\n"
   ]
  },
  {
   "cell_type": "code",
   "execution_count": null,
   "metadata": {},
   "outputs": [],
   "source": [
    "start =\n",
    "end = int(input(\"Write the end of \"))"
   ]
  }
 ],
 "metadata": {
  "kernelspec": {
   "display_name": "Python-Julia-Sjoholm-dUE-HgBH",
   "language": "python",
   "name": "python3"
  },
  "language_info": {
   "codemirror_mode": {
    "name": "ipython",
    "version": 3
   },
   "file_extension": ".py",
   "mimetype": "text/x-python",
   "name": "python",
   "nbconvert_exporter": "python",
   "pygments_lexer": "ipython3",
   "version": "3.11.5"
  },
  "orig_nbformat": 4
 },
 "nbformat": 4,
 "nbformat_minor": 2
}
