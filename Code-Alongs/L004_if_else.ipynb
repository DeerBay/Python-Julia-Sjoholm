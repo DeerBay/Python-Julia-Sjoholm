{
 "cells": [
  {
   "cell_type": "markdown",
   "metadata": {},
   "source": [
    "# If statements\n",
    "- **If** Essential part of if-statement\n",
    "- **Elif** zero, One or More Elif\n",
    "- **Else** Zero, One\n"
   ]
  },
  {
   "cell_type": "code",
   "execution_count": 14,
   "metadata": {},
   "outputs": [
    {
     "name": "stdout",
     "output_type": "stream",
     "text": [
      "Hello Julia!\n"
     ]
    }
   ],
   "source": [
    "x = 15\n",
    "name = 'Julia'\n",
    "\n",
    "if x < 10 or name == 'Jklia': \n",
    "    print('Yes!')    \n",
    "    print('True!')\n",
    "\n",
    "elif name == 'Julia':\n",
    "    print('Hello Julia!')\n",
    "\n",
    "else:\n",
    "    print(\"No!\")\n",
    "    print('False')"
   ]
  },
  {
   "cell_type": "markdown",
   "metadata": {},
   "source": [
    "# One line if statemnt\n",
    "When the if statement is followed by only one statement "
   ]
  },
  {
   "cell_type": "code",
   "execution_count": 4,
   "metadata": {},
   "outputs": [
    {
     "name": "stdout",
     "output_type": "stream",
     "text": [
      "Yes!\n"
     ]
    }
   ],
   "source": [
    "name = 'Julia'\n",
    "x = 9\n",
    "\n",
    "if x < 10 or name == \"Julia\": print('Yes!')"
   ]
  },
  {
   "cell_type": "markdown",
   "metadata": {},
   "source": [
    "# Ternery operator\n",
    "- A special Operator that takes three operands and returns one of two choices depending on if the middle expession evaluates to true or false. (TrueValue if expression else FalseValue)"
   ]
  },
  {
   "cell_type": "code",
   "execution_count": 23,
   "metadata": {},
   "outputs": [
    {
     "name": "stdout",
     "output_type": "stream",
     "text": [
      "Fredrik Johansson\n",
      "Please wait 1 second\n"
     ]
    }
   ],
   "source": [
    "name = \"Fredrik\"\n",
    "lastname = (\"Johansson\" if name == 'Fredrik' else \"???\")\n",
    "\n",
    "print(f\"{name } {lastname}\")\n",
    "\n",
    "seconds = 1\n",
    "print(f\"Please wait {seconds} second{'s' if seconds != 1 else ''}\")"
   ]
  }
 ],
 "metadata": {
  "kernelspec": {
   "display_name": "Python-Julia-Sjoholm-dUE-HgBH",
   "language": "python",
   "name": "python3"
  },
  "language_info": {
   "codemirror_mode": {
    "name": "ipython",
    "version": 3
   },
   "file_extension": ".py",
   "mimetype": "text/x-python",
   "name": "python",
   "nbconvert_exporter": "python",
   "pygments_lexer": "ipython3",
   "version": "3.11.5"
  },
  "orig_nbformat": 4
 },
 "nbformat": 4,
 "nbformat_minor": 2
}
