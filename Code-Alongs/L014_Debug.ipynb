{
 "cells": [
  {
   "cell_type": "markdown",
   "metadata": {},
   "source": [
    "# Debugging (Felsökning och rättning)\n",
    "\n",
    "- Felsökning och rättning av kod Finding and correcting errors (bugs) in kode.\n",
    "\n",
    "## Breakpiont\n",
    "\n",
    "In all IDE (Integrated Development Environmets) the developer has the possibility  to debug code by steping thorugh instructions one by one and look at the internal states (memory, variables) for each step.\n",
    "\n",
    "We can set one or multiple break points at any line in our code. When starting the program in debug mode, the code will will run up until ut hits the first breakpoint. From there we can inspect the current state of our program\n",
    "or we can use the \"step over\""
   ]
  },
  {
   "cell_type": "code",
   "execution_count": 7,
   "metadata": {},
   "outputs": [
    {
     "name": "stdout",
     "output_type": "stream",
     "text": [
      "Hello\n",
      "Hello\n",
      "Hello\n",
      "8\n"
     ]
    }
   ],
   "source": [
    "def greet(n):\n",
    "    for i in range(n):\n",
    "        print(\"Hello\")\n",
    "\n",
    "a = 5\n",
    "b = 3\n",
    "c = a + b\n",
    "my_list = [4, 5, 8, 8]\n",
    "my_list.append('Hello')\n",
    "greet(b)\n",
    "print(c)"
   ]
  }
 ],
 "metadata": {
  "kernelspec": {
   "display_name": "Python-Julia-Sjoholm-dUE-HgBH",
   "language": "python",
   "name": "python3"
  },
  "language_info": {
   "codemirror_mode": {
    "name": "ipython",
    "version": 3
   },
   "file_extension": ".py",
   "mimetype": "text/x-python",
   "name": "python",
   "nbconvert_exporter": "python",
   "pygments_lexer": "ipython3",
   "version": "3.11.5"
  },
  "orig_nbformat": 4
 },
 "nbformat": 4,
 "nbformat_minor": 2
}
