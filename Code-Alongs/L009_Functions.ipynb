{
 "cells": [
  {
   "cell_type": "markdown",
   "metadata": {},
   "source": [
    "# Abstaction levels\n",
    "In computing, an abstaction layer or abstaction level is a way of hiding the working details of a subsystem. When working on a low level of abstaction we're dealing with the fine details of the code, while, if we work on a high level of abstaction the details are hidden from us, so we get more of an overview of the system.\n",
    "\n",
    "# Functions\n",
    "- A function is a block of code which only runs when it is call.\n",
    "- In Python a function is defined using the **def** keyword.\n",
    "- Definition must come before call.\n",
    "- To call a function, use the functionname followed by parenthesis.\n",
    "- You can pass data, known as arguments into a function.\n",
    "- The number of arguments when calling must normally match number of parameters of definition.\n",
    "- A function may return data as a result."
   ]
  },
  {
   "cell_type": "code",
   "execution_count": 19,
   "metadata": {},
   "outputs": [
    {
     "name": "stdout",
     "output_type": "stream",
     "text": [
      "Hello Fredrik!\n",
      "Hello Anna!\n",
      "Hello Camilla!\n",
      "\n",
      "Hello Apple!\n",
      "Hello Pear!\n",
      "Hello Banana!\n",
      "Hello Kiwi!\n",
      "\n",
      "Hello Anna!\n"
     ]
    }
   ],
   "source": [
    "def greet(name): #måste alltid komma före anroptet\n",
    "    print(\"Hello \" + name + \"!\")\n",
    "\n",
    "def greet_people(people):\n",
    "    for person in people: #... eller pass för att skriva att funktionen inte är aktiv\n",
    "        greet(person)\n",
    "\n",
    "users = [\"Fredrik\", \"Anna\", \"Camilla\"]\n",
    "greet_people(users)\n",
    "\n",
    "print()\n",
    "fruits = [\"Apple\", \"Pear\", \"Banana\", \"Kiwi\"]\n",
    "greet_people(fruits)\n",
    "\n",
    "print()\n",
    "greet(\"Anna\")\n"
   ]
  },
  {
   "cell_type": "markdown",
   "metadata": {},
   "source": [
    "## Example of function returning a value"
   ]
  },
  {
   "cell_type": "code",
   "execution_count": 24,
   "metadata": {},
   "outputs": [
    {
     "name": "stdout",
     "output_type": "stream",
     "text": [
      "Hello Fredrik!\n",
      "Hello Camilla!\n",
      "Hello Anders!\n"
     ]
    }
   ],
   "source": [
    "def get_greeting(name):\n",
    "    greeting = \"Hello \" + name + \"!\"\n",
    "    \n",
    "    if name == \"Fredrik\":\n",
    "        return name\n",
    "    else:\n",
    "        return greeting # return användas för att retunera värden\n",
    "\n",
    "print(get_greeting(\"Fredrik\"))\n",
    "print(get_greeting(\"Camilla\"))\n",
    "\n",
    "my_greeting = get_greeting(\"Anders\")\n",
    "print(my_greeting)"
   ]
  },
  {
   "cell_type": "markdown",
   "metadata": {},
   "source": [
    "# Default values\n",
    "If a default value is specified for a parameter, it's possible to omit that argument when calling the function."
   ]
  },
  {
   "cell_type": "code",
   "execution_count": 4,
   "metadata": {},
   "outputs": [
    {
     "name": "stdout",
     "output_type": "stream",
     "text": [
      "Hello Fredrik!\n",
      "Hello Fredrik!\n",
      "Hello Fredrik!\n",
      "Hello Fredrik!\n",
      "Hello Fredrik!\n",
      "Hello Kalle!\n"
     ]
    }
   ],
   "source": [
    "def greet(name, number_og_times = 1):\n",
    "    for i in range(number_og_times):\n",
    "        print(\"Hello \" + name + \"!\")\n",
    "\n",
    "greet(\"Fredrik\", 5)\n",
    "greet(\"Kalle\")"
   ]
  }
 ],
 "metadata": {
  "kernelspec": {
   "display_name": "Python-Julia-Sjoholm-dUE-HgBH",
   "language": "python",
   "name": "python3"
  },
  "language_info": {
   "codemirror_mode": {
    "name": "ipython",
    "version": 3
   },
   "file_extension": ".py",
   "mimetype": "text/x-python",
   "name": "python",
   "nbconvert_exporter": "python",
   "pygments_lexer": "ipython3",
   "version": "3.11.5"
  },
  "orig_nbformat": 4
 },
 "nbformat": 4,
 "nbformat_minor": 2
}
