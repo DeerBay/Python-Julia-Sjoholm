{
 "cells": [
  {
   "cell_type": "markdown",
   "metadata": {},
   "source": [
    "# f-strings (Formatted string literals)\n",
    "\n",
    "- literal starts with f or F\n",
    "- Vaibles or expressions can be inserted with {}\n",
    "- Use = after expression to print expression and result (not only rresult)\n",
    "- quotes can be used inside expression as long as they differ from the quotetype of the f-string\n",
    "- For padding and alignment, use :{padding character (default space)}{aligment}{width}\n",
    "- Alignments: left <, center ^, right>. Defailt alignments left for sting right for number\n",
    "- Data type: Add data type after padding and alignment  eg: X:<20.2f\n",
    "- Data type formats: Fixed-point notation (f), Exponent notation (e), percentage (%)\n",
    "- use comma thousands separation eg: (1000:,) or (1000:,2f)\n"
   ]
  },
  {
   "cell_type": "code",
   "execution_count": 22,
   "metadata": {},
   "outputs": [
    {
     "name": "stdout",
     "output_type": "stream",
     "text": [
      "Hello Julia!\n",
      "5+8=13\n",
      "Hej \"Fredrik\".\n",
      "Hej 'Julia'.\n",
      "Hej \"Fre\n",
      "drik'.\n",
      "78.00%\n",
      "7.800e-01\n",
      "78.000000%\n",
      "10,000.00\n"
     ]
    }
   ],
   "source": [
    "name = 'Julia' #input(\"Enter your name: \")\n",
    "myString = f'Hello {name}!'\n",
    "print(myString)\n",
    "\n",
    "print(f\"{5+8=}\")\n",
    "\n",
    "print(f'Hej \"Fredrik\".')\n",
    "print(f\"Hej 'Julia'.\")\n",
    "print(f\"Hej \\\"Fre\\ndrik'.\")\n",
    "\n",
    "print(f\"{0.78:.2%}\")\n",
    "print(f\"{0.78:.3e}\")\n",
    "print(f\"{0.78:%}\")\n",
    "print(f\"{10000:,.2f}\")"
   ]
  },
  {
   "cell_type": "code",
   "execution_count": 15,
   "metadata": {},
   "outputs": [
    {
     "name": "stdout",
     "output_type": "stream",
     "text": [
      "FirstName           LastName\n",
      "xxxxxxxxxxxxxxxJuliaSjöholm\n"
     ]
    }
   ],
   "source": [
    "firstName = 'Julia'\n",
    "lastName = 'Sjöholm'\n",
    "print(f\"{'FirstName':20}{'LastName'}\")\n",
    "print(f\"{firstName:x>20}{lastName}\")"
   ]
  }
 ],
 "metadata": {
  "kernelspec": {
   "display_name": "Python-Julia-Sjoholm-dUE-HgBH",
   "language": "python",
   "name": "python3"
  },
  "language_info": {
   "codemirror_mode": {
    "name": "ipython",
    "version": 3
   },
   "file_extension": ".py",
   "mimetype": "text/x-python",
   "name": "python",
   "nbconvert_exporter": "python",
   "pygments_lexer": "ipython3",
   "version": "3.11.5"
  },
  "orig_nbformat": 4
 },
 "nbformat": 4,
 "nbformat_minor": 2
}
