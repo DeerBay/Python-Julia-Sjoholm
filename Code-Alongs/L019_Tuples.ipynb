{
 "cells": [
  {
   "cell_type": "markdown",
   "metadata": {},
   "source": [
    "# Tuples \n",
    "- Tuples are used to store mulitple items in a singel variable\n",
    "- Tuple items are ordered, unchangeable and allow duplicate values.\n",
    "- Tuple allows different datatypes and a mix if datatypes\n",
    "- Tuple items are indexed, the first item has index 0 and the second has index 1 a.s.o.\n",
    "- Tuples are written with round brackets Ex. (), (1, 2, 3)"
   ]
  },
  {
   "cell_type": "code",
   "execution_count": 4,
   "metadata": {},
   "outputs": [
    {
     "name": "stdout",
     "output_type": "stream",
     "text": [
      "my_tuple[0] = 'Fredrik'\n",
      "my_tuple = ('Kalle', 42, 'Everyloop')\n"
     ]
    }
   ],
   "source": [
    "# Create empty tuple\n",
    "empty_tuple = ()\n",
    "\n",
    "# create xtuple with one item\n",
    "single_item_tuple = (1, )\n",
    "\n",
    "# Create tuples with items\n",
    "\n",
    "my_tuple = (\"Fredrik\", 42, \"Everyloop\")\n",
    "\n",
    "# Tuples can be indexed and sliced\n",
    "print(f\"{my_tuple[0] = }\")\n",
    "\n",
    "# But individual items can not be ordered. The workaround to alter items is to convert to list and back.\n",
    "# my_tuple[0] = \"Kalle\" OBS! Fungerar inte.\n",
    "my_list = list(my_tuple)\n",
    "my_list[0] = \"Kalle\"\n",
    "my_tuple = tuple(my_list)\n",
    "\n",
    "print(f\"{my_tuple = }\")\n",
    "\n",
    "point = (5.3, 4.7)"
   ]
  },
  {
   "cell_type": "markdown",
   "metadata": {},
   "source": [
    "# Unpackning a tuple\n",
    "When we create a tuple, we nornally assign values to it, this is called packning a tuple.\n",
    "We are also allowed to extract values back into varibles, this is called unpackning."
   ]
  },
  {
   "cell_type": "code",
   "execution_count": 6,
   "metadata": {},
   "outputs": [
    {
     "name": "stdout",
     "output_type": "stream",
     "text": [
      "name = 'Kalle'\n",
      "age = 42\n",
      "company = 'Everyloop'\n"
     ]
    }
   ],
   "source": [
    "name, age, company = my_tuple\n",
    "print(f\"{name = }\")\n",
    "print(f\"{age = }\")\n",
    "print(f\"{company = }\")\n"
   ]
  },
  {
   "cell_type": "markdown",
   "metadata": {},
   "source": [
    "# Looping thru a tuple"
   ]
  },
  {
   "cell_type": "code",
   "execution_count": 7,
   "metadata": {},
   "outputs": [
    {
     "name": "stdout",
     "output_type": "stream",
     "text": [
      "Kalle\n",
      "42\n",
      "Everyloop\n"
     ]
    }
   ],
   "source": [
    "for item in my_tuple:\n",
    "    print(item)"
   ]
  },
  {
   "cell_type": "code",
   "execution_count": 8,
   "metadata": {},
   "outputs": [
    {
     "name": "stdout",
     "output_type": "stream",
     "text": [
      "Kalle\n",
      "42\n",
      "Everyloop\n"
     ]
    }
   ],
   "source": [
    "for i in range(len(my_tuple)):\n",
    "    print(my_tuple[i])"
   ]
  }
 ],
 "metadata": {
  "kernelspec": {
   "display_name": "Python-Julia-Sjoholm-dUE-HgBH",
   "language": "python",
   "name": "python3"
  },
  "language_info": {
   "codemirror_mode": {
    "name": "ipython",
    "version": 3
   },
   "file_extension": ".py",
   "mimetype": "text/x-python",
   "name": "python",
   "nbconvert_exporter": "python",
   "pygments_lexer": "ipython3",
   "version": "3.11.5"
  },
  "orig_nbformat": 4
 },
 "nbformat": 4,
 "nbformat_minor": 2
}
