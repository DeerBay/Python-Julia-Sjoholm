{
 "cells": [
  {
   "cell_type": "markdown",
   "metadata": {},
   "source": [
    "# Data types\n",
    "- **String** (för att lagra text)\n",
    "- **Int** (integer, heltal)\n",
    "- **Float** (floating point, flyttal [decimaltal])\n",
    "- **Bool** (boolean, true/false alltså en nolla eller etta) str"
   ]
  },
  {
   "cell_type": "code",
   "execution_count": 5,
   "metadata": {},
   "outputs": [
    {
     "name": "stdout",
     "output_type": "stream",
     "text": [
      "Julia\n",
      "8\n",
      "3.14\n",
      "True\n"
     ]
    }
   ],
   "source": [
    "MyString= 'Julia'\n",
    "print(MyString)\n",
    "\n",
    "myInt = 8\n",
    "print(myInt)\n",
    "\n",
    "myFloat = 3.14\n",
    "print(myFloat)\n",
    "\n",
    "myBool = True\n",
    "print(myBool)\n",
    "\n",
    "type(myInt)"
   ]
  },
  {
   "cell_type": "markdown",
   "metadata": {},
   "source": [
    "# Literal values\n",
    "- \"Hello\" **String** Can use single or double quotes. Case-sensitive. Liten stor bokstav.\n",
    "- 5 **Integer**\n",
    "- 4.5 **Float**\n",
    "- True **Bool** can be True or False"
   ]
  },
  {
   "cell_type": "markdown",
   "metadata": {},
   "source": [
    "# Variables\n",
    "- Case-sensitive\n",
    "- Created when first assigned, doesn't need to be declared.\n",
    "-  Dynamic typing, type is referred from assignment, can be re-typed.\n",
    "- Cast type with: str(), int(), float(), bool()\n",
    "- Get type with: type()\n",
    "- Ude del() to delete variables"
   ]
  },
  {
   "cell_type": "code",
   "execution_count": 17,
   "metadata": {},
   "outputs": [
    {
     "name": "stdout",
     "output_type": "stream",
     "text": [
      "58\n",
      "<class 'int'>\n",
      "<class 'str'>\n",
      "56\n",
      "False\n",
      "True\n"
     ]
    }
   ],
   "source": [
    "myNumber = '56'\n",
    "myNumber2 = int(myNumber)\n",
    "print(myNumber2 + 2)\n",
    "\n",
    "print(type(myNumber2))\n",
    "print(type(myNumber))\n",
    "\n",
    "## del(myNumber2)\n",
    "print(myNumber2)\n",
    "\n",
    "#casting numeric to bool gives true for everything but 0\n",
    "print(bool(0))\n",
    "# casting string to bool => false for empty string, true for not empty string\n",
    "print(bool('jshdksjh'))"
   ]
  },
  {
   "cell_type": "markdown",
   "metadata": {},
   "source": []
  },
  {
   "cell_type": "code",
   "execution_count": 14,
   "metadata": {},
   "outputs": [
    {
     "name": "stdout",
     "output_type": "stream",
     "text": [
      "Julia\n"
     ]
    }
   ],
   "source": [
    "name = input(\"Enter your name: \")\n",
    "print(name)"
   ]
  }
 ],
 "metadata": {
  "kernelspec": {
   "display_name": "Python-Julia-Sjoholm-dUE-HgBH",
   "language": "python",
   "name": "python3"
  },
  "language_info": {
   "codemirror_mode": {
    "name": "ipython",
    "version": 3
   },
   "file_extension": ".py",
   "mimetype": "text/x-python",
   "name": "python",
   "nbconvert_exporter": "python",
   "pygments_lexer": "ipython3",
   "version": "3.11.5"
  },
  "orig_nbformat": 4
 },
 "nbformat": 4,
 "nbformat_minor": 2
}
