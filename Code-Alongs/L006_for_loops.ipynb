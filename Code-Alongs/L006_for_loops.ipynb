{
 "cells": [
  {
   "cell_type": "code",
   "execution_count": null,
   "metadata": {},
   "outputs": [],
   "source": []
  },
  {
   "cell_type": "markdown",
   "metadata": {},
   "source": [
    "# For loops\n",
    "A for loop is used for iterating over a sequence. (Example: a list, a string, a dictionary or a range)\n",
    "\n",
    "This is less like the for keyword in the other programming language, and work more like an iterator method as found in other object-oriented programming languages (ex. C#'s foreach-loop)\n"
   ]
  },
  {
   "cell_type": "code",
   "execution_count": 4,
   "metadata": {},
   "outputs": [
    {
     "name": "stdout",
     "output_type": "stream",
     "text": [
      "Hej Fredrik!\n",
      "Hej Julia!\n",
      "Hej Anna!\n",
      "Hej Beril!\n",
      "Hej Mona!\n"
     ]
    }
   ],
   "source": [
    "#Example 1, iterating over the items in a list:\n",
    "names = [\"Fredrik\", \"Julia\", \"Anna\", \"Beril\", \"Mona\"]\n",
    "\n",
    "for name in names:\n",
    "    print(f\"Hej {name}!\")"
   ]
  },
  {
   "cell_type": "code",
   "execution_count": 10,
   "metadata": {},
   "outputs": [
    {
     "name": "stdout",
     "output_type": "stream",
     "text": [
      "Using only stop values (start defaults to zero):\n",
      "0\n",
      "1\n",
      "2\n",
      "\n",
      "Using start and stop values (start is inclusive, stop is exclusive):\n",
      "10\n",
      "11\n",
      "12\n",
      "\n",
      "Using start and stop values (step defaults to1 ):\n",
      "10\n",
      "12\n",
      "14\n",
      "16\n",
      "18\n",
      "\n",
      "Can also count reverse using a negative step value\n",
      "20\n",
      "17\n",
      "14\n",
      "11\n"
     ]
    }
   ],
   "source": [
    "#example 2, iterating over a range\n",
    "\n",
    "print(\"Using only stop values (start defaults to zero):\")\n",
    "for i in range(3):\n",
    "    print(i)\n",
    "\n",
    "print(\"\\nUsing start and stop values (start is inclusive, stop is exclusive):\")\n",
    "for i in range(10, 13):\n",
    "    print(i)\n",
    "\n",
    "print(\"\\nUsing start and stop values (step defaults to1 ):\")\n",
    "for i in range(10, 20, 2):\n",
    "    print(i)\n",
    "\n",
    "print(\"\\nCan also count reverse using a negative step value\")\n",
    "for i in range(20, 10, -3):\n",
    "    print(i)"
   ]
  },
  {
   "cell_type": "markdown",
   "metadata": {},
   "source": [
    "## Like while loops, for loops can also use the following statements:\n",
    "- continue\n",
    "- Break\n",
    "- Else"
   ]
  },
  {
   "cell_type": "markdown",
   "metadata": {},
   "source": [
    "## Nested loops\n",
    "\n",
    "A loop within a loop"
   ]
  },
  {
   "cell_type": "code",
   "execution_count": 8,
   "metadata": {},
   "outputs": [
    {
     "name": "stdout",
     "output_type": "stream",
     "text": [
      "ooooo\n",
      "ooooo\n",
      "ooooo\n"
     ]
    }
   ],
   "source": [
    "for y in range(3):\n",
    "    for x in range(5):\n",
    "        print(\"o\", end=\"\") #print(x, end=\"\") ger 01234 tre ggr\n",
    "    print()\n"
   ]
  }
 ],
 "metadata": {
  "kernelspec": {
   "display_name": "Python-Julia-Sjoholm-dUE-HgBH",
   "language": "python",
   "name": "python3"
  },
  "language_info": {
   "codemirror_mode": {
    "name": "ipython",
    "version": 3
   },
   "file_extension": ".py",
   "mimetype": "text/x-python",
   "name": "python",
   "nbconvert_exporter": "python",
   "pygments_lexer": "ipython3",
   "version": "3.11.5"
  },
  "orig_nbformat": 4
 },
 "nbformat": 4,
 "nbformat_minor": 2
}
