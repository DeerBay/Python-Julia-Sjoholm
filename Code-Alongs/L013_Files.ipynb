{
 "cells": [
  {
   "cell_type": "markdown",
   "metadata": {},
   "source": [
    "# Load and save data to files\n",
    "\n",
    "We can categorize files into two main categories, text files, binary files.\n",
    "\n",
    "- Text files stores text/caracthers in a human readable format.\n",
    "- Binary files stores byte data (1/0) that only computers understand.\n",
    "\n",
    "### Common text based files to store data\n",
    "- **.txt** Plain english (or other language) text for.\n",
    "- **.csv** Comma Separated Values \n",
    "- .json\n",
    "\n",
    "### File names and file path \n",
    "\n",
    "A file name usally has two parts, the name, and file extension, separted with a dot (e.g. name.extension).\n",
    "e.g hello.txt, data.json, myimage.jpg\n",
    "\n",
    "\n",
    "Paths can be expressed as either relative or absolute:\n",
    "- **Absolute** Full path C:\\Users\\glajusj\\Documents\\github\\Python-Julia-Sjoholm\\Code-Alongs\\L013_Files.ipynb\n",
    "- **Relative** Relative from the current active folder (data\\data.json)"
   ]
  },
  {
   "cell_type": "markdown",
   "metadata": {},
   "source": [
    "# File Handling\n",
    "The key function for working with files in Python is the open() function.\n",
    "\n",
    "The open() function takes two parameters; filename, and mode.\n",
    "\n",
    "There are four different methods (modes) for opening a file:\n",
    "\n",
    "- \"r\" - Read - Default value. Opens a file for reading, error if the file does not exist\n",
    "\n",
    "- \"a\" - Append - Opens a file for appending, creates the file if it does not exist\n",
    "\n",
    "- \"w\" - Write - Opens a file for writing, creates the file if it does not exist\n",
    "\n",
    "- \"x\" - Create - Creates the specified file, returns an error if the file exists\n",
    "\n",
    "In addition you can specify if the file should be handled as binary or text mode\n",
    "\n",
    "- \"t\" - Text - Default value. Text mode\n",
    "\n",
    "- \"b\" - Binary - Binary mode (e.g. images)"
   ]
  },
  {
   "cell_type": "markdown",
   "metadata": {},
   "source": [
    "## Open file for reading\n"
   ]
  },
  {
   "cell_type": "code",
   "execution_count": 20,
   "metadata": {},
   "outputs": [
    {
     "name": "stdout",
     "output_type": "stream",
     "text": [
      "This is my text. This is another text.One more time.123\n",
      "Row two. \n",
      "This is another line.\n",
      "\n"
     ]
    }
   ],
   "source": [
    "file = open(\"..\\Data\\hello.txt\") #två punkter för att gå upp en mapp i strukturen\n",
    "\n",
    "content = file.read()\n",
    "\n",
    "print(content)\n",
    "file.close()"
   ]
  },
  {
   "cell_type": "markdown",
   "metadata": {},
   "source": [
    "Open with context management"
   ]
  },
  {
   "cell_type": "code",
   "execution_count": null,
   "metadata": {},
   "outputs": [],
   "source": [
    "with open(\"..\\Data\\hello.txt\") as file: #stänger kodblocket per automatik.\n",
    "    content = file.read()\n",
    "    print(content)\n"
   ]
  },
  {
   "cell_type": "markdown",
   "metadata": {},
   "source": [
    "## Open file for writing"
   ]
  },
  {
   "cell_type": "code",
   "execution_count": 8,
   "metadata": {},
   "outputs": [],
   "source": [
    "#file = open(\"..\\Data\\hello.txt\", \"w\") #Skriver över hela filen\n",
    "new_content = input(\"Enter text \")\n",
    "with open(\"..\\Data\\hello.txt\", \"a\") as file:\n",
    "    file.write(new_content + '\\n')\n"
   ]
  },
  {
   "cell_type": "markdown",
   "metadata": {},
   "source": [
    "## Miniuppgift \n",
    "Skapa ett program som har en tom lista när programmet körs får användaren mata in namn, så input, i en loop till användaren matar in en tom rad. När den är klar så sparas listan till en fil, med ett namn på varje rad. Nästa gång man startar programmet så läser den in det befintliga namnen."
   ]
  },
  {
   "cell_type": "code",
   "execution_count": 7,
   "metadata": {},
   "outputs": [
    {
     "name": "stdout",
     "output_type": "stream",
     "text": [
      "['Anna\\n', 'Fredrik\\n', 'AnnaSvenAnnSbenAnnaKallePelleAdam', 'Anna']\n",
      "Names are saved!\n"
     ]
    }
   ],
   "source": [
    "with open(\"..\\\\Data\\\\list_of_names.txt\", \"r\") as file:\n",
    "    names = file.readlines()\n",
    "\n",
    "\n",
    "while True:\n",
    "    name = input(\"Add a name: \")\n",
    "    if not name: break\n",
    "    names.append(name)\n",
    "\n",
    "print(names)\n",
    "\n",
    "#for name in names:\n",
    " #   print(name)\n",
    "\n",
    "with open(\"..\\\\Data\\\\list_of_names.txt\", \"w\") as file:\n",
    "        file.writelines(names)\n",
    "\n",
    "print(\"Names are saved!\")\n"
   ]
  },
  {
   "cell_type": "markdown",
   "metadata": {},
   "source": [
    "# Write .csv file"
   ]
  },
  {
   "cell_type": "code",
   "execution_count": 19,
   "metadata": {},
   "outputs": [
    {
     "name": "stdout",
     "output_type": "stream",
     "text": [
      "[{'name': 'Adam', 'class': 'AI23', 'email': 'adam@gmail.com'}, {'name': 'Kalle', 'class': 'AI23', 'email': 'kalle@gmail.com'}, {'name': 'Eva', 'class': 'AI23', 'email': 'eva@gmail.com'}]\n"
     ]
    }
   ],
   "source": [
    "students = [\n",
    "    {\"name\": \"Adam\", \"class\": \"AI23\", \"email\": \"adam@gmail.com\"},\n",
    "    {\"name\": \"Kalle\", \"class\": \"AI23\", \"email\": \"kalle@gmail.com\"},\n",
    "    {\"name\": \"Eva\", \"class\": \"AI23\",\"email\": \"eva@gmail.com\"},\n",
    "]\n",
    "\n",
    "print(students)\n",
    "\n",
    "with open(\"..\\\\Data\\\\students.csv\", \"w\") as file:\n",
    "    for student in students:\n",
    "        file.write(f\"{student['name']}, {student['class']}, {student['email']}\\n\")"
   ]
  },
  {
   "cell_type": "markdown",
   "metadata": {},
   "source": [
    "## Using csv package"
   ]
  },
  {
   "cell_type": "code",
   "execution_count": 25,
   "metadata": {},
   "outputs": [
    {
     "name": "stdout",
     "output_type": "stream",
     "text": [
      "[{'name': 'Adam', 'class': 'AI23', 'email': 'adam@gmail.com'}, {'name': 'Kalle', 'class': 'AI23', 'email': 'kalle@gmail.com'}, {'name': 'Eva', 'class': 'AI23', 'email': 'eva@gmail.com'}]\n"
     ]
    }
   ],
   "source": [
    "import csv\n",
    "\n",
    "students = []\n",
    "\n",
    "with open(\"..\\\\Data\\\\students.csv\") as file:\n",
    "    reader = csv.DictReader(file)\n",
    "\n",
    "    for row in reader:\n",
    "        students.append({\"name\": row[\"name\"], \"class\": row[\"class\"], \"email\": row[\"email\"]})\n",
    "\n",
    "print(students)\n"
   ]
  }
 ],
 "metadata": {
  "kernelspec": {
   "display_name": "Python-Julia-Sjoholm-dUE-HgBH",
   "language": "python",
   "name": "python3"
  },
  "language_info": {
   "codemirror_mode": {
    "name": "ipython",
    "version": 3
   },
   "file_extension": ".py",
   "mimetype": "text/x-python",
   "name": "python",
   "nbconvert_exporter": "python",
   "pygments_lexer": "ipython3",
   "version": "3.11.5"
  },
  "orig_nbformat": 4
 },
 "nbformat": 4,
 "nbformat_minor": 2
}
