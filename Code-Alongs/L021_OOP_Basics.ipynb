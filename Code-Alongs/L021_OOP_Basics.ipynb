{
 "cells": [
  {
   "cell_type": "markdown",
   "metadata": {},
   "source": [
    "# Object oriented programming (OOP)\n",
    "- A \"class\" is a blue print (pepparkaksform) that can be used to create objects\n",
    "- An \"instance\" (or object) is the actual object containing data and methods"
   ]
  },
  {
   "cell_type": "code",
   "execution_count": 5,
   "metadata": {},
   "outputs": [
    {
     "name": "stdout",
     "output_type": "stream",
     "text": [
      "Fredrik Johansson\n",
      "Lisa Karlsson\n"
     ]
    }
   ],
   "source": [
    "student_a = {\"FirstName\": \"Fredrik\", \"LastName\": \"Johansson\", \"Age\": 42, \"Grade\": 3.4}\n",
    "student_b = {\"FirstName\": \"Lisa\", \"LastName\": \"Karlsson\", \"Age\": 24, \"Grade\": 4.2}\n",
    "\n",
    "students = [student_a, student_b]\n",
    "\n",
    "def set_grade(student, grade):\n",
    "    student[\"Grade\"] = grade\n",
    "\n",
    "def get_name(student):\n",
    "    return f'{student[\"FirstName\"]} {student[\"LastName\"]}'\n",
    "\n",
    "for student in students:\n",
    "    set_grade(student, 3.0)\n",
    "    print(get_name(student))\n",
    "\n",
    "pass\n",
    "\n"
   ]
  },
  {
   "cell_type": "code",
   "execution_count": 32,
   "metadata": {},
   "outputs": [],
   "source": [
    "class Student: #Write the name of the class with upper firstletter\n",
    "    def __init__(self, name, grade): #Method, looks similar to function but is not\n",
    "        self.grade = grade\n",
    "        self.name = name\n",
    "\n",
    "    def set_grade(self, grade): # Self refers to the intance\n",
    "        self.grade = grade\n",
    "        "
   ]
  },
  {
   "cell_type": "code",
   "execution_count": 40,
   "metadata": {},
   "outputs": [
    {
     "name": "stdout",
     "output_type": "stream",
     "text": [
      "{'grade': 4.3, 'name': 'Fredrik'}\n",
      "{'grade': 4.4, 'name': 'Anna'}\n",
      "\n",
      "{'grade': 4.6, 'name': 'Fredrik', 'age': 42}\n",
      "{'grade': 3.1, 'name': 'Anna'}\n"
     ]
    }
   ],
   "source": [
    "student_a = Student(\"Fredrik\", 4.3) # Create instance, a student object in memory\n",
    "student_b = Student(\"Anna\", 4.4) # Create instance, a student object in memory\n",
    "\n",
    "print(student_a.__dict__)\n",
    "print(student_b.__dict__)\n",
    "\n",
    "student_a.set_grade(4.6)\n",
    "student_b.set_grade(3.1)\n",
    "student_a.age = 42 # A attribute in a object\n",
    "\n",
    "print()\n",
    "print(student_a.__dict__)\n",
    "print(student_b.__dict__)"
   ]
  },
  {
   "cell_type": "code",
   "execution_count": 16,
   "metadata": {},
   "outputs": [
    {
     "name": "stdout",
     "output_type": "stream",
     "text": [
      "Fredrik\n",
      "Anna\n",
      "{'name': 'Fredrik', 'age': 42, 'dict': {'FirstName': 'Fredrik', 'LastName': 'Johansson', 'Age': 42, 'Grade': 3.4}}\n",
      "<built-in method __sizeof__ of Student object at 0x000001B5706E0E10>\n"
     ]
    }
   ],
   "source": [
    "student_a = Student() # Instance\n",
    "student_b = Student()\n",
    "\n",
    "student_a.name = \"Fredrik\" #\n",
    "student_a.age = 42\n",
    "student_a.dict = {\"FirstName\": \"Fredrik\", \"LastName\": \"Johansson\", \"Age\": 42, \"Grade\": 3.4}\n",
    "\n",
    "student_b.name = \"Anna\"\n",
    "student_b.age = 24\n",
    "\n",
    "print(student_a.name)\n",
    "print(student_b.name)\n",
    "print(student_a.__dict__)\n",
    "\n",
    "\n"
   ]
  },
  {
   "cell_type": "code",
   "execution_count": 39,
   "metadata": {},
   "outputs": [
    {
     "data": {
      "text/plain": [
       "'Fredrik'"
      ]
     },
     "execution_count": 39,
     "metadata": {},
     "output_type": "execute_result"
    }
   ],
   "source": [
    "class str:\n",
    "    def upper(self):\n",
    "        ...\n",
    "\n",
    "name = \"fredrik\"\n",
    "name.title()"
   ]
  },
  {
   "cell_type": "code",
   "execution_count": 45,
   "metadata": {},
   "outputs": [
    {
     "data": {
      "text/plain": [
       "'fem'"
      ]
     },
     "execution_count": 45,
     "metadata": {},
     "output_type": "execute_result"
    }
   ],
   "source": [
    "student_a.set_grade('fem')\n",
    "student_a.grade"
   ]
  },
  {
   "cell_type": "code",
   "execution_count": 113,
   "metadata": {},
   "outputs": [],
   "source": [
    "class Cat:\n",
    "    def __init__(self, name, age):\n",
    "        self.name = name\n",
    "        self.age = age\n",
    "\n",
    "    def greet(self, other_cat = None):\n",
    "        if other_cat == None:\n",
    "            print(f\"Hello, I'm {self.name}, and I'm {self.age} years old.\")\n",
    "        else:\n",
    "            if other_cat.age < self.age:\n",
    "                print(f\"Hello {other_cat.name}, my name is {self.name}, and I'm {self.age - other_cat.age} years older than you.\")\n",
    "            elif other_cat.age == self.age:\n",
    "                print(f\"Hello {other_cat.name}, my name is {self.name}, we're both {self.age} years old.\")\n",
    "            else:\n",
    "                print(f\"Hello {other_cat.name}, my name is {self.name}, and I'm {other_cat.age - self.age} years younger than you.\")\n",
    "    \n",
    "    def print_best_friend(self):\n",
    "        try:\n",
    "            print(f\"My name is {self.name}, and my best friend is {self.best_friend.name} <3!\")\n",
    "        except:\n",
    "            print(f\"My name is {self.name}, and I hate all other cats!\")\n"
   ]
  },
  {
   "cell_type": "code",
   "execution_count": 114,
   "metadata": {},
   "outputs": [
    {
     "name": "stdout",
     "output_type": "stream",
     "text": [
      "My name is Misse, and my best friend is Mjau <3!\n",
      "My name is Kisse, and I hate all other cats!\n",
      "My name is Mjau, and my best friend is Misse <3!\n",
      "My name is Jens, and I hate all other cats!\n",
      "Hello, I'm Misse, and I'm 3 years old.\n",
      "Hello, I'm Kisse, and I'm 2 years old.\n",
      "Hello Kisse, my name is Misse, and I'm 1 years older than you.\n",
      "Hello Misse, my name is Kisse, and I'm 1 years younger than you.\n",
      "Hello Mjau, my name is Kisse, and I'm 3 years younger than you.\n",
      "Hello Jens, my name is Misse, we're both 3 years old.\n"
     ]
    }
   ],
   "source": [
    "my_cat = Cat(\"Misse\", 3)\n",
    "my_other_cat = Cat(\"Kisse\", 2)\n",
    "my_third_cat = Cat(\"Mjau\", 5)\n",
    "my_fourth_cat = Cat(\"Jens\", 3)\n",
    "\n",
    "my_cat.best_friend = my_third_cat\n",
    "my_third_cat.best_friend = my_cat\n",
    "\n",
    "cats = [my_cat, my_other_cat, my_third_cat, my_fourth_cat]\n",
    "\n",
    "for cat in cats:\n",
    "    cat.print_best_friend()\n",
    "    \n",
    "my_cat.greet()\n",
    "my_other_cat.greet()\n",
    "\n",
    "my_cat.greet(my_other_cat)\n",
    "my_other_cat.greet(my_cat)\n",
    "my_other_cat.greet(my_third_cat)\n",
    "my_cat.greet(my_fourth_cat)"
   ]
  }
 ],
 "metadata": {
  "kernelspec": {
   "display_name": "Python-Julia-Sjoholm-dUE-HgBH",
   "language": "python",
   "name": "python3"
  },
  "language_info": {
   "codemirror_mode": {
    "name": "ipython",
    "version": 3
   },
   "file_extension": ".py",
   "mimetype": "text/x-python",
   "name": "python",
   "nbconvert_exporter": "python",
   "pygments_lexer": "ipython3",
   "version": "3.11.5"
  },
  "orig_nbformat": 4
 },
 "nbformat": 4,
 "nbformat_minor": 2
}
