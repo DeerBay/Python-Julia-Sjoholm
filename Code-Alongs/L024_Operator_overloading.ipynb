{
 "cells": [
  {
   "cell_type": "markdown",
   "metadata": {},
   "source": [
    "# Operator overloading"
   ]
  },
  {
   "cell_type": "code",
   "execution_count": 16,
   "metadata": {},
   "outputs": [
    {
     "data": {
      "text/plain": [
       "('PelleMåns', 17)"
      ]
     },
     "execution_count": 16,
     "metadata": {},
     "output_type": "execute_result"
    }
   ],
   "source": [
    "class Cat:\n",
    "    def __init__(self, name, age):\n",
    "        self.name = name\n",
    "        self.age = age\n",
    "\n",
    "    def __add__(self, other):\n",
    "        return self.name + other.name, self.age + other.age\n",
    "\n",
    "cat_b = Cat(\"Måns\", 9)\n",
    "cat_a = Cat(\"Pelle\", 8)\n",
    "\n",
    "cat_a + cat_b"
   ]
  },
  {
   "cell_type": "code",
   "execution_count": 27,
   "metadata": {},
   "outputs": [
    {
     "data": {
      "text/plain": [
       "Kelvin = 278.15, Celcius = 5.0"
      ]
     },
     "execution_count": 27,
     "metadata": {},
     "output_type": "execute_result"
    }
   ],
   "source": [
    "class Temerature:\n",
    "    def __init__(self, kelvin=None, celsius=None):\n",
    "        if kelvin is not None:\n",
    "            self.kelvin = kelvin\n",
    "        else:\n",
    "            self.celsius = celsius\n",
    "\n",
    "    @property\n",
    "    def kelvin(self): #getter\n",
    "        return self._kelvin\n",
    "    \n",
    "    @kelvin.setter #setter\n",
    "    def kelvin(self, kelvin):\n",
    "        self._kelvin = kelvin\n",
    "\n",
    "    @property\n",
    "    def celsius(self):\n",
    "        return self._kelvin - 273.15\n",
    "    \n",
    "    @celsius.setter\n",
    "    def celsius(self, celsius):\n",
    "        self._kelvin = celsius + 273.15\n",
    "\n",
    "    def __repr__(self):\n",
    "        return f\"Kelvin = {self.kelvin}, Celcius = {self.celsius}\"\n",
    "\n",
    "\n",
    "t1 = Temerature(celsius = 5)\n",
    "\n",
    "t1 #repr\n",
    "\n"
   ]
  }
 ],
 "metadata": {
  "kernelspec": {
   "display_name": "Python-Julia-Sjoholm-dUE-HgBH",
   "language": "python",
   "name": "python3"
  },
  "language_info": {
   "codemirror_mode": {
    "name": "ipython",
    "version": 3
   },
   "file_extension": ".py",
   "mimetype": "text/x-python",
   "name": "python",
   "nbconvert_exporter": "python",
   "pygments_lexer": "ipython3",
   "version": "3.11.5"
  },
  "orig_nbformat": 4
 },
 "nbformat": 4,
 "nbformat_minor": 2
}
