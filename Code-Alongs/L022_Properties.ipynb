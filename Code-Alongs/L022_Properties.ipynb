{
 "cells": [
  {
   "cell_type": "markdown",
   "metadata": {},
   "source": [
    "# Properties (sinf. Property, sv. Egenskaper)\n",
    "A property is a python constuction (OOP concept) that work similar to attrubute with the differens that an attribute stores (and reads) the value directly to memory, while a property uses getter and setter methods to chande the valur of the property.\n",
    "\n",
    "From the outside (of the class definition) when a property of an object is set, the object internl setter method will be called to handle the operation. This method is marked in the class definition by a decorater called {name}.setter(where \"name\" is the name of the property)\n",
    "\n",
    "When the property is read (from the outside), the object internal getter method will be clled to return value. The getter method is marked In the class definition by a decorater called @property."
   ]
  },
  {
   "cell_type": "code",
   "execution_count": 36,
   "metadata": {},
   "outputs": [],
   "source": [
    "class Employee:\n",
    "    def __init__(self, name, salary):\n",
    "        self.name =name\n",
    "        self.salary = salary\n",
    "    # Getter method\n",
    "    @property # Decorater, salary is the property name\n",
    "    def salary(self):\n",
    "        return self._salary\n",
    "    \n",
    "    @salary.setter\n",
    "    def salary(self, salary):\n",
    "        self._salary = 0 if salary < 0 else salary\n",
    "\n",
    "    \n",
    "    "
   ]
  },
  {
   "cell_type": "code",
   "execution_count": 38,
   "metadata": {},
   "outputs": [
    {
     "name": "stdout",
     "output_type": "stream",
     "text": [
      "0\n"
     ]
    }
   ],
   "source": [
    "employee = Employee(\"Julia\", 50000)\n",
    "employee2 = Employee(\"Bertil\", -40000)\n",
    "\n",
    "employee.salary = -5000\n",
    "print(employee.salary)\n",
    "\n",
    "# employee.set_salary(70000)\n",
    "# employee2.set_salary(-30000)\n",
    "\n",
    "# # employee._salary = -50, Don't do it like this, it indicates it's private.\n",
    "\n",
    "# print(employee.get_salary())\n",
    "# print(employee2.get_salary())"
   ]
  }
 ],
 "metadata": {
  "kernelspec": {
   "display_name": "Python-Julia-Sjoholm-dUE-HgBH",
   "language": "python",
   "name": "python3"
  },
  "language_info": {
   "codemirror_mode": {
    "name": "ipython",
    "version": 3
   },
   "file_extension": ".py",
   "mimetype": "text/x-python",
   "name": "python",
   "nbconvert_exporter": "python",
   "pygments_lexer": "ipython3",
   "version": "3.11.5"
  },
  "orig_nbformat": 4
 },
 "nbformat": 4,
 "nbformat_minor": 2
}
