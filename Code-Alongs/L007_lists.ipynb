{
 "cells": [
  {
   "cell_type": "markdown",
   "metadata": {},
   "source": [
    "# Python lists\n",
    "\n",
    "- Lists are one of 4 built-in data types in Python used to store collections of data, the other 3 are Tuple, Set, and Dictionary, all with different qualities and usage.\n",
    "- Lists are used to store multiple items in a single variable.\n",
    "- Lists are created using square brackets: []\n",
    "- List items are ordered, changeable (mutable), and allow duplicate values.\n",
    "- List items can be of any data type, and can contain different data types."
   ]
  },
  {
   "cell_type": "code",
   "execution_count": 2,
   "metadata": {},
   "outputs": [
    {
     "name": "stdout",
     "output_type": "stream",
     "text": [
      "fruits = ['apple', 'banana', 'cherry', 'orange', 'apple']\n",
      "len(fruits) = 5\n",
      "fruits.count('apple') = 2\n",
      "fruits = ['apple', 'banana', 'cherry', 'orange', 'apple', 'melon', 'kiwi']\n",
      "fruits = ['apple', 'banana', 'cherry', 'orange', 'apple', 'melon', 'kiwi', 'pear', 'coconut', 'pineapple', 5, [5, 4, 2], True, 4.3]\n"
     ]
    }
   ],
   "source": [
    "empty = []\n",
    "fruits = [\"apple\", \"banana\", \"cherry\", \"orange\", \"apple\"]\n",
    "random_stuffs = [\"pear\", \"coconut\", \"pineapple\", 5, [5, 4, 2], True, 4.3]\n",
    "\n",
    "\n",
    "print(f\"{fruits = }\")\n",
    "print(f\"{len(fruits) = }\")   # Use len() to get number of items in list\n",
    "print(f\"{fruits.count('apple') = }\") # .count() count number of occurances of a value\n",
    "\n",
    "fruits.append('melon') # Append an item to a list.\n",
    "fruits.append('kiwi')\n",
    "print(f\"{fruits = }\")\n",
    "\n",
    "fruits += random_stuffs # alt. fruits.extend(more_fruits). Appends all items from a second list\n",
    "print(f\"{fruits = }\")"
   ]
  },
  {
   "cell_type": "markdown",
   "metadata": {},
   "source": [
    "# Indexing & slicing \n",
    "\n",
    "- list items are indexed, the first item has index [0], the second item has index [1]\n",
    "- make sure the index exist, or the program will crash with a out of index message\n",
    "- negative indexing [-1] refers to the last item, [-2] refers to the second last item\n",
    "- slicing specifying a range of indexes returns a new list with the specified items [start:stop:step(optional)]"
   ]
  },
  {
   "cell_type": "code",
   "execution_count": 3,
   "metadata": {},
   "outputs": [
    {
     "name": "stdout",
     "output_type": "stream",
     "text": [
      "fruits[0] = 'apple'\n",
      "fruits[-1] = 4.3\n",
      "\n",
      "fruits[-3][1] = 4\n",
      "fruits[2:5] = ['cherry', 'orange', 'apple']\n",
      "fruits[:5] = ['apple', 'banana', 'cherry', 'orange', 'apple']\n",
      "fruits[5:] = ['melon', 'kiwi', 'pear', 'coconut', 'pineapple', 5, [5, 4, 2], True, 4.3]\n",
      "fruits[:5:] + fruits[5:] = ['apple', 'banana', 'cherry', 'orange', 'apple', 'melon', 'kiwi', 'pear', 'coconut', 'pineapple', 5, [5, 4, 2], True, 4.3]\n",
      "fruits[:] = ['apple', 'banana', 'cherry', 'orange', 'apple', 'melon', 'kiwi', 'pear', 'coconut', 'pineapple', 5, [5, 4, 2], True, 4.3]\n",
      "fruits[-3:] = [[5, 4, 2], True, 4.3]\n",
      "fruits[1:10:2] = ['banana', 'orange', 'melon', 'pear', 'pineapple']\n",
      "fruits[::3] = ['apple', 'orange', 'kiwi', 'pineapple', True]\n",
      "fruits[::-1] = [4.3, True, [5, 4, 2], 5, 'pineapple', 'coconut', 'pear', 'kiwi', 'melon', 'apple', 'orange', 'cherry', 'banana', 'apple']\n"
     ]
    }
   ],
   "source": [
    "print(f\"{fruits[0] = }\")\n",
    "print(f\"{fruits[-1] = }\")\n",
    "print()\n",
    "print(f\"{fruits[-3][1] = }\")\n",
    "print(f\"{fruits[2:5] = }\")\n",
    "print(f\"{fruits[:5] = }\")\n",
    "print(f\"{fruits[5:] = }\")\n",
    "print(f\"{fruits[:5:] + fruits[5:] = }\")\n",
    "print(f\"{fruits[:] = }\")\n",
    "print(f\"{fruits[-3:] = }\")\n",
    "print(f\"{fruits[1:10:2] = }\") #tar bara varannan med step\n",
    "print(f\"{fruits[::3] = }\") #tar bara var tredje från start till slut\n",
    "print(f\"{fruits[::-1] = }\") #reverse"
   ]
  },
  {
   "cell_type": "markdown",
   "metadata": {},
   "source": [
    "# Looping through a list"
   ]
  },
  {
   "cell_type": "code",
   "execution_count": 3,
   "metadata": {},
   "outputs": [
    {
     "name": "stdout",
     "output_type": "stream",
     "text": [
      "apple, banana, cherry, orange, apple, melon, kiwi, pear, coconut, pineapple, "
     ]
    }
   ],
   "source": [
    "for fruit in fruits[:-4]: #tar bara med frukterna2, allt utom sista fyra\n",
    "    print(fruit, end=\", \") #kom ihåg space efter kommatecknet, annars blir det sammanskrivet alltsamman."
   ]
  },
  {
   "cell_type": "code",
   "execution_count": 4,
   "metadata": {},
   "outputs": [
    {
     "name": "stdout",
     "output_type": "stream",
     "text": [
      "0: apple\n",
      "1: banana\n",
      "2: cherry\n",
      "3: orange\n",
      "4: apple\n",
      "5: melon\n",
      "6: kiwi\n",
      "7: pear\n",
      "8: coconut\n",
      "9: pineapple\n"
     ]
    }
   ],
   "source": [
    "counter = 0\n",
    "for fruit in fruits[:-4]:\n",
    "    print(f\"{counter}: {fruit}\")\n",
    "    counter += 1"
   ]
  },
  {
   "cell_type": "code",
   "execution_count": 43,
   "metadata": {},
   "outputs": [
    {
     "name": "stdout",
     "output_type": "stream",
     "text": [
      "1: apple\n",
      "2: banana\n",
      "3: cherry\n",
      "4: orange\n",
      "5: apple\n",
      "6: melon\n",
      "7: kiwi\n",
      "8: pear\n",
      "9: coconut\n",
      "10: pineapple\n"
     ]
    }
   ],
   "source": [
    "for index, fruit in enumerate(fruits[:-4], 1): #sista 1 gör att listan börjar på 1 men utesluter inga items.\n",
    "    print(f\"{index}: {fruit}\")"
   ]
  },
  {
   "cell_type": "markdown",
   "metadata": {},
   "source": [
    "# List comprehension\n",
    "\n",
    "List comprehension offers a shorter syntax when you want to create a new list based on the values of an existing list.\n",
    "\n",
    "Basic Syntax: [item for item in my_list]\n",
    "\n",
    "Syntax with condition: [item for item in my_list if len(item) == 5]\n",
    "\n",
    "Example:\n",
    "\n",
    "Based on a list of fruits, you want a new list, containing only the fruits with the letter \"a\" in the name.\n",
    "\n",
    "Without list comprehension you will have to write a for statement with a conditional test inside:"
   ]
  },
  {
   "cell_type": "code",
   "execution_count": 5,
   "metadata": {},
   "outputs": [
    {
     "name": "stdout",
     "output_type": "stream",
     "text": [
      "x = [0, 1, 2, 3, 4, 5, 6, 7, 8, 9]\n",
      "y = [0, 1, 4, 9, 16, 25, 36, 49, 64, 81]\n"
     ]
    }
   ],
   "source": [
    "x = list(range(10))\n",
    "print(f\"{x = }\")\n",
    "\n",
    "y = [item**2 for item in x]\n",
    "print(f\"{y = }\")"
   ]
  },
  {
   "cell_type": "markdown",
   "metadata": {},
   "source": [
    "# Miniuppgift 3\n",
    "\n",
    "- a) Skapa en ny lista från listan med frukter, som tar med alla frukter där namnet är 5 bokstäver. len()\n",
    "\n",
    "- b) Skapa en lista med alla heltal 0 till 100. Skapa en ny lista som innehåller alla jämna tal från den första listan. %\n"
   ]
  },
  {
   "cell_type": "code",
   "execution_count": 30,
   "metadata": {},
   "outputs": [
    {
     "name": "stdout",
     "output_type": "stream",
     "text": [
      "new_fruits = ['apple', 'melon']\n",
      "zero_to_hundred =[0, 1, 2, 3, 4, 5, 6, 7, 8, 9, 10, 11, 12, 13, 14, 15, 16, 17, 18, 19, 20, 21, 22, 23, 24, 25, 26, 27, 28, 29, 30, 31, 32, 33, 34, 35, 36, 37, 38, 39, 40, 41, 42, 43, 44, 45, 46, 47, 48, 49, 50, 51, 52, 53, 54, 55, 56, 57, 58, 59, 60, 61, 62, 63, 64, 65, 66, 67, 68, 69, 70, 71, 72, 73, 74, 75, 76, 77, 78, 79, 80, 81, 82, 83, 84, 85, 86, 87, 88, 89, 90, 91, 92, 93, 94, 95, 96, 97, 98, 99, 100]\n",
      "even_list = [0, 2, 4, 6, 8, 10, 12, 14, 16, 18, 20, 22, 24, 26, 28, 30, 32, 34, 36, 38, 40, 42, 44, 46, 48, 50, 52, 54, 56, 58, 60, 62, 64, 66, 68, 70, 72, 74, 76, 78, 80, 82, 84, 86, 88, 90, 92, 94, 96, 98, 100]\n"
     ]
    }
   ],
   "source": [
    "#a\n",
    "fruits = [\"apple\", \"banana\", \"cherry\", \"orange\", \"kiwi\", \"melon\"]\n",
    "new_fruits = [fruit for fruit in fruits if len(fruit) == 5]\n",
    "print(f\"{new_fruits = }\")\n",
    "#b\n",
    "zero_to_hundred = [number for number in range(101)]\n",
    "print(f\"{zero_to_hundred =}\")\n",
    "even_list = [number for number in zero_to_hundred if number % 2 == 0]\n",
    "print(f\"{even_list = }\")"
   ]
  },
  {
   "cell_type": "markdown",
   "metadata": {},
   "source": [
    "# Miniuppgift 2\n",
    "Skapa manuellt en lista i koden med 5 frukter. Använd list comprehension för att skapa en ny lista med samma nummer med samma frukter, men med ett utropstecken i slutet av varje frukt (sträng)"
   ]
  },
  {
   "cell_type": "code",
   "execution_count": 32,
   "metadata": {},
   "outputs": [
    {
     "name": "stdout",
     "output_type": "stream",
     "text": [
      "nya_frukter = ['apple!', 'banana!', 'cherry!', 'orange!', 'kiwi!', 'melon!']\n"
     ]
    }
   ],
   "source": [
    "frukter = ['äpple', 'banan','kiwi', 'hallon', 'blåbär']\n",
    "nya_frukter = [fruit + \"!\" for fruit in fruits]\n",
    "print(f\"{nya_frukter = }\")\n"
   ]
  },
  {
   "cell_type": "code",
   "execution_count": 33,
   "metadata": {},
   "outputs": [
    {
     "name": "stdout",
     "output_type": "stream",
     "text": [
      "fruits_with_a = ['apple', 'banana', 'orange', 'apple']\n"
     ]
    }
   ],
   "source": [
    "fruits = [\"apple\", \"banana\", \"cherry\", \"orange\", \"apple\"]\n",
    "fruits_with_a = [fruit for fruit in fruits if \"a\" in fruit]\n",
    "print(f\"{fruits_with_a = }\")"
   ]
  },
  {
   "cell_type": "markdown",
   "metadata": {},
   "source": [
    "# Miniuppgift 1\n",
    "\n",
    "Skriv ett program som ber användaren mata in färger, en taget, tills användarens input är tom, varje färg skall läggas på en lista och när användarens inmatning är slut  skall listan skrivas ut, samt hur många färger det är på listan."
   ]
  },
  {
   "cell_type": "code",
   "execution_count": 14,
   "metadata": {},
   "outputs": [
    {
     "name": "stdout",
     "output_type": "stream",
     "text": [
      "['blue', 'red', 'green']\n",
      "3\n"
     ]
    }
   ],
   "source": [
    "colors = []\n",
    "\n",
    "while True:\n",
    "    color = input(\"Add a color \")\n",
    "\n",
    "    if not color:\n",
    "        break\n",
    "    colors.append(color)\n",
    "\n",
    "print(colors)\n",
    "print(len(colors))\n"
   ]
  },
  {
   "cell_type": "code",
   "execution_count": null,
   "metadata": {},
   "outputs": [],
   "source": [
    "colors = []\n",
    "\n",
    "while(inputString := input(\"Add color \")) and inputString !=\"\":\n",
    "    colors.append(inputString)\n",
    "print(colors)\n",
    "print(len(colors))"
   ]
  },
  {
   "cell_type": "markdown",
   "metadata": {},
   "source": [
    "# Bra kod\n",
    "camelCase\n",
    "PascalCase\n",
    "snake_case\n",
    "\n",
    "DRY = Don't Repeat Yourself\n",
    "\n",
    "tre typer av fel; logiska fel, syntax error, runtime error\n",
    "lättläst kod\n",
    "effektiv kod\n",
    "funktionell kod "
   ]
  }
 ],
 "metadata": {
  "kernelspec": {
   "display_name": "Python-Julia-Sjoholm-dUE-HgBH",
   "language": "python",
   "name": "python3"
  },
  "language_info": {
   "codemirror_mode": {
    "name": "ipython",
    "version": 3
   },
   "file_extension": ".py",
   "mimetype": "text/x-python",
   "name": "python",
   "nbconvert_exporter": "python",
   "pygments_lexer": "ipython3",
   "version": "3.11.5"
  },
  "orig_nbformat": 4
 },
 "nbformat": 4,
 "nbformat_minor": 2
}
