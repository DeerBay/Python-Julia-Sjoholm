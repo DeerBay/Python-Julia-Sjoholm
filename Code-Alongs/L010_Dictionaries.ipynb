{
 "cells": [
  {
   "cell_type": "markdown",
   "metadata": {},
   "source": [
    "# Dictionaries\n",
    "- Dictionaries are used to store data in key-value pairs.\n",
    "- Keys are used to access values, and must be unique.\n",
    "- Only immutable types (eg. string, int, float, bool) can be used as keys.\n",
    "- Dictionaries are ordered and changable."
   ]
  },
  {
   "cell_type": "code",
   "execution_count": 2,
   "metadata": {},
   "outputs": [
    {
     "name": "stdout",
     "output_type": "stream",
     "text": [
      "len(teacher) = 5\n",
      "\n",
      "teacher['languages'][-1] = 'Javascript'\n",
      "len(teacher['languages'][-1]) = 10\n",
      "teacher['contact_info']['email'][1] = 'fredrik@gmail.com'\n",
      "\n",
      "\n",
      "teacher = {'firstname': 'Fredrik', 'age': 42, 'languages': ['Pyhon', 'C#', 'Javascript'], 'contact_info': {'phone': '0707883266', 'email': ['fredrik@everyloop.com', 'fredrik@gmail.com', 'fredrik.johansson@hotmail.com']}, 'Length': 1.8}\n",
      "removed_value = 'Johansson'\n"
     ]
    }
   ],
   "source": [
    "# Create empty dictionary\n",
    "empty_dictionary = {}\n",
    "\n",
    "teacher = {\"firstname\": \"Fredrik\", \n",
    "           \"Lastname\": \"Johansson\", \n",
    "           \"age\": 42,\n",
    "           \"languages\": [\"Pyhon\", \"C#\", \"Javascript\"],\n",
    "           \"contact_info\": {\n",
    "               \"phone\": \"0707883266\",\n",
    "               \"email\": [\n",
    "                    \"fredrik@everyloop.com\", \n",
    "                    \"fredrik@gmail.com\", \n",
    "                    \"fredrik.johansson@hotmail.com\", #hur lägga till en email?\n",
    "                ]\n",
    "            }\n",
    "}\n",
    "\n",
    "# Get number of items in dictionary\n",
    "print(f\"{len(teacher) = }\")#räknar antalet key-value pairs\n",
    "print()\n",
    "\n",
    "#To get a item in a sting in a dictionary\n",
    "print(f\"{teacher['languages'][-1] = }\") \n",
    "print(f\"{len(teacher['languages'][-1]) = }\")\n",
    "print(f\"{teacher['contact_info']['email'][1] = }\")\n",
    "print()\n",
    "\n",
    "# Add key to dictionary\n",
    "teacher[\"Length\"] = 1.80\n",
    "print()\n",
    "\n",
    "# Remove key and return value from dictionary\n",
    "removed_value = teacher.pop(\"Lastname\")\n",
    "\n",
    "print(f\"{teacher = }\")\n",
    "print(f\"{removed_value = }\")\n"
   ]
  },
  {
   "cell_type": "markdown",
   "metadata": {},
   "source": [
    "## Get value using key"
   ]
  },
  {
   "cell_type": "code",
   "execution_count": 10,
   "metadata": {},
   "outputs": [
    {
     "name": "stdout",
     "output_type": "stream",
     "text": [
      "😣\n"
     ]
    }
   ],
   "source": [
    "key = input(\"Enter key: \")\n",
    "\n",
    "if key in teacher:\n",
    "    print(teacher[key])\n",
    "else:\n",
    "    print(\"😣\") #Hur göra smiley?"
   ]
  },
  {
   "cell_type": "code",
   "execution_count": 4,
   "metadata": {},
   "outputs": [
    {
     "name": "stdout",
     "output_type": "stream",
     "text": [
      "😣\n"
     ]
    }
   ],
   "source": [
    "key = input(\"Enter key: \")\n",
    "print(teacher.get(key, \"😣\"))"
   ]
  },
  {
   "cell_type": "markdown",
   "metadata": {},
   "source": [
    "## Looping through a dictionary"
   ]
  },
  {
   "cell_type": "code",
   "execution_count": 5,
   "metadata": {},
   "outputs": [
    {
     "name": "stdout",
     "output_type": "stream",
     "text": [
      "firstname\n",
      "age\n",
      "languages\n",
      "contact_info\n",
      "Length\n",
      "\n",
      "Fredrik\n",
      "42\n",
      "['Pyhon', 'C#', 'Javascript']\n",
      "{'phone': '0707883266', 'email': ['fredrik@everyloop.com', 'fredrik@gmail.com', 'fredrik.johansson@hotmail.com']}\n",
      "1.8\n",
      "\n",
      "firstname = Fredrik\n",
      "age = 42\n",
      "languages = ['Pyhon', 'C#', 'Javascript']\n",
      "contact_info = {'phone': '0707883266', 'email': ['fredrik@everyloop.com', 'fredrik@gmail.com', 'fredrik.johansson@hotmail.com']}\n",
      "Length = 1.8\n",
      "\n",
      "firstname = Fredrik\n",
      "age = 42\n",
      "languages = ['Pyhon', 'C#', 'Javascript']\n",
      "contact_info = {'phone': '0707883266', 'email': ['fredrik@everyloop.com', 'fredrik@gmail.com', 'fredrik.johansson@hotmail.com']}\n",
      "Length = 1.8\n"
     ]
    }
   ],
   "source": [
    "for key in teacher.keys():\n",
    "    print(key)\n",
    "\n",
    "print()\n",
    "\n",
    "for value in teacher.values():\n",
    "    print(value)\n",
    "\n",
    "print()\n",
    "\n",
    "for key in teacher: \n",
    "    print(f\"{key} = {teacher[key]}\")\n",
    "\n",
    "print()\n",
    "\n",
    "for key, value in teacher.items():\n",
    "    print(f\"{key} = {value}\")"
   ]
  }
 ],
 "metadata": {
  "kernelspec": {
   "display_name": "Python-Julia-Sjoholm-dUE-HgBH",
   "language": "python",
   "name": "python3"
  },
  "language_info": {
   "codemirror_mode": {
    "name": "ipython",
    "version": 3
   },
   "file_extension": ".py",
   "mimetype": "text/x-python",
   "name": "python",
   "nbconvert_exporter": "python",
   "pygments_lexer": "ipython3",
   "version": "3.11.5"
  },
  "orig_nbformat": 4
 },
 "nbformat": 4,
 "nbformat_minor": 2
}
