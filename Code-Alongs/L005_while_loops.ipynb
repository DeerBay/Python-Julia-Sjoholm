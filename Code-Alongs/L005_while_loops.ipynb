{
 "cells": [
  {
   "cell_type": "markdown",
   "metadata": {},
   "source": [
    "# While loops\n",
    "Python ha two primitive loop commands:\n",
    "- while loops\n",
    "- for loops"
   ]
  },
  {
   "cell_type": "markdown",
   "metadata": {},
   "source": [
    "## The while loop\n",
    "Executes a set of statemnts as long as a condition is true"
   ]
  },
  {
   "cell_type": "code",
   "execution_count": 8,
   "metadata": {},
   "outputs": [
    {
     "name": "stdout",
     "output_type": "stream",
     "text": [
      "10: Hello World\n",
      " 8: Hello World\n",
      " 6: Hello World\n",
      " 4: Hello World\n",
      " 2: Hello World\n",
      "End.\n"
     ]
    }
   ],
   "source": [
    "counter = 10\n",
    "\n",
    "while counter > 0:\n",
    "    print(f\"{counter:2d}: Hello World\")\n",
    "    counter -= 2\n",
    "\n",
    "print(\"End.\")\n",
    "\n"
   ]
  },
  {
   "cell_type": "markdown",
   "metadata": {},
   "source": [
    "# The break statement\n",
    "\n",
    "Used to stop the loop immedietly"
   ]
  },
  {
   "cell_type": "code",
   "execution_count": 14,
   "metadata": {},
   "outputs": [
    {
     "ename": "IndentationError",
     "evalue": "unindent does not match any outer indentation level (<tokenize>, line 5)",
     "output_type": "error",
     "traceback": [
      "\u001b[1;36m  File \u001b[1;32m<tokenize>:5\u001b[1;36m\u001b[0m\n\u001b[1;33m    counter2 -= 1\u001b[0m\n\u001b[1;37m    ^\u001b[0m\n\u001b[1;31mIndentationError\u001b[0m\u001b[1;31m:\u001b[0m unindent does not match any outer indentation level\n"
     ]
    }
   ],
   "source": [
    "counter2 = 10\n",
    "\n",
    "while True:\n",
    "     print(f\"{counter2:2d}: Hello World\")\n",
    "    counter2 -= 1\n",
    "    if counter <= 0: break\n",
    "\n",
    "\n",
    "while True:\n",
    "    print(\"Hello World!\")\n",
    "    break\n",
    "print(\"End!\")"
   ]
  },
  {
   "cell_type": "markdown",
   "metadata": {},
   "source": [
    "## The continue statement"
   ]
  },
  {
   "cell_type": "code",
   "execution_count": 22,
   "metadata": {},
   "outputs": [
    {
     "name": "stdout",
     "output_type": "stream",
     "text": [
      "1: Print this!\n",
      "2: Print this!\n",
      "3: Print this!\n",
      "Dont print this!\n",
      "4: Print this!\n",
      "Dont print this!\n",
      "5: Print this!\n",
      "Dont print this!\n",
      "end.\n"
     ]
    }
   ],
   "source": [
    "counter = 0\n",
    "while counter < 5:\n",
    "    counter += 1\n",
    "    print(f\"{counter}: Print this!\")\n",
    "    if (counter < 3): continue\n",
    "    print(\"Dont print this!\")\n",
    "print(\"end.\")"
   ]
  },
  {
   "cell_type": "markdown",
   "metadata": {},
   "source": [
    "## The else statement\n",
    "Used to specify a block of code to be executed when the loop is finished\n",
    "\n",
    "**Note:** *The else block will NOT be executed if the loop is stopped by a break statement*"
   ]
  },
  {
   "cell_type": "code",
   "execution_count": 25,
   "metadata": {},
   "outputs": [
    {
     "name": "stdout",
     "output_type": "stream",
     "text": [
      "10: Hello World\n",
      " 8: Hello World\n",
      " 6: Hello World\n",
      " 4: Hello World\n",
      " 2: Hello World\n",
      "End.\n"
     ]
    }
   ],
   "source": [
    "counter = 10\n",
    "\n",
    "while counter > 0:\n",
    "    print(f\"{counter:2d}: Hello World\")\n",
    "    counter -= 2\n",
    "else:\n",
    "    print(\"End.\")"
   ]
  }
 ],
 "metadata": {
  "kernelspec": {
   "display_name": "Python-Julia-Sjoholm-dUE-HgBH",
   "language": "python",
   "name": "python3"
  },
  "language_info": {
   "codemirror_mode": {
    "name": "ipython",
    "version": 3
   },
   "file_extension": ".py",
   "mimetype": "text/x-python",
   "name": "python",
   "nbconvert_exporter": "python",
   "pygments_lexer": "ipython3",
   "version": "3.11.5"
  },
  "orig_nbformat": 4
 },
 "nbformat": 4,
 "nbformat_minor": 2
}
