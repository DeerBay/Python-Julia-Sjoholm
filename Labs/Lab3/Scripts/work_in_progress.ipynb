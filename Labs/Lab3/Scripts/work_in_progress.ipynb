{
 "cells": [
  {
   "cell_type": "markdown",
   "metadata": {},
   "source": [
    "### Test str and repr for GeometryShapes"
   ]
  },
  {
   "cell_type": "code",
   "execution_count": 3,
   "metadata": {},
   "outputs": [
    {
     "name": "stdout",
     "output_type": "stream",
     "text": [
      "The position for this geometrical shape is (x, y): (4, 7).\n"
     ]
    },
    {
     "data": {
      "text/plain": [
       "GeometryShapes(self.x =4, self.y=7)"
      ]
     },
     "execution_count": 3,
     "metadata": {},
     "output_type": "execute_result"
    }
   ],
   "source": [
    "from geometry_shapes import GeometryShapes\n",
    "\n",
    "rectangel = GeometryShapes(4,7)\n",
    "print(rectangel)\n",
    "rectangel"
   ]
  },
  {
   "cell_type": "markdown",
   "metadata": {},
   "source": [
    "### Test str and repr for Rectangel"
   ]
  },
  {
   "cell_type": "code",
   "execution_count": 5,
   "metadata": {},
   "outputs": [
    {
     "name": "stdout",
     "output_type": "stream",
     "text": [
      "Rectangel: Postion (x, y): ((1, 2)), Height: 2, Width: 4\n",
      "rectangel1=Rectangel(1,3,5,6)\n"
     ]
    }
   ],
   "source": [
    "from rectangel import Rectangel\n",
    "\n",
    "rectangel1 = Rectangel(1, 3, 5, 6)\n",
    "rectangel2 = Rectangel(1, 2, 2, 4)\n",
    "\n",
    "print(rectangel2)\n",
    "print(f\"{rectangel1=}\")"
   ]
  },
  {
   "cell_type": "markdown",
   "metadata": {},
   "source": [
    "### Test circumference"
   ]
  },
  {
   "cell_type": "code",
   "execution_count": 3,
   "metadata": {},
   "outputs": [
    {
     "name": "stdout",
     "output_type": "stream",
     "text": [
      "rectangel1.circumference() = 22\n",
      "rectangel2.circumference() = 12\n"
     ]
    }
   ],
   "source": [
    "print(f\"{rectangel1.circumference() = }\")\n",
    "print(f\"{rectangel2.circumference() = }\")"
   ]
  },
  {
   "cell_type": "markdown",
   "metadata": {},
   "source": [
    "### Test operator overload"
   ]
  },
  {
   "cell_type": "code",
   "execution_count": 13,
   "metadata": {},
   "outputs": [
    {
     "name": "stdout",
     "output_type": "stream",
     "text": [
      "rectangel1 == rectangel2 = False # False\n",
      "rectangel1 != rectangel2 = True # True\n",
      "rectangel1 > rectangel2 = True # True\n",
      "rectangel1 < rectangel2 = False # False\n",
      "rectangel1 >= rectangel2 = True # True\n",
      "rectangel1 <= rectangel2 = False # False\n"
     ]
    }
   ],
   "source": [
    "print(f\"{rectangel1 == rectangel2 = } # False\")\n",
    "print(f\"{rectangel1 != rectangel2 = } # True\")\n",
    "print(f\"{rectangel1 > rectangel2 = } # True\")\n",
    "print(f\"{rectangel1 < rectangel2 = } # False\")\n",
    "print(f\"{rectangel1 >= rectangel2 = } # True\")\n",
    "print(f\"{rectangel1 <= rectangel2 = } # False\")\n"
   ]
  }
 ],
 "metadata": {
  "kernelspec": {
   "display_name": "Python-Julia-Sjoholm-dUE-HgBH",
   "language": "python",
   "name": "python3"
  },
  "language_info": {
   "codemirror_mode": {
    "name": "ipython",
    "version": 3
   },
   "file_extension": ".py",
   "mimetype": "text/x-python",
   "name": "python",
   "nbconvert_exporter": "python",
   "pygments_lexer": "ipython3",
   "version": "3.11.5"
  },
  "orig_nbformat": 4
 },
 "nbformat": 4,
 "nbformat_minor": 2
}
