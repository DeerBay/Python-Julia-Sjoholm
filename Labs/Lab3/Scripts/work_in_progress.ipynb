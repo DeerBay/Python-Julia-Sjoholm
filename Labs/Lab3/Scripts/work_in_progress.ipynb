{
 "cells": [
  {
   "cell_type": "markdown",
   "metadata": {},
   "source": [
    "### Test str and repr for GeometryShapes"
   ]
  },
  {
   "cell_type": "code",
   "execution_count": 7,
   "metadata": {},
   "outputs": [
    {
     "name": "stdout",
     "output_type": "stream",
     "text": [
      "The position for this geometrical shape is (x, y): (4, 7).\n"
     ]
    },
    {
     "data": {
      "text/plain": [
       "GeometryShapes(self.x =4, self.y=7)"
      ]
     },
     "execution_count": 7,
     "metadata": {},
     "output_type": "execute_result"
    }
   ],
   "source": [
    "from geometry_shapes import GeometryShapes\n",
    "\n",
    "rectangel = GeometryShapes(4,7)\n",
    "print(rectangel)\n",
    "rectangel"
   ]
  },
  {
   "cell_type": "markdown",
   "metadata": {},
   "source": [
    "### Test str and repr for Rectangel"
   ]
  },
  {
   "cell_type": "code",
   "execution_count": 8,
   "metadata": {},
   "outputs": [
    {
     "name": "stdout",
     "output_type": "stream",
     "text": [
      "Rectangel: Postion (x, y): ((1, 2)), Height: 2, Width: 4\n",
      "rectangel1=Rectangel(1,3,5,6)\n"
     ]
    }
   ],
   "source": [
    "from rectangel import Rectangel\n",
    "\n",
    "rectangel1 = Rectangel(1, 3, 5, 6)\n",
    "rectangel2 = Rectangel(1, 2, 2, 4)\n",
    "\n",
    "print(rectangel2)\n",
    "print(f\"{rectangel1=}\")"
   ]
  },
  {
   "cell_type": "markdown",
   "metadata": {},
   "source": [
    "### Test circumference"
   ]
  },
  {
   "cell_type": "code",
   "execution_count": 9,
   "metadata": {},
   "outputs": [
    {
     "name": "stdout",
     "output_type": "stream",
     "text": [
      "rectangel1.circumference() = 22\n",
      "rectangel2.circumference() = 12\n"
     ]
    }
   ],
   "source": [
    "print(f\"{rectangel1.circumference() = }\")\n",
    "print(f\"{rectangel2.circumference() = }\") "
   ]
  },
  {
   "cell_type": "markdown",
   "metadata": {},
   "source": [
    "### Test operator overload"
   ]
  },
  {
   "cell_type": "code",
   "execution_count": 10,
   "metadata": {},
   "outputs": [
    {
     "name": "stdout",
     "output_type": "stream",
     "text": [
      "rectangel1 == rectangel2 = False # False\n",
      "rectangel1 != rectangel2 = True # True\n",
      "rectangel1 > rectangel2 = True # True\n",
      "rectangel1 < rectangel2 = False # False\n",
      "rectangel1 >= rectangel2 = True # True\n",
      "rectangel1 <= rectangel2 = False # False\n"
     ]
    }
   ],
   "source": [
    "print(f\"{rectangel1 == rectangel2 = } # False\")\n",
    "print(f\"{rectangel1 != rectangel2 = } # True\")\n",
    "print(f\"{rectangel1 > rectangel2 = } # True\")\n",
    "print(f\"{rectangel1 < rectangel2 = } # False\")\n",
    "print(f\"{rectangel1 >= rectangel2 = } # True\")\n",
    "print(f\"{rectangel1 <= rectangel2 = } # False\")\n"
   ]
  },
  {
   "cell_type": "markdown",
   "metadata": {},
   "source": [
    "### Test Rectangel setter height"
   ]
  },
  {
   "cell_type": "code",
   "execution_count": 11,
   "metadata": {},
   "outputs": [
    {
     "ename": "TypeError",
     "evalue": "Value of height can only be numeric. You wrote 'fem'.",
     "output_type": "error",
     "traceback": [
      "\u001b[1;31m---------------------------------------------------------------------------\u001b[0m",
      "\u001b[1;31mTypeError\u001b[0m                                 Traceback (most recent call last)",
      "Cell \u001b[1;32mIn[11], line 1\u001b[0m\n\u001b[1;32m----> 1\u001b[0m rectangel1\u001b[39m.\u001b[39;49mheight \u001b[39m=\u001b[39m \u001b[39m\"\u001b[39m\u001b[39mfem\u001b[39m\u001b[39m\"\u001b[39m\n",
      "File \u001b[1;32mc:\\Users\\glajusj\\Documents\\github\\Python-Julia-Sjoholm\\Labs\\Lab3\\Scripts\\rectangel.py:42\u001b[0m, in \u001b[0;36mRectangel.height\u001b[1;34m(self, height)\u001b[0m\n\u001b[0;32m     40\u001b[0m \u001b[39m\u001b[39m\u001b[39m'''Setter of height, with error handling'''\u001b[39;00m\n\u001b[0;32m     41\u001b[0m \u001b[39mif\u001b[39;00m \u001b[39mnot\u001b[39;00m \u001b[39misinstance\u001b[39m(height, (\u001b[39mint\u001b[39m, \u001b[39mfloat\u001b[39m)):\n\u001b[1;32m---> 42\u001b[0m     \u001b[39mraise\u001b[39;00m \u001b[39mTypeError\u001b[39;00m(\u001b[39mf\u001b[39m\u001b[39m\"\u001b[39m\u001b[39mValue of height can only be numeric. You wrote \u001b[39m\u001b[39m'\u001b[39m\u001b[39m{\u001b[39;00mheight\u001b[39m}\u001b[39;00m\u001b[39m'\u001b[39m\u001b[39m.\u001b[39m\u001b[39m\"\u001b[39m)\n\u001b[0;32m     43\u001b[0m \u001b[39melif\u001b[39;00m height \u001b[39m<\u001b[39m\u001b[39m=\u001b[39m \u001b[39m0\u001b[39m:\n\u001b[0;32m     44\u001b[0m     \u001b[39mraise\u001b[39;00m \u001b[39mValueError\u001b[39;00m(\u001b[39mf\u001b[39m\u001b[39m\"\u001b[39m\u001b[39mHeight must be positive. You wrote \u001b[39m\u001b[39m{\u001b[39;00mheight\u001b[39m}\u001b[39;00m\u001b[39m.\u001b[39m\u001b[39m\"\u001b[39m)\n",
      "\u001b[1;31mTypeError\u001b[0m: Value of height can only be numeric. You wrote 'fem'."
     ]
    }
   ],
   "source": [
    "rectangel1.height = \"fem\""
   ]
  },
  {
   "cell_type": "markdown",
   "metadata": {},
   "source": [
    "### Test rectangel setter width"
   ]
  },
  {
   "cell_type": "code",
   "execution_count": null,
   "metadata": {},
   "outputs": [
    {
     "ename": "TypeError",
     "evalue": "Value of Width can only be numeric. You wrote 'fem'.",
     "output_type": "error",
     "traceback": [
      "\u001b[1;31m---------------------------------------------------------------------------\u001b[0m",
      "\u001b[1;31mTypeError\u001b[0m                                 Traceback (most recent call last)",
      "Cell \u001b[1;32mIn[6], line 1\u001b[0m\n\u001b[1;32m----> 1\u001b[0m rectangel1\u001b[39m.\u001b[39;49mwidth \u001b[39m=\u001b[39m \u001b[39m\"\u001b[39m\u001b[39mfem\u001b[39m\u001b[39m\"\u001b[39m\n",
      "File \u001b[1;32mc:\\Users\\glajusj\\Documents\\github\\Python-Julia-Sjoholm\\Labs\\Lab3\\Scripts\\rectangel.py:54\u001b[0m, in \u001b[0;36mRectangel.width\u001b[1;34m(self, width)\u001b[0m\n\u001b[0;32m     51\u001b[0m \u001b[39m@width\u001b[39m\u001b[39m.\u001b[39msetter\n\u001b[0;32m     52\u001b[0m \u001b[39mdef\u001b[39;00m \u001b[39mwidth\u001b[39m(\u001b[39mself\u001b[39m, width: (\u001b[39mint\u001b[39m, \u001b[39mfloat\u001b[39m)):\n\u001b[0;32m     53\u001b[0m     \u001b[39mif\u001b[39;00m \u001b[39mnot\u001b[39;00m \u001b[39misinstance\u001b[39m(width, (\u001b[39mint\u001b[39m, \u001b[39mfloat\u001b[39m)):\n\u001b[1;32m---> 54\u001b[0m         \u001b[39mraise\u001b[39;00m \u001b[39mTypeError\u001b[39;00m(\u001b[39mf\u001b[39m\u001b[39m\"\u001b[39m\u001b[39mValue of Width can only be numeric. You wrote \u001b[39m\u001b[39m'\u001b[39m\u001b[39m{\u001b[39;00mwidth\u001b[39m}\u001b[39;00m\u001b[39m'\u001b[39m\u001b[39m.\u001b[39m\u001b[39m\"\u001b[39m)\n\u001b[0;32m     55\u001b[0m     \u001b[39melif\u001b[39;00m width \u001b[39m<\u001b[39m\u001b[39m=\u001b[39m \u001b[39m0\u001b[39m:\n\u001b[0;32m     56\u001b[0m         \u001b[39mraise\u001b[39;00m \u001b[39mValueError\u001b[39;00m(\u001b[39mf\u001b[39m\u001b[39m\"\u001b[39m\u001b[39mWidth must be positive. You wrote \u001b[39m\u001b[39m{\u001b[39;00mwidth\u001b[39m}\u001b[39;00m\u001b[39m.\u001b[39m\u001b[39m\"\u001b[39m)\n",
      "\u001b[1;31mTypeError\u001b[0m: Value of Width can only be numeric. You wrote 'fem'."
     ]
    }
   ],
   "source": [
    "rectangel1.width = \"fem\""
   ]
  },
  {
   "cell_type": "code",
   "execution_count": 12,
   "metadata": {},
   "outputs": [
    {
     "ename": "ValueError",
     "evalue": "Width must be positive. You wrote False.",
     "output_type": "error",
     "traceback": [
      "\u001b[1;31m---------------------------------------------------------------------------\u001b[0m",
      "\u001b[1;31mValueError\u001b[0m                                Traceback (most recent call last)",
      "Cell \u001b[1;32mIn[12], line 1\u001b[0m\n\u001b[1;32m----> 1\u001b[0m rectangel1\u001b[39m.\u001b[39;49mwidth \u001b[39m=\u001b[39m \u001b[39mFalse\u001b[39;00m\n",
      "File \u001b[1;32mc:\\Users\\glajusj\\Documents\\github\\Python-Julia-Sjoholm\\Labs\\Lab3\\Scripts\\rectangel.py:56\u001b[0m, in \u001b[0;36mRectangel.width\u001b[1;34m(self, width)\u001b[0m\n\u001b[0;32m     54\u001b[0m     \u001b[39mraise\u001b[39;00m \u001b[39mTypeError\u001b[39;00m(\u001b[39mf\u001b[39m\u001b[39m\"\u001b[39m\u001b[39mValue of Width can only be numeric. You wrote \u001b[39m\u001b[39m'\u001b[39m\u001b[39m{\u001b[39;00mwidth\u001b[39m}\u001b[39;00m\u001b[39m'\u001b[39m\u001b[39m.\u001b[39m\u001b[39m\"\u001b[39m)\n\u001b[0;32m     55\u001b[0m \u001b[39melif\u001b[39;00m width \u001b[39m<\u001b[39m\u001b[39m=\u001b[39m \u001b[39m0\u001b[39m:\n\u001b[1;32m---> 56\u001b[0m     \u001b[39mraise\u001b[39;00m \u001b[39mValueError\u001b[39;00m(\u001b[39mf\u001b[39m\u001b[39m\"\u001b[39m\u001b[39mWidth must be positive. You wrote \u001b[39m\u001b[39m{\u001b[39;00mwidth\u001b[39m}\u001b[39;00m\u001b[39m.\u001b[39m\u001b[39m\"\u001b[39m)\n\u001b[0;32m     57\u001b[0m \u001b[39mself\u001b[39m\u001b[39m.\u001b[39m_width \u001b[39m=\u001b[39m width\n",
      "\u001b[1;31mValueError\u001b[0m: Width must be positive. You wrote False."
     ]
    }
   ],
   "source": [
    "rectangel1.width = False"
   ]
  },
  {
   "cell_type": "markdown",
   "metadata": {},
   "source": [
    "### Test of is_square Rectangel"
   ]
  },
  {
   "cell_type": "code",
   "execution_count": null,
   "metadata": {},
   "outputs": [
    {
     "name": "stdout",
     "output_type": "stream",
     "text": [
      "This rectangel is a square.\n",
      "This rectangel is not a square.\n"
     ]
    }
   ],
   "source": [
    "square_rectangel = Rectangel(1, 1, 4, 4)\n",
    "not_square_rectangel = Rectangel(2, 2, 4.4, 4)\n",
    "\n",
    "print(square_rectangel.is_square())\n",
    "print(not_square_rectangel.is_square())"
   ]
  }
 ],
 "metadata": {
  "kernelspec": {
   "display_name": "Python-Julia-Sjoholm-dUE-HgBH",
   "language": "python",
   "name": "python3"
  },
  "language_info": {
   "codemirror_mode": {
    "name": "ipython",
    "version": 3
   },
   "file_extension": ".py",
   "mimetype": "text/x-python",
   "name": "python",
   "nbconvert_exporter": "python",
   "pygments_lexer": "ipython3",
   "version": "3.11.5"
  },
  "orig_nbformat": 4
 },
 "nbformat": 4,
 "nbformat_minor": 2
}
