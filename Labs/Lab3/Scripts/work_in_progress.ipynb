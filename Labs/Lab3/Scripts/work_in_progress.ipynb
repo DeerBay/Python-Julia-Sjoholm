{
 "cells": [
  {
   "cell_type": "markdown",
   "metadata": {},
   "source": [
    "### Test str and repr for GeometryShapes"
   ]
  },
  {
   "cell_type": "code",
   "execution_count": 17,
   "metadata": {},
   "outputs": [
    {
     "name": "stdout",
     "output_type": "stream",
     "text": [
      "The position for this geometrical shape is (x, y): (4, 7).\n"
     ]
    },
    {
     "data": {
      "text/plain": [
       "GeometryShapes(self.x =4, self.y=7)"
      ]
     },
     "execution_count": 17,
     "metadata": {},
     "output_type": "execute_result"
    }
   ],
   "source": [
    "from geometry_shapes import GeometryShapes\n",
    "from circle import Circle\n",
    "\n",
    "rectangel = GeometryShapes(4,7)\n",
    "print(rectangel)\n",
    "rectangel"
   ]
  },
  {
   "cell_type": "markdown",
   "metadata": {},
   "source": [
    "### Test str and repr for Rectangel"
   ]
  },
  {
   "cell_type": "code",
   "execution_count": 13,
   "metadata": {},
   "outputs": [
    {
     "name": "stdout",
     "output_type": "stream",
     "text": [
      "Rectangle: Postion (x, y): ((1, 2)), Height: 2, Width: 4\n",
      "rectangel1=Rectangle(1,3,5,6)\n"
     ]
    }
   ],
   "source": [
    "from rectangle import Rectangle\n",
    "\n",
    "rectangel1 = Rectangle(1, 3, 5, 6)\n",
    "rectangel2 = Rectangle(1, 2, 2, 4)\n",
    "\n",
    "print(rectangel2)\n",
    "print(f\"{rectangel1=}\")"
   ]
  },
  {
   "cell_type": "markdown",
   "metadata": {},
   "source": [
    "### Test circumference"
   ]
  },
  {
   "cell_type": "code",
   "execution_count": 14,
   "metadata": {},
   "outputs": [
    {
     "name": "stdout",
     "output_type": "stream",
     "text": [
      "rectangel1.circumference() = 22\n",
      "rectangel2.circumference() = 12\n"
     ]
    }
   ],
   "source": [
    "print(f\"{rectangel1.circumference() = }\")\n",
    "print(f\"{rectangel2.circumference() = }\") "
   ]
  },
  {
   "cell_type": "markdown",
   "metadata": {},
   "source": [
    "### Test operator overload"
   ]
  },
  {
   "cell_type": "code",
   "execution_count": 15,
   "metadata": {},
   "outputs": [
    {
     "name": "stdout",
     "output_type": "stream",
     "text": [
      "rectangel1 == rectangel2 = False # False\n",
      "rectangel1 != rectangel2 = True # True\n",
      "rectangel1 > rectangel2 = True # True\n",
      "rectangel1 < rectangel2 = False # False\n",
      "rectangel1 >= rectangel2 = True # True\n",
      "rectangel1 <= rectangel2 = False # False\n"
     ]
    }
   ],
   "source": [
    "print(f\"{rectangel1 == rectangel2 = } # False\")\n",
    "print(f\"{rectangel1 != rectangel2 = } # True\")\n",
    "print(f\"{rectangel1 > rectangel2 = } # True\")\n",
    "print(f\"{rectangel1 < rectangel2 = } # False\")\n",
    "print(f\"{rectangel1 >= rectangel2 = } # True\")\n",
    "print(f\"{rectangel1 <= rectangel2 = } # False\")\n"
   ]
  },
  {
   "cell_type": "markdown",
   "metadata": {},
   "source": [
    "### Test of is_square Rectangel"
   ]
  },
  {
   "cell_type": "code",
   "execution_count": 5,
   "metadata": {},
   "outputs": [
    {
     "name": "stdout",
     "output_type": "stream",
     "text": [
      "This rectangle is a square.\n",
      "This rectangle is not a square.\n",
      "{'_x': 2, '_y': 2, '_height': 4.4, '_width': 4}\n"
     ]
    }
   ],
   "source": [
    "square_rectangel = Rectangle(1, 1, 4, 4)\n",
    "not_square_rectangel = Rectangle(2, 2, 4.4, 4)\n",
    "\n",
    "print(square_rectangel.is_square())\n",
    "print(not_square_rectangel.is_square())\n",
    "print(not_square_rectangel.__dict__)"
   ]
  },
  {
   "cell_type": "markdown",
   "metadata": {},
   "source": [
    "### Test of translate() in GeometryShapes"
   ]
  },
  {
   "cell_type": "code",
   "execution_count": 6,
   "metadata": {},
   "outputs": [
    {
     "name": "stdout",
     "output_type": "stream",
     "text": [
      "The new coordinates for the center of the object is = (3,3)\n",
      "3 3\n"
     ]
    }
   ],
   "source": [
    "my_box = Rectangle(1, 1, 4, 4)\n",
    "my_box.translate(2, 2)\n",
    "print(my_box.x, my_box.y)"
   ]
  },
  {
   "cell_type": "markdown",
   "metadata": {},
   "source": [
    "### Test is_point_inside() rectangle"
   ]
  },
  {
   "cell_type": "code",
   "execution_count": 16,
   "metadata": {},
   "outputs": [
    {
     "name": "stdout",
     "output_type": "stream",
     "text": [
      "False\n",
      "True\n"
     ]
    }
   ],
   "source": [
    "print(my_box.is_point_inside(0.5, 0.5))\n",
    "print(my_box.is_point_inside(3, 3))"
   ]
  }
 ],
 "metadata": {
  "kernelspec": {
   "display_name": "Python-Julia-Sjoholm-dUE-HgBH",
   "language": "python",
   "name": "python3"
  },
  "language_info": {
   "codemirror_mode": {
    "name": "ipython",
    "version": 3
   },
   "file_extension": ".py",
   "mimetype": "text/x-python",
   "name": "python",
   "nbconvert_exporter": "python",
   "pygments_lexer": "ipython3",
   "version": "3.11.5"
  },
  "orig_nbformat": 4
 },
 "nbformat": 4,
 "nbformat_minor": 2
}
