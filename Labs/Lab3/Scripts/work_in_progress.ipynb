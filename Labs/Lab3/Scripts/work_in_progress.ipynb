{
 "cells": [
  {
   "cell_type": "markdown",
   "metadata": {},
   "source": [
    "# Example code to show functionality for superclass Geometry shapes and subclasses Rectangle and Circle"
   ]
  },
  {
   "cell_type": "markdown",
   "metadata": {},
   "source": [
    "### Str and repr for GeometryShapes, Rectangle, Circle"
   ]
  },
  {
   "cell_type": "code",
   "execution_count": 1,
   "metadata": {},
   "outputs": [
    {
     "name": "stdout",
     "output_type": "stream",
     "text": [
      "The position for this geometrical shape is (x, y): (4, 7).\n",
      "GeometryShapes(self.x =4, self.y=7)\n",
      "{'_x': 4, '_y': 7}\n",
      "\n",
      "Rectangle: Postion (x, y): (3, 4), Height: 5, Width: 6\n",
      "Rectangle(3,4,5,6)\n",
      "{'_x': 3, '_y': 4, '_height': 5, '_width': 6}\n",
      "\n",
      "Circle: Postion (x, y): (7, 8), Radius: 6.\n",
      "Circle(7, 8, 6)\n",
      "{'_x': 7, '_y': 8, '_radius': 6}\n"
     ]
    }
   ],
   "source": [
    "from geometry_shapes import GeometryShapes\n",
    "from geometry_shapes import Rectangle\n",
    "from geometry_shapes import Circle\n",
    "\n",
    "shape = GeometryShapes(4,7)\n",
    "print(str(shape))\n",
    "print(repr(shape))\n",
    "print(shape.__dict__)\n",
    "print()\n",
    "rectangle = Rectangle(3, 4, 5, 6)\n",
    "print(str(rectangle))\n",
    "print(repr(rectangle))\n",
    "print(rectangle.__dict__)\n",
    "print()\n",
    "circle = Circle(7, 8, 6)\n",
    "print(str(circle))\n",
    "print(repr(circle))\n",
    "print(circle.__dict__)\n"
   ]
  },
  {
   "cell_type": "code",
   "execution_count": 18,
   "metadata": {},
   "outputs": [
    {
     "data": {
      "image/png": "[encoded data removed]",
      "text/plain": [
       "<Figure size 640x480 with 1 Axes>"
      ]
     },
     "metadata": {},
     "output_type": "display_data"
    }
   ],
   "source": [
    "import matplotlib.pyplot as plt\n",
    "from matplotlib.patches import Rectangle, Circle\n",
    "\n",
    "# Create a new figure and axis\n",
    "fig, ax = plt.subplots()\n",
    "ax.plot([0, 10],[0, 10])\n",
    "\n",
    "# Add a rectangle patch to the axis using values from the Rectangle instance\n",
    "ax.add_patch(Rectangle((rectangle.x - rectangle.width / 2, rectangle.y - rectangle.height / 2), \n",
    "                       rectangle.height, rectangle.width))\n",
    "\n",
    "# Set labels and title\n",
    "plt.xlabel('X Axis')\n",
    "plt.ylabel('Y Axis')\n",
    "plt.title('Rectangle Plot using Matplotlib')\n",
    "\n",
    "# Show the plot\n",
    "plt.show()\n"
   ]
  },
  {
   "cell_type": "markdown",
   "metadata": {
    "jp-MarkdownHeadingCollapsed": true
   },
   "source": [
    "### Circumference"
   ]
  },
  {
   "cell_type": "code",
   "execution_count": 2,
   "metadata": {},
   "outputs": [
    {
     "name": "stdout",
     "output_type": "stream",
     "text": [
      "A rectangle with the height: 5 and width: 6, has the circumference: 22.\n",
      "A circle with the radius: 6, has the circumference: 37.69911184307752.\n"
     ]
    }
   ],
   "source": [
    "import matplotlib.pyplot as plt\n",
    "import matplotlib.patches as patches\n",
    "\n",
    "print(f\"A rectangle with the height: {rectangle.height} and width: {rectangle.width}, has the circumference: {rectangle.circumference()}.\")\n",
    "print(f\"A circle with the radius: {circle.radius}, has the circumference: {circle.circumference()}.\") \n"
   ]
  },
  {
   "cell_type": "markdown",
   "metadata": {},
   "source": [
    "### Area"
   ]
  },
  {
   "cell_type": "code",
   "execution_count": 3,
   "metadata": {},
   "outputs": [
    {
     "name": "stdout",
     "output_type": "stream",
     "text": [
      "A rectangle with the height: 5 and width: 6, has the area: 30\n",
      "A circle with the radius: 6, has the area: 113.1\n"
     ]
    }
   ],
   "source": [
    "print(f\"A rectangle with the height: {rectangle.height} and width: {rectangle.width}, has the area: {rectangle.calculate_area()}\")\n",
    "print(f\"A circle with the radius: {circle.radius}, has the area: {circle.calculate_area()}\") "
   ]
  },
  {
   "cell_type": "markdown",
   "metadata": {},
   "source": [
    "### Comparsion operators Rectangle"
   ]
  },
  {
   "cell_type": "code",
   "execution_count": 4,
   "metadata": {},
   "outputs": [
    {
     "name": "stdout",
     "output_type": "stream",
     "text": [
      "rectangle1.calculate_area() =8\n",
      "rectangle2.calculate_area() =8\n",
      "rectangle3.calculate_area() =20\n",
      "\n",
      "Equal\n",
      "circle1 == rectangle1 = False # False\n",
      "rectangle1 == rectangle2 = True # True\n",
      "rectangle1 == rectangle3 = False # False\n",
      "Not equal\n",
      "rectangle1 != rectangle2 = False # False\n",
      "rectangle1 != rectangle3 = True # True\n",
      "Greater than\n",
      "rectangle1 > rectangle2 = False # False\n",
      "rectangle3 > rectangle2 = True # True\n",
      "Less than\n",
      "rectangle1 < rectangle2 = False # False\n",
      "rectangle1 < rectangle3 = True # True\n",
      "Greater or equal\n",
      "rectangle1 >= rectangle2 = True # True\n",
      "rectangle1 >= rectangle3 = False # False\n",
      "Less or equal\n",
      "rectangle1 <= rectangle2 = True # True\n",
      "rectangle1 <= rectangle3 = True # False\n"
     ]
    }
   ],
   "source": [
    "rectangle1 = Rectangle(0, 0, 2, 4)\n",
    "rectangle2 = Rectangle(1, 1, 2, 4)\n",
    "rectangle3 = Rectangle(0, 1, 5, 4)\n",
    "circle1 = Circle(0, 0, 4)\n",
    "circle2 = Circle(9, 10, 4)\n",
    "circle3 = Circle(0, 0, 5)\n",
    "\n",
    "print(f\"{rectangle1.calculate_area() =}\")\n",
    "print(f\"{rectangle2.calculate_area() =}\")\n",
    "print(f\"{rectangle3.calculate_area() =}\")\n",
    "print()\n",
    "\n",
    "print(\"Equal\")\n",
    "print(f\"{circle1 == rectangle1 = } # False\")\n",
    "print(f\"{rectangle1 == rectangle2 = } # True\")\n",
    "print(f\"{rectangle1 == rectangle3 = } # False\")\n",
    "\n",
    "print(\"Not equal\")\n",
    "print(f\"{rectangle1 != rectangle2 = } # False\")\n",
    "print(f\"{rectangle1 != rectangle3 = } # True\")\n",
    "\n",
    "print(\"Greater than\")\n",
    "print(f\"{rectangle1 > rectangle2 = } # False\")\n",
    "print(f\"{rectangle3 > rectangle2 = } # True\")\n",
    "\n",
    "print(\"Less than\")\n",
    "print(f\"{rectangle1 < rectangle2 = } # False\")\n",
    "print(f\"{rectangle1 < rectangle3 = } # True\")\n",
    "\n",
    "print(\"Greater or equal\")\n",
    "print(f\"{rectangle1 >= rectangle2 = } # True\")\n",
    "print(f\"{rectangle1 >= rectangle3 = } # False\")\n",
    "\n",
    "print(\"Less or equal\")\n",
    "print(f\"{rectangle1 <= rectangle2 = } # True\")\n",
    "print(f\"{rectangle1 <= rectangle3 = } # False\")\n",
    "\n"
   ]
  },
  {
   "cell_type": "markdown",
   "metadata": {},
   "source": [
    "### Area and comparsion operators circle"
   ]
  },
  {
   "cell_type": "code",
   "execution_count": 5,
   "metadata": {},
   "outputs": [
    {
     "name": "stdout",
     "output_type": "stream",
     "text": [
      "circle1.calculate_area() =50.27\n",
      "circle2.calculate_area() =50.27\n",
      "circle3.calculate_area() =78.54\n",
      "\n",
      "Equal\n",
      "circle1 == circle2 = True # True\n",
      "circle2 == circle3 = False # False\n",
      "Not equal\n",
      "circle1 != circle2 = False # False\n",
      "circle2 != circle3 = True # True\n",
      "Greater than\n",
      "circle1 > circle2 = False # False\n",
      "circle3 > circle2 = True # True\n",
      "Less than\n",
      "circle1 < circle2 = False # False\n",
      "circle2 < circle3 = True # True\n",
      "Greater or equal\n",
      "circle1 >= circle2 = True # True\n",
      "circle2 >= circle3 = False # False\n",
      "Less or equal\n",
      "circle1 <= circle2 = True # True\n",
      "circle3 <= circle2 = False # False\n"
     ]
    }
   ],
   "source": [
    "print(f\"{circle1.calculate_area() =}\")\n",
    "print(f\"{circle2.calculate_area() =}\")\n",
    "print(f\"{circle3.calculate_area() =}\")\n",
    "print()\n",
    "\n",
    "print(\"Equal\")\n",
    "print(f\"{circle1 == circle2 = } # True\")\n",
    "print(f\"{circle2 == circle3 = } # False\")\n",
    "\n",
    "print(\"Not equal\")\n",
    "print(f\"{circle1 != circle2 = } # False\")\n",
    "print(f\"{circle2 != circle3 = } # True\")\n",
    "\n",
    "print(\"Greater than\")\n",
    "print(f\"{circle1 > circle2 = } # False\")\n",
    "print(f\"{circle3 > circle2 = } # True\")\n",
    "\n",
    "print(\"Less than\")\n",
    "print(f\"{circle1 < circle2 = } # False\")\n",
    "print(f\"{circle2 < circle3 = } # True\")\n",
    "\n",
    "print(\"Greater or equal\")\n",
    "print(f\"{circle1 >= circle2 = } # True\")\n",
    "print(f\"{circle2 >= circle3 = } # False\")\n",
    "\n",
    "print(\"Less or equal\")\n",
    "print(f\"{circle1 <= circle2 = } # True\")\n",
    "print(f\"{circle3 <= circle2 = } # False\")"
   ]
  },
  {
   "cell_type": "markdown",
   "metadata": {},
   "source": [
    "### is_square Rectangel"
   ]
  },
  {
   "cell_type": "code",
   "execution_count": 6,
   "metadata": {},
   "outputs": [
    {
     "name": "stdout",
     "output_type": "stream",
     "text": [
      "True\n",
      "False\n"
     ]
    }
   ],
   "source": [
    "square_rectangel = Rectangle(1, 1, 4, 4)\n",
    "not_square_rectangel = Rectangle(2, 2, 4.4, 4)\n",
    "\n",
    "print(square_rectangel.is_square()) # True\n",
    "print(not_square_rectangel.is_square()) # False"
   ]
  },
  {
   "cell_type": "markdown",
   "metadata": {},
   "source": [
    "### is_unit_circel()"
   ]
  },
  {
   "cell_type": "code",
   "execution_count": 7,
   "metadata": {},
   "outputs": [
    {
     "name": "stdout",
     "output_type": "stream",
     "text": [
      "True\n",
      "False\n"
     ]
    }
   ],
   "source": [
    "cirkel1 = Circle(x=0,y=0, radius=1) # enhetscirkel \n",
    "cirkel2 = Circle(x=1,y=1, radius=1)\n",
    "print(cirkel1.is_unit_circle()) # True, radius = 1\n",
    "print(cirkel2.is_unit_circle()) # False"
   ]
  },
  {
   "cell_type": "markdown",
   "metadata": {},
   "source": [
    "### translate() in GeometryShapes"
   ]
  },
  {
   "cell_type": "code",
   "execution_count": 8,
   "metadata": {},
   "outputs": [
    {
     "name": "stdout",
     "output_type": "stream",
     "text": [
      "The new coordinates for the center of the object is = (3,3)\n",
      "(3, 3)\n",
      "The new coordinates for the center of the object is = (1,3)\n",
      "(1, 3)\n"
     ]
    }
   ],
   "source": [
    "my_box = Rectangle(1, 1, 4, 4)\n",
    "my_box.translate(2, 2)\n",
    "print(f\"({my_box.x}, {my_box.y})\")\n",
    "\n",
    "my_circle = Circle(0, 1, 6)\n",
    "my_circle.translate(1, 2)\n",
    "print(f\"({my_circle.x}, {my_circle.y})\")"
   ]
  },
  {
   "cell_type": "markdown",
   "metadata": {},
   "source": [
    "### is_point_inside()"
   ]
  },
  {
   "cell_type": "code",
   "execution_count": 9,
   "metadata": {},
   "outputs": [
    {
     "name": "stdout",
     "output_type": "stream",
     "text": [
      "False\n",
      "True\n"
     ]
    }
   ],
   "source": [
    "print(my_box.is_point_inside(0.5, 0.5)) # False\n",
    "print(my_box.is_point_inside(3, 3)) # True"
   ]
  }
 ],
 "metadata": {
  "kernelspec": {
   "display_name": "Python 3 (ipykernel)",
   "language": "python",
   "name": "python3"
  },
  "language_info": {
   "codemirror_mode": {
    "name": "ipython",
    "version": 3
   },
   "file_extension": ".py",
   "mimetype": "text/x-python",
   "name": "python",
   "nbconvert_exporter": "python",
   "pygments_lexer": "ipython3",
   "version": "3.11.5"
  }
 },
 "nbformat": 4,
 "nbformat_minor": 4
}
