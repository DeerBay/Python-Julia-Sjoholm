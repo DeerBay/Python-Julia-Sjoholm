{
 "cells": [
  {
   "cell_type": "markdown",
   "metadata": {},
   "source": [
    "# Uppgift 4 \n",
    "(OBS! Arbete gjort efter sista dag för inlämning)"
   ]
  },
  {
   "cell_type": "code",
   "execution_count": 74,
   "metadata": {},
   "outputs": [
    {
     "name": "stdout",
     "output_type": "stream",
     "text": [
      "3\n",
      "[23.63591632187622, 36.46821490673444, 1]\n",
      "[17.714056417303343, 31.44170391314962]\n"
     ]
    }
   ],
   "source": [
    "pokemon_data= []\n",
    "\n",
    "with open('Data\\datapoints.txt') as data_read:\n",
    "    pokemon_lines = data_read.readlines()[1:]\n",
    "    for data in pokemon_lines:\n",
    "        parts = data.split(\",\")\n",
    "        width = float(parts[0])\n",
    "        height = float(parts[1])\n",
    "        pokemon_type = int(parts[2])\n",
    "        pokemon_data.append([width, height, pokemon_type])   \n",
    "\n",
    "pichu_data = [data[:3] for data in pokemon_data if data[2] == 0]\n",
    "pikachu_data = [data[:3] for data in pokemon_data if data[2] == 1]\n",
    "\n",
    "print(len(pichu_data[0]))\n",
    "print(pikachu_data[0])\n",
    "print(pokemon_data[2][0:2])"
   ]
  },
  {
   "cell_type": "code",
   "execution_count": 117,
   "metadata": {},
   "outputs": [],
   "source": [
    "import random\n",
    "import math\n",
    "import matplotlib.pyplot as plt\n",
    "\n",
    "# Split the data with random into 100 training points (50 pichu, 50 pikachu) and 50 test points (25 pichu, 25 pikachu)\n",
    "\n",
    "random.shuffle(pichu_data)\n",
    "random.shuffle(pikachu_data)\n",
    "train_data = pichu_data[:50] + pikachu_data [:50]\n",
    "test_data = pichu_data[50:] + pikachu_data [50:]\n",
    "\n",
    "#Split the x and y in test- and train list\n",
    "train_x = [data[0] for data in train_data]\n",
    "train_y = [data[1] for data in train_data]\n",
    "test_x = [data[0] for data in test_data]\n",
    "test_y = [data[0] for data in test_data]\n",
    "\n",
    "# Calculate the distance to the training points for each testpoints\n",
    "def euclidean_distance(point1, point2):\n",
    "    return math.sqrt((point1[0] - point2[0])**2 + (point1[1] - point2[1])**2)\n",
    "K = 10\n",
    "distances = []\n",
    "TP = [] # Pikachu actual and Pikachu predicted\n",
    "TN = [] # Pichu actual and Pichu predicted\n",
    "FP =[] # Pichu actual and Pikachu predicted\n",
    "FN = [] # Pikachu actual and Pichu predicted\n",
    "\n",
    "# Loop through the test data\n",
    "for test_point in test_data:\n",
    "    distances_for_test_point = []\n",
    "\n",
    "    # Calculate distances to all training points\n",
    "    for train_point in train_data:\n",
    "        distance = euclidean_distance(test_point, train_point)\n",
    "        distances_for_test_point.append(distance)\n",
    "\n",
    "    indices = []\n",
    "    for _ in range(K):\n",
    "        min_distance_index = distances_for_test_point.index(min(distances_for_test_point))\n",
    "        indices.append(min_distance_index)\n",
    "        distances_for_test_point[min_distance_index] = float('inf')  # Set to infinity\n",
    "\n",
    "    pichu_votes = 0\n",
    "    pikachu_votes = 0\n",
    "\n",
    "    for index in indices:\n",
    "        closest_pokemon = train_data[index]\n",
    "        if closest_pokemon[2] == 0:\n",
    "            pichu_votes +=1\n",
    "        else:\n",
    "            pikachu_votes += 1\n",
    "            \n",
    "        # Classify the test point\n",
    "    predicted_label = 0 if pichu_votes > pikachu_votes else 1\n",
    "\n",
    "    # Actual label (assuming it's available in your test data)\n",
    "    actual_label = test_point[2]\n",
    "\n",
    "    # Calculate TP, TN, FP, FN and add to the respective lists\n",
    "    if actual_label == 1 and predicted_label == 1:\n",
    "        TP.append(test_point)\n",
    "    elif actual_label == 0 and predicted_label == 0:\n",
    "        TN.append(test_point)\n",
    "    elif actual_label == 0 and predicted_label == 1:\n",
    "        FP.append(test_point)\n",
    "    elif actual_label == 1 and predicted_label == 0:\n",
    "        FN.append(test_point)\n",
    "\n",
    "accuray = (len(TP)+len(TN)) / len(test_data)\n",
    "\n",
    "# Calculate accuray (accuary = TP+TN)total\n",
    "# Repeat this 10 times\n",
    "# Plot a graph over accuray \n",
    "# Rapport mean value of accuary"
   ]
  }
 ],
 "metadata": {
  "kernelspec": {
   "display_name": "Python-Julia-Sjoholm-dUE-HgBH",
   "language": "python",
   "name": "python3"
  },
  "language_info": {
   "codemirror_mode": {
    "name": "ipython",
    "version": 3
   },
   "file_extension": ".py",
   "mimetype": "text/x-python",
   "name": "python",
   "nbconvert_exporter": "python",
   "pygments_lexer": "ipython3",
   "version": "3.11.5"
  },
  "orig_nbformat": 4
 },
 "nbformat": 4,
 "nbformat_minor": 2
}
