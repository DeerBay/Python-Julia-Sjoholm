{
 "cells": [
  {
   "cell_type": "markdown",
   "metadata": {},
   "source": [
    "# Labb 2\n",
    "\n",
    "**Syftet** med den här laborationen är att använda verktygen vi lärt oss i Python för att implementera en\n",
    "förenklad maskininlärningsalgoritm.\n",
    "\n",
    "I den här laborationen finns (simulerad) data på Pichus och Pikachus längder och bredder. Man ska skapa en\n",
    "algoritm, som baserat på den givna datan, kan avgöra om en ny datapunkt ska klassificeras som Pichu\n",
    "eller Pikachu.\n"
   ]
  },
  {
   "cell_type": "code",
   "execution_count": null,
   "metadata": {},
   "outputs": [],
   "source": [
    "# Packages needed for graphs, matemathical calculations and random.\n",
    "import math\n",
    "import random\n",
    "import matplotlib.pyplot as plt"
   ]
  }
 ],
 "metadata": {
  "language_info": {
   "name": "python"
  },
  "orig_nbformat": 4
 },
 "nbformat": 4,
 "nbformat_minor": 2
}
