{
 "cells": [
  {
   "cell_type": "markdown",
   "metadata": {},
   "source": [
    "# Labb 2\n",
    "\n",
    "**Syftet** med den här laborationen är att använda verktygen vi lärt oss i Python för att implementera en\n",
    "förenklad maskininlärningsalgoritm.\n",
    "\n",
    "I den här laborationen finns (simulerad) data på Pichus och Pikachus längder och bredder. Man ska skapa en\n",
    "algoritm, som baserat på den givna datan, kana avgöra om en ny datapunkt ska klassificeras som Pichu\n",
    "eller Pikachu."
   ]
  },
  {
   "cell_type": "markdown",
   "metadata": {},
   "source": [
    "### Split data into datapoints (datapoints and testpoints)"
   ]
  },
  {
   "cell_type": "code",
   "execution_count": 24,
   "metadata": {},
   "outputs": [],
   "source": [
    "pokemon_data = []\n",
    "# Read data from files and split\n",
    "# Datapoints look like this: 21.959384499160468, 31.23956701424158, 0\n",
    "with open(\"Data/datapoints.txt\", \"r\") as data_read:\n",
    "    lines = data_read.readlines()[1:] \n",
    "    for line in lines:\n",
    "        parts = line.strip().split(\", \")\n",
    "        width = float(parts[0])\n",
    "        height = float(parts[1])\n",
    "        pokemon_type = int(parts[2])\n",
    "        pokemon_data.append([width, height, pokemon_type])  # Use lists instead of tuples\n",
    "\n",
    "# Separate data into Pichus and Pikachus\n",
    "pichu_data = [[width, height, pokemon_type] for width, height, pokemon_type in pokemon_data if pokemon_type == 0]\n",
    "pikachu_data = [[width, height, pokemon_type] for width, height, pokemon_type in pokemon_data if pokemon_type == 1]\n",
    "\n",
    "# Create separate lists for Pichus and Pikachus\n",
    "#countries = [e[0] for e in x], https://stackoverflow.com/questions/28589583/how-to-make-a-new-list-of-first-elements-from-existing-list-of-lists\n",
    "\n",
    "# Create separate lists for Pichus and Pikachus\n",
    "pichu_width = [data[0] for data in pichu_data]\n",
    "pichu_height = [data[1] for data in pichu_data]\n",
    "pikachu_width = [data[0] for data in pikachu_data]\n",
    "pikachu_height = [data[1] for data in pikachu_data]\n",
    "\n",
    "# Read data from file and split\n",
    "# Testpoints look like this: 1. (25, 32)\n",
    "test_points = []\n",
    "with open(\"Data/testpoints.txt\", \"r\") as test_read:\n",
    "    for line in test_read:\n",
    "        line = line.strip()\n",
    "        if \"(\" in line and \")\" in line:\n",
    "            coordinates = line.split(\"(\")[1].split(\")\")[0]\n",
    "            x, y = [float(coordinate) for coordinate in coordinates.split(\",\")]\n",
    "            test_points.append([x, y]) # Use lists instead of tuples\n",
    "\n",
    "# Create separate list for x and y \n",
    "x_coordinates = [data[0] for data in test_points]\n",
    "y_coordinates =[data[1] for data in test_points]\n",
    "# https://www.pythonforbeginners.com/files/the-fastest-way-to-split-a-text-file-using-python\n",
    "# https://www.geeksforgeeks.org/python-rear-element-extraction-from-list-of-tuples-records/"
   ]
  },
  {
   "cell_type": "markdown",
   "metadata": {},
   "source": [
    "### Plott datapoints and testpoints"
   ]
  },
  {
   "cell_type": "markdown",
   "metadata": {},
   "source": [
    "### Write type"
   ]
  },
  {
   "cell_type": "markdown",
   "metadata": {},
   "source": [
    "## Task 1\n",
    "\n",
    "Låt användaren mata in en testpunkt och låt algoritmen avgöra dess klass. Ta med felhanteringen som tar hand om negativa tal och icke-numeriska inputs. Se till att ha användarvänliga felmeddelanden."
   ]
  },
  {
   "cell_type": "markdown",
   "metadata": {},
   "source": [
    "## Task 2 \n",
    "Den approachen vi använt med närmaste punkten kan klassificera fel när punkterna för respektive\n",
    "klass går in i varandra. Nu ska du istället välja de tio närmaste punkterna till din testpunkt. Den klass\n",
    "testpunkten tillhör avgörs av majoritetsröstning av de närmaste punkterna."
   ]
  },
  {
   "cell_type": "code",
   "execution_count": null,
   "metadata": {},
   "outputs": [],
   "source": []
  }
 ],
 "metadata": {
  "kernelspec": {
   "display_name": "Python-Julia-Sjoholm-dUE-HgBH",
   "language": "python",
   "name": "python3"
  },
  "language_info": {
   "codemirror_mode": {
    "name": "ipython",
    "version": 3
   },
   "file_extension": ".py",
   "mimetype": "text/x-python",
   "name": "python",
   "nbconvert_exporter": "python",
   "pygments_lexer": "ipython3",
   "version": "3.11.5"
  },
  "orig_nbformat": 4
 },
 "nbformat": 4,
 "nbformat_minor": 2
}
