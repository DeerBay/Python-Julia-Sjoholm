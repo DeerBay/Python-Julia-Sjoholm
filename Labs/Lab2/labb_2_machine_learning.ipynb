{
 "cells": [
  {
   "cell_type": "markdown",
   "metadata": {},
   "source": [
    "# Labb 2\n",
    "\n",
    "**Syftet** med den här laborationen är att använda verktygen vi lärt oss i Python för att implementera en\n",
    "förenklad maskininlärningsalgoritm.\n",
    "\n",
    "I den här laborationen finns (simulerad) data på Pichus och Pikachus längder och bredder. Man ska skapa en\n",
    "algoritm, som baserat på den givna datan, kana avgöra om en ny datapunkt ska klassificeras som Pichu\n",
    "eller Pikachu."
   ]
  },
  {
   "cell_type": "markdown",
   "metadata": {},
   "source": [
    "### Split data into datapoints (datapoints and testpoints)"
   ]
  },
  {
   "cell_type": "code",
   "execution_count": null,
   "metadata": {},
   "outputs": [],
   "source": [
    "pokemon_data = []\n",
    "# Read data from files and split\n",
    "# Datapoints look like this: 21.959384499160468, 31.23956701424158, 0\n",
    "with open(\"Data/datapoints.txt\", \"r\") as data_read:\n",
    "    lines = data_read.readlines()[1:] \n",
    "    for line in lines:\n",
    "        parts = line.strip().split(\", \")\n",
    "        width = float(parts[0])\n",
    "        height = float(parts[1])\n",
    "        pokemon_type = int(parts[2])\n",
    "        pokemon_data.append((width, height, pokemon_type))\n",
    "\n",
    "test_points = []\n",
    "with open(\"Data/testpoints.txt\", \"r\") as test_read:\n",
    "    for line in test_read:\n",
    "        line = line.strip()\n",
    "        if \"(\" in line and \")\" in line:\n",
    "            coordinates = line.split(\"(\")[1].split(\")\")[0]\n",
    "            x, y = [float(coordinate) for coordinate in coordinates.split(\",\")]\n",
    "            test_points.append((x, y))\n",
    "            print(f\"x: {x}, y: {y}\")\n",
    "\n",
    "x_coordinates = [point[0] for point in test_points]\n",
    "y_coordinates = [point[1] for point in test_points]"
   ]
  },
  {
   "cell_type": "markdown",
   "metadata": {},
   "source": [
    "### Plott datapoints and testpoints"
   ]
  },
  {
   "cell_type": "code",
   "execution_count": null,
   "metadata": {},
   "outputs": [],
   "source": []
  },
  {
   "cell_type": "markdown",
   "metadata": {},
   "source": [
    "### Write type"
   ]
  },
  {
   "cell_type": "markdown",
   "metadata": {},
   "source": [
    "## Task 1\n",
    "\n",
    "Låt användaren mata in en testpunkt och låt algoritmen avgöra dess klass. Ta med felhanteringen som tar hand om negativa tal och icke-numeriska inputs. Se till att ha användarvänliga felmeddelanden."
   ]
  },
  {
   "cell_type": "markdown",
   "metadata": {},
   "source": [
    "## Task 2 \n",
    "Den approachen vi använt med närmaste punkten kan klassificera fel när punkterna för respektive\n",
    "klass går in i varandra. Nu ska du istället välja de tio närmaste punkterna till din testpunkt. Den klass\n",
    "testpunkten tillhör avgörs av majoritetsröstning av de närmaste punkterna."
   ]
  },
  {
   "cell_type": "code",
   "execution_count": null,
   "metadata": {},
   "outputs": [],
   "source": []
  }
 ],
 "metadata": {
  "kernelspec": {
   "display_name": "Python-Julia-Sjoholm-dUE-HgBH",
   "language": "python",
   "name": "python3"
  },
  "language_info": {
   "codemirror_mode": {
    "name": "ipython",
    "version": 3
   },
   "file_extension": ".py",
   "mimetype": "text/x-python",
   "name": "python",
   "nbconvert_exporter": "python",
   "pygments_lexer": "ipython3",
   "version": "3.11.5"
  },
  "orig_nbformat": 4
 },
 "nbformat": 4,
 "nbformat_minor": 2
}
