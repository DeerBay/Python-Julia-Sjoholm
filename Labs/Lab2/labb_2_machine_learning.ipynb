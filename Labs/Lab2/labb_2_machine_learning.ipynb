{
 "cells": [
  {
   "cell_type": "markdown",
   "metadata": {},
   "source": [
    "# Labb 2\n",
    "\n",
    "**Syftet** med den här laborationen är att använda verktygen vi lärt oss i Python för att implementera en\n",
    "förenklad maskininlärningsalgoritm.\n",
    "\n",
    "I den här laborationen finns (simulerad) data på Pichus och Pikachus längder och bredder. Man ska skapa en\n",
    "algoritm, som baserat på den givna datan, kana avgöra om en ny datapunkt ska klassificeras som Pichu\n",
    "eller Pikachu."
   ]
  },
  {
   "cell_type": "markdown",
   "metadata": {},
   "source": [
    "## Split data into datapoints (datapoints and testpoints)"
   ]
  },
  {
   "cell_type": "code",
   "execution_count": null,
   "metadata": {},
   "outputs": [],
   "source": []
  }
 ],
 "metadata": {
  "kernelspec": {
   "display_name": "Python-Julia-Sjoholm-dUE-HgBH",
   "language": "python",
   "name": "python3"
  },
  "language_info": {
   "name": "python",
   "version": "3.11.5"
  },
  "orig_nbformat": 4
 },
 "nbformat": 4,
 "nbformat_minor": 2
}
