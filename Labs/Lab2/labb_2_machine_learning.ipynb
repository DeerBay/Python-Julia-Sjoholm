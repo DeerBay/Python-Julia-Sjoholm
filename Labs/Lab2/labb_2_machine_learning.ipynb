{
 "cells": [
  {
   "cell_type": "markdown",
   "metadata": {},
   "source": [
    "# Labb 2\n",
    "\n",
    "**Syftet** med den här laborationen är att använda verktygen vi lärt oss i Python för att implementera en\n",
    "förenklad maskininlärningsalgoritm.\n",
    "\n",
    "I den här laborationen finns (simulerad) data på Pichus och Pikachus längder och bredder. Man ska skapa en\n",
    "algoritm, som baserat på den givna datan, kana avgöra om en ny datapunkt ska klassificeras som Pichu\n",
    "eller Pikachu."
   ]
  },
  {
   "cell_type": "markdown",
   "metadata": {},
   "source": [
    "### Split data into datapoints (datapoints and testpoints)"
   ]
  },
  {
   "cell_type": "markdown",
   "metadata": {},
   "source": [
    "### Plott datapoints and testpoints"
   ]
  },
  {
   "cell_type": "code",
   "execution_count": null,
   "metadata": {},
   "outputs": [],
   "source": []
  },
  {
   "cell_type": "markdown",
   "metadata": {},
   "source": [
    "### Write type"
   ]
  },
  {
   "cell_type": "markdown",
   "metadata": {},
   "source": [
    "## Task 1\n",
    "\n",
    "Låt användaren mata in en testpunkt och låt algoritmen avgöra dess klass. Ta med felhanteringen som tar hand om negativa tal och icke-numeriska inputs. Se till att ha användarvänliga felmeddelanden."
   ]
  },
  {
   "cell_type": "markdown",
   "metadata": {},
   "source": [
    "## Task 2 \n",
    "Den approachen vi använt med närmaste punkten kan klassificera fel när punkterna för respektive\n",
    "klass går in i varandra. Nu ska du istället välja de tio närmaste punkterna till din testpunkt. Den klass\n",
    "testpunkten tillhör avgörs av majoritetsröstning av de närmaste punkterna."
   ]
  },
  {
   "cell_type": "code",
   "execution_count": null,
   "metadata": {},
   "outputs": [],
   "source": []
  }
 ],
 "metadata": {
  "kernelspec": {
   "display_name": "Python-Julia-Sjoholm-dUE-HgBH",
   "language": "python",
   "name": "python3"
  },
  "language_info": {
   "name": "python",
   "version": "3.11.5"
  },
  "orig_nbformat": 4
 },
 "nbformat": 4,
 "nbformat_minor": 2
}
